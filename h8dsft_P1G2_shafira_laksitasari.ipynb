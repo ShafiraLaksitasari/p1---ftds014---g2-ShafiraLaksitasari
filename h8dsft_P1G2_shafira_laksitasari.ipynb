{
 "cells": [
  {
   "cell_type": "markdown",
   "metadata": {},
   "source": [
    "# 1 - Introduction"
   ]
  },
  {
   "cell_type": "markdown",
   "metadata": {},
   "source": [
    "SELECT  age, workclass, education, education_num, marital_status, occupation, relationship, race, sex, capital_gain, capital_loss, hours_per_week, native_country, income_bracket\n",
    "FROM `bigquery-public-data.ml_datasets.census_adult_income`\n",
    "WHERE (workclass!=' ?' AND hours_per_week < 100)\n",
    "LIMIT 27972;\n",
    "\n",
    "(My Born Year is 1998, so 14 X 1998= 27972)"
   ]
  },
  {
   "cell_type": "markdown",
   "metadata": {},
   "source": [
    "## Identity\n",
    "<p> Name : Shafira Laksitasari </p>\n",
    "<p> Batch : FTDS-014 </p>\n",
    "<p> Dataset : Adult Income Dataset  </p>\n",
    "<p> Objective : Predicting Income Bracket </p>\n",
    "\n",
    "## Description\n",
    "This data contains the identity of several adult in United States and their income. In the data that has been provided, there are the following column including in dataset: Age, Workclass, Education, Marital-status, Occupation, Relationship, Race, Sex, Capital-gain, Capital-loss, Hours-per-week, Native-country, and income bracket. \n",
    "\n",
    "## Objective\n",
    "Create a Classification model using Logistic Regression and SVM to predict the income bracket using the dataset that you have saved."
   ]
  },
  {
   "cell_type": "markdown",
   "metadata": {},
   "source": [
    "# 2 - Import Libraries"
   ]
  },
  {
   "cell_type": "code",
   "execution_count": 105,
   "metadata": {},
   "outputs": [],
   "source": [
    "import pandas as pd\n",
    "import numpy as np\n",
    "import seaborn as sns\n",
    "import matplotlib.pyplot as plt\n",
    "# Split\n",
    "from bitarray import test\n",
    "from sklearn.model_selection import train_test_split\n",
    "\n",
    "from sklearn.preprocessing import StandardScaler, OneHotEncoder\n",
    "from sklearn.linear_model import LogisticRegression\n",
    "from sklearn.metrics import accuracy_score,classification_report,ConfusionMatrixDisplay,confusion_matrix # Hapus yang tidak dipakai\n",
    "\n",
    "from sklearn import datasets\n",
    "from sklearn.svm import SVC"
   ]
  },
  {
   "cell_type": "markdown",
   "metadata": {},
   "source": [
    "# 3 - Data Loading"
   ]
  },
  {
   "cell_type": "code",
   "execution_count": 106,
   "metadata": {},
   "outputs": [],
   "source": [
    "# Display max column\n",
    "pd.set_option(\"display.max.columns\", None)"
   ]
  },
  {
   "cell_type": "markdown",
   "metadata": {},
   "source": [
    "Uploading dataset continue by getting rid the space at the front oh each string value."
   ]
  },
  {
   "cell_type": "code",
   "execution_count": 107,
   "metadata": {},
   "outputs": [
    {
     "data": {
      "text/html": [
       "<div>\n",
       "<style scoped>\n",
       "    .dataframe tbody tr th:only-of-type {\n",
       "        vertical-align: middle;\n",
       "    }\n",
       "\n",
       "    .dataframe tbody tr th {\n",
       "        vertical-align: top;\n",
       "    }\n",
       "\n",
       "    .dataframe thead th {\n",
       "        text-align: right;\n",
       "    }\n",
       "</style>\n",
       "<table border=\"1\" class=\"dataframe\">\n",
       "  <thead>\n",
       "    <tr style=\"text-align: right;\">\n",
       "      <th></th>\n",
       "      <th>age</th>\n",
       "      <th>workclass</th>\n",
       "      <th>education</th>\n",
       "      <th>education_num</th>\n",
       "      <th>marital_status</th>\n",
       "      <th>occupation</th>\n",
       "      <th>relationship</th>\n",
       "      <th>race</th>\n",
       "      <th>sex</th>\n",
       "      <th>capital_gain</th>\n",
       "      <th>capital_loss</th>\n",
       "      <th>hours_per_week</th>\n",
       "      <th>native_country</th>\n",
       "      <th>income_bracket</th>\n",
       "    </tr>\n",
       "  </thead>\n",
       "  <tbody>\n",
       "    <tr>\n",
       "      <th>0</th>\n",
       "      <td>39</td>\n",
       "      <td>Private</td>\n",
       "      <td>9th</td>\n",
       "      <td>5</td>\n",
       "      <td>Married-civ-spouse</td>\n",
       "      <td>Other-service</td>\n",
       "      <td>Wife</td>\n",
       "      <td>Black</td>\n",
       "      <td>Female</td>\n",
       "      <td>3411</td>\n",
       "      <td>0</td>\n",
       "      <td>34</td>\n",
       "      <td>United-States</td>\n",
       "      <td>&lt;=50K</td>\n",
       "    </tr>\n",
       "    <tr>\n",
       "      <th>1</th>\n",
       "      <td>72</td>\n",
       "      <td>Private</td>\n",
       "      <td>9th</td>\n",
       "      <td>5</td>\n",
       "      <td>Married-civ-spouse</td>\n",
       "      <td>Exec-managerial</td>\n",
       "      <td>Wife</td>\n",
       "      <td>Asian-Pac-Islander</td>\n",
       "      <td>Female</td>\n",
       "      <td>0</td>\n",
       "      <td>0</td>\n",
       "      <td>48</td>\n",
       "      <td>United-States</td>\n",
       "      <td>&gt;50K</td>\n",
       "    </tr>\n",
       "    <tr>\n",
       "      <th>2</th>\n",
       "      <td>45</td>\n",
       "      <td>Private</td>\n",
       "      <td>9th</td>\n",
       "      <td>5</td>\n",
       "      <td>Married-civ-spouse</td>\n",
       "      <td>Machine-op-inspct</td>\n",
       "      <td>Wife</td>\n",
       "      <td>White</td>\n",
       "      <td>Female</td>\n",
       "      <td>0</td>\n",
       "      <td>0</td>\n",
       "      <td>40</td>\n",
       "      <td>United-States</td>\n",
       "      <td>&gt;50K</td>\n",
       "    </tr>\n",
       "    <tr>\n",
       "      <th>3</th>\n",
       "      <td>31</td>\n",
       "      <td>Private</td>\n",
       "      <td>9th</td>\n",
       "      <td>5</td>\n",
       "      <td>Married-civ-spouse</td>\n",
       "      <td>Exec-managerial</td>\n",
       "      <td>Wife</td>\n",
       "      <td>White</td>\n",
       "      <td>Female</td>\n",
       "      <td>0</td>\n",
       "      <td>0</td>\n",
       "      <td>40</td>\n",
       "      <td>United-States</td>\n",
       "      <td>&lt;=50K</td>\n",
       "    </tr>\n",
       "    <tr>\n",
       "      <th>4</th>\n",
       "      <td>55</td>\n",
       "      <td>Private</td>\n",
       "      <td>9th</td>\n",
       "      <td>5</td>\n",
       "      <td>Married-civ-spouse</td>\n",
       "      <td>Tech-support</td>\n",
       "      <td>Wife</td>\n",
       "      <td>White</td>\n",
       "      <td>Female</td>\n",
       "      <td>0</td>\n",
       "      <td>0</td>\n",
       "      <td>23</td>\n",
       "      <td>United-States</td>\n",
       "      <td>&lt;=50K</td>\n",
       "    </tr>\n",
       "    <tr>\n",
       "      <th>...</th>\n",
       "      <td>...</td>\n",
       "      <td>...</td>\n",
       "      <td>...</td>\n",
       "      <td>...</td>\n",
       "      <td>...</td>\n",
       "      <td>...</td>\n",
       "      <td>...</td>\n",
       "      <td>...</td>\n",
       "      <td>...</td>\n",
       "      <td>...</td>\n",
       "      <td>...</td>\n",
       "      <td>...</td>\n",
       "      <td>...</td>\n",
       "      <td>...</td>\n",
       "    </tr>\n",
       "    <tr>\n",
       "      <th>27967</th>\n",
       "      <td>22</td>\n",
       "      <td>State-gov</td>\n",
       "      <td>Assoc-acdm</td>\n",
       "      <td>12</td>\n",
       "      <td>Never-married</td>\n",
       "      <td>Adm-clerical</td>\n",
       "      <td>Not-in-family</td>\n",
       "      <td>White</td>\n",
       "      <td>Male</td>\n",
       "      <td>0</td>\n",
       "      <td>0</td>\n",
       "      <td>40</td>\n",
       "      <td>United-States</td>\n",
       "      <td>&lt;=50K</td>\n",
       "    </tr>\n",
       "    <tr>\n",
       "      <th>27968</th>\n",
       "      <td>26</td>\n",
       "      <td>Private</td>\n",
       "      <td>Assoc-acdm</td>\n",
       "      <td>12</td>\n",
       "      <td>Never-married</td>\n",
       "      <td>Other-service</td>\n",
       "      <td>Not-in-family</td>\n",
       "      <td>White</td>\n",
       "      <td>Male</td>\n",
       "      <td>0</td>\n",
       "      <td>0</td>\n",
       "      <td>40</td>\n",
       "      <td>United-States</td>\n",
       "      <td>&lt;=50K</td>\n",
       "    </tr>\n",
       "    <tr>\n",
       "      <th>27969</th>\n",
       "      <td>47</td>\n",
       "      <td>Private</td>\n",
       "      <td>Assoc-acdm</td>\n",
       "      <td>12</td>\n",
       "      <td>Never-married</td>\n",
       "      <td>Adm-clerical</td>\n",
       "      <td>Not-in-family</td>\n",
       "      <td>White</td>\n",
       "      <td>Female</td>\n",
       "      <td>0</td>\n",
       "      <td>0</td>\n",
       "      <td>40</td>\n",
       "      <td>United-States</td>\n",
       "      <td>&lt;=50K</td>\n",
       "    </tr>\n",
       "    <tr>\n",
       "      <th>27970</th>\n",
       "      <td>59</td>\n",
       "      <td>Self-emp-not-inc</td>\n",
       "      <td>Assoc-acdm</td>\n",
       "      <td>12</td>\n",
       "      <td>Divorced</td>\n",
       "      <td>Tech-support</td>\n",
       "      <td>Not-in-family</td>\n",
       "      <td>White</td>\n",
       "      <td>Male</td>\n",
       "      <td>0</td>\n",
       "      <td>0</td>\n",
       "      <td>40</td>\n",
       "      <td>United-States</td>\n",
       "      <td>&lt;=50K</td>\n",
       "    </tr>\n",
       "    <tr>\n",
       "      <th>27971</th>\n",
       "      <td>50</td>\n",
       "      <td>Self-emp-not-inc</td>\n",
       "      <td>Assoc-acdm</td>\n",
       "      <td>12</td>\n",
       "      <td>Never-married</td>\n",
       "      <td>Sales</td>\n",
       "      <td>Not-in-family</td>\n",
       "      <td>White</td>\n",
       "      <td>Female</td>\n",
       "      <td>0</td>\n",
       "      <td>1408</td>\n",
       "      <td>5</td>\n",
       "      <td>United-States</td>\n",
       "      <td>&lt;=50K</td>\n",
       "    </tr>\n",
       "  </tbody>\n",
       "</table>\n",
       "<p>27972 rows × 14 columns</p>\n",
       "</div>"
      ],
      "text/plain": [
       "       age         workclass   education  education_num      marital_status  \\\n",
       "0       39           Private         9th              5  Married-civ-spouse   \n",
       "1       72           Private         9th              5  Married-civ-spouse   \n",
       "2       45           Private         9th              5  Married-civ-spouse   \n",
       "3       31           Private         9th              5  Married-civ-spouse   \n",
       "4       55           Private         9th              5  Married-civ-spouse   \n",
       "...    ...               ...         ...            ...                 ...   \n",
       "27967   22         State-gov  Assoc-acdm             12       Never-married   \n",
       "27968   26           Private  Assoc-acdm             12       Never-married   \n",
       "27969   47           Private  Assoc-acdm             12       Never-married   \n",
       "27970   59  Self-emp-not-inc  Assoc-acdm             12            Divorced   \n",
       "27971   50  Self-emp-not-inc  Assoc-acdm             12       Never-married   \n",
       "\n",
       "              occupation   relationship                race     sex  \\\n",
       "0          Other-service           Wife               Black  Female   \n",
       "1        Exec-managerial           Wife  Asian-Pac-Islander  Female   \n",
       "2      Machine-op-inspct           Wife               White  Female   \n",
       "3        Exec-managerial           Wife               White  Female   \n",
       "4           Tech-support           Wife               White  Female   \n",
       "...                  ...            ...                 ...     ...   \n",
       "27967       Adm-clerical  Not-in-family               White    Male   \n",
       "27968      Other-service  Not-in-family               White    Male   \n",
       "27969       Adm-clerical  Not-in-family               White  Female   \n",
       "27970       Tech-support  Not-in-family               White    Male   \n",
       "27971              Sales  Not-in-family               White  Female   \n",
       "\n",
       "       capital_gain  capital_loss  hours_per_week native_country  \\\n",
       "0              3411             0              34  United-States   \n",
       "1                 0             0              48  United-States   \n",
       "2                 0             0              40  United-States   \n",
       "3                 0             0              40  United-States   \n",
       "4                 0             0              23  United-States   \n",
       "...             ...           ...             ...            ...   \n",
       "27967             0             0              40  United-States   \n",
       "27968             0             0              40  United-States   \n",
       "27969             0             0              40  United-States   \n",
       "27970             0             0              40  United-States   \n",
       "27971             0          1408               5  United-States   \n",
       "\n",
       "      income_bracket  \n",
       "0              <=50K  \n",
       "1               >50K  \n",
       "2               >50K  \n",
       "3              <=50K  \n",
       "4              <=50K  \n",
       "...              ...  \n",
       "27967          <=50K  \n",
       "27968          <=50K  \n",
       "27969          <=50K  \n",
       "27970          <=50K  \n",
       "27971          <=50K  \n",
       "\n",
       "[27972 rows x 14 columns]"
      ]
     },
     "execution_count": 107,
     "metadata": {},
     "output_type": "execute_result"
    }
   ],
   "source": [
    "# Import data\n",
    "df = pd.read_csv('h8dsft_P1G2_shafira_laksitasari.csv', skipinitialspace=True)\n",
    "df"
   ]
  },
  {
   "cell_type": "code",
   "execution_count": 108,
   "metadata": {},
   "outputs": [
    {
     "name": "stdout",
     "output_type": "stream",
     "text": [
      "<class 'pandas.core.frame.DataFrame'>\n",
      "RangeIndex: 27972 entries, 0 to 27971\n",
      "Data columns (total 14 columns):\n",
      " #   Column          Non-Null Count  Dtype \n",
      "---  ------          --------------  ----- \n",
      " 0   age             27972 non-null  int64 \n",
      " 1   workclass       27972 non-null  object\n",
      " 2   education       27972 non-null  object\n",
      " 3   education_num   27972 non-null  int64 \n",
      " 4   marital_status  27972 non-null  object\n",
      " 5   occupation      27972 non-null  object\n",
      " 6   relationship    27972 non-null  object\n",
      " 7   race            27972 non-null  object\n",
      " 8   sex             27972 non-null  object\n",
      " 9   capital_gain    27972 non-null  int64 \n",
      " 10  capital_loss    27972 non-null  int64 \n",
      " 11  hours_per_week  27972 non-null  int64 \n",
      " 12  native_country  27972 non-null  object\n",
      " 13  income_bracket  27972 non-null  object\n",
      "dtypes: int64(5), object(9)\n",
      "memory usage: 3.0+ MB\n"
     ]
    }
   ],
   "source": [
    "# Check Dataset info\n",
    "df.info()"
   ]
  },
  {
   "cell_type": "markdown",
   "metadata": {},
   "source": [
    "The dataset consists of numerical and categorical. There is no null data in the data set, however if checked one by one there are question mark(?) values in occupation and native country. As for the data type, all data are compatible with the Dtype."
   ]
  },
  {
   "cell_type": "code",
   "execution_count": 109,
   "metadata": {},
   "outputs": [
    {
     "data": {
      "text/html": [
       "<div>\n",
       "<style scoped>\n",
       "    .dataframe tbody tr th:only-of-type {\n",
       "        vertical-align: middle;\n",
       "    }\n",
       "\n",
       "    .dataframe tbody tr th {\n",
       "        vertical-align: top;\n",
       "    }\n",
       "\n",
       "    .dataframe thead th {\n",
       "        text-align: right;\n",
       "    }\n",
       "</style>\n",
       "<table border=\"1\" class=\"dataframe\">\n",
       "  <thead>\n",
       "    <tr style=\"text-align: right;\">\n",
       "      <th></th>\n",
       "      <th>count</th>\n",
       "      <th>mean</th>\n",
       "      <th>std</th>\n",
       "      <th>min</th>\n",
       "      <th>25%</th>\n",
       "      <th>50%</th>\n",
       "      <th>75%</th>\n",
       "      <th>max</th>\n",
       "    </tr>\n",
       "  </thead>\n",
       "  <tbody>\n",
       "    <tr>\n",
       "      <th>age</th>\n",
       "      <td>27972.0</td>\n",
       "      <td>38.726548</td>\n",
       "      <td>13.040713</td>\n",
       "      <td>17.0</td>\n",
       "      <td>28.0</td>\n",
       "      <td>37.0</td>\n",
       "      <td>47.0</td>\n",
       "      <td>90.0</td>\n",
       "    </tr>\n",
       "    <tr>\n",
       "      <th>education_num</th>\n",
       "      <td>27972.0</td>\n",
       "      <td>10.160410</td>\n",
       "      <td>2.611301</td>\n",
       "      <td>1.0</td>\n",
       "      <td>9.0</td>\n",
       "      <td>10.0</td>\n",
       "      <td>13.0</td>\n",
       "      <td>16.0</td>\n",
       "    </tr>\n",
       "    <tr>\n",
       "      <th>capital_gain</th>\n",
       "      <td>27972.0</td>\n",
       "      <td>1161.765623</td>\n",
       "      <td>7709.490301</td>\n",
       "      <td>0.0</td>\n",
       "      <td>0.0</td>\n",
       "      <td>0.0</td>\n",
       "      <td>0.0</td>\n",
       "      <td>99999.0</td>\n",
       "    </tr>\n",
       "    <tr>\n",
       "      <th>capital_loss</th>\n",
       "      <td>27972.0</td>\n",
       "      <td>91.466645</td>\n",
       "      <td>410.643805</td>\n",
       "      <td>0.0</td>\n",
       "      <td>0.0</td>\n",
       "      <td>0.0</td>\n",
       "      <td>0.0</td>\n",
       "      <td>4356.0</td>\n",
       "    </tr>\n",
       "    <tr>\n",
       "      <th>hours_per_week</th>\n",
       "      <td>27972.0</td>\n",
       "      <td>41.101494</td>\n",
       "      <td>12.019137</td>\n",
       "      <td>1.0</td>\n",
       "      <td>40.0</td>\n",
       "      <td>40.0</td>\n",
       "      <td>45.0</td>\n",
       "      <td>99.0</td>\n",
       "    </tr>\n",
       "  </tbody>\n",
       "</table>\n",
       "</div>"
      ],
      "text/plain": [
       "                  count         mean          std   min   25%   50%   75%  \\\n",
       "age             27972.0    38.726548    13.040713  17.0  28.0  37.0  47.0   \n",
       "education_num   27972.0    10.160410     2.611301   1.0   9.0  10.0  13.0   \n",
       "capital_gain    27972.0  1161.765623  7709.490301   0.0   0.0   0.0   0.0   \n",
       "capital_loss    27972.0    91.466645   410.643805   0.0   0.0   0.0   0.0   \n",
       "hours_per_week  27972.0    41.101494    12.019137   1.0  40.0  40.0  45.0   \n",
       "\n",
       "                    max  \n",
       "age                90.0  \n",
       "education_num      16.0  \n",
       "capital_gain    99999.0  \n",
       "capital_loss     4356.0  \n",
       "hours_per_week     99.0  "
      ]
     },
     "execution_count": 109,
     "metadata": {},
     "output_type": "execute_result"
    }
   ],
   "source": [
    "# Check Dataset for mean, std, min, qartile, and max\n",
    "\n",
    "df.describe().T"
   ]
  },
  {
   "cell_type": "markdown",
   "metadata": {},
   "source": [
    "Based on the data description above, there are 27972 adult income data. The youngest worker is 17 years old while the oldest is 90 years old with the average working person being 38.7 years old.\n",
    "The minimum education of people who work from the dataset is 1 (pre-school) while the maximum education is 16 (Doctorate)."
   ]
  },
  {
   "cell_type": "markdown",
   "metadata": {},
   "source": [
    "# 4 - Exploratory Data Analysis (EDA)"
   ]
  },
  {
   "cell_type": "markdown",
   "metadata": {},
   "source": [
    "Previously based on the objective our target is to predicted income bracket whether they are less or equal than $50000 or more tha $50000. "
   ]
  },
  {
   "cell_type": "code",
   "execution_count": 110,
   "metadata": {},
   "outputs": [
    {
     "data": {
      "image/png": "[encoded data removed]",
      "text/plain": [
       "<Figure size 432x288 with 1 Axes>"
      ]
     },
     "metadata": {
      "needs_background": "light"
     },
     "output_type": "display_data"
    }
   ],
   "source": [
    "sns.countplot(x='income_bracket', data=df, palette=[\"#8cbf60\", '#154f30'])\n",
    "plt.title('Income Bracket Total')\n",
    "plt.show()"
   ]
  },
  {
   "cell_type": "code",
   "execution_count": 111,
   "metadata": {},
   "outputs": [
    {
     "data": {
      "text/plain": [
       "<=50K    20536\n",
       ">50K      7436\n",
       "Name: income_bracket, dtype: int64"
      ]
     },
     "execution_count": 111,
     "metadata": {},
     "output_type": "execute_result"
    }
   ],
   "source": [
    "df['income_bracket'].value_counts()"
   ]
  },
  {
   "cell_type": "markdown",
   "metadata": {},
   "source": [
    "There are give datas which need to be categorized later. A total of 20536 workers whose income group is less or equal than $50000. While the remaining 7436 income groups are more than $50000. It can be said that the data between 'income_bracket' less or equal $50000 (<= 50K) and more than $50000 (> 50K) are very imbalanced which is accurate because based on real case not many people consider as wealthy."
   ]
  },
  {
   "cell_type": "code",
   "execution_count": 112,
   "metadata": {},
   "outputs": [
    {
     "data": {
      "image/png": "[encoded data removed]",
      "text/plain": [
       "<Figure size 432x288 with 1 Axes>"
      ]
     },
     "metadata": {
      "needs_background": "light"
     },
     "output_type": "display_data"
    }
   ],
   "source": [
    "sns.countplot(x='income_bracket', data=df, hue='sex', palette=['#d147ac', 'blue'])\n",
    "plt.title('Cab Type with Distance and Price Comparison')\n",
    "plt.show()"
   ]
  },
  {
   "cell_type": "code",
   "execution_count": 113,
   "metadata": {},
   "outputs": [
    {
     "data": {
      "text/plain": [
       "sex     income_bracket\n",
       "Female  <=50K              7595\n",
       "Male    <=50K             12941\n",
       "Female  >50K               1060\n",
       "Male    >50K               6376\n",
       "Name: workclass, dtype: int64"
      ]
     },
     "execution_count": 113,
     "metadata": {},
     "output_type": "execute_result"
    }
   ],
   "source": [
    "df.groupby(['sex','income_bracket']).count().sort_values(by='income_bracket')['workclass']"
   ]
  },
  {
   "cell_type": "markdown",
   "metadata": {},
   "source": [
    "In both income groups, each group is dominated by male. It can be concluded that the data is mostly fulfilled by male. This could be because male usually have more responsibility to earn a living for their families rather than female. It is also supported from the marital status and relationship graph below that most of the adult category who has source income is Married-civ-spouse and a husband. This proportion not even included male in another category yet."
   ]
  },
  {
   "cell_type": "code",
   "execution_count": 114,
   "metadata": {},
   "outputs": [
    {
     "data": {
      "text/plain": [
       "<AxesSubplot:xlabel='relationship', ylabel='count'>"
      ]
     },
     "execution_count": 114,
     "metadata": {},
     "output_type": "execute_result"
    },
    {
     "data": {
      "image/png": "[encoded data removed]",
      "text/plain": [
       "<Figure size 1728x360 with 2 Axes>"
      ]
     },
     "metadata": {
      "needs_background": "light"
     },
     "output_type": "display_data"
    }
   ],
   "source": [
    "fig, ax =plt.subplots(1,2, figsize = (24,5))\n",
    "sns.countplot(x='marital_status', data=df, order = df.marital_status.value_counts().index, hue='sex', palette=['#d147ac', 'blue'], ax=ax[0])\n",
    "sns.countplot(x='relationship', data=df, order = df.relationship.value_counts().index, hue='sex', palette=['#d147ac', 'blue'], ax=ax[1])"
   ]
  },
  {
   "cell_type": "markdown",
   "metadata": {},
   "source": [
    "What distinguishes between female and male later is the status in marriage (wife or husband). Because if not married then both are considered the same. For this reason, sex in general will not really affect the income bracket."
   ]
  },
  {
   "cell_type": "code",
   "execution_count": 115,
   "metadata": {},
   "outputs": [
    {
     "data": {
      "text/plain": [
       "<AxesSubplot:xlabel='relationship', ylabel='count'>"
      ]
     },
     "execution_count": 115,
     "metadata": {},
     "output_type": "execute_result"
    },
    {
     "data": {
      "image/png": "[encoded data removed]",
      "text/plain": [
       "<Figure size 1728x360 with 2 Axes>"
      ]
     },
     "metadata": {
      "needs_background": "light"
     },
     "output_type": "display_data"
    }
   ],
   "source": [
    "fig, ax =plt.subplots(1,2, figsize = (24,5))\n",
    "sns.countplot(x='marital_status', data=df, order = df.marital_status.value_counts().index, hue='income_bracket', palette=[\"#8cbf60\", '#154f30'], ax=ax[0])\n",
    "sns.countplot(x='relationship', data=df, order = df.relationship.value_counts().index, hue='income_bracket', palette=[\"#8cbf60\", '#154f30'], ax=ax[1])"
   ]
  },
  {
   "cell_type": "markdown",
   "metadata": {},
   "source": [
    "Apart from comparison based on sex, marital status and relationship features can also be seen based on income bracket. The most income earners of more than 50K still fall on Married-civ-spouse and Husband. The others comparison of income bracket also seem significant except for wife in relationship category."
   ]
  },
  {
   "cell_type": "code",
   "execution_count": 116,
   "metadata": {},
   "outputs": [
    {
     "data": {
      "image/png": "[encoded data removed]",
      "text/plain": [
       "<Figure size 864x360 with 1 Axes>"
      ]
     },
     "metadata": {
      "needs_background": "light"
     },
     "output_type": "display_data"
    }
   ],
   "source": [
    "plt.figure(figsize = (12,5))\n",
    "sns.countplot(x='race', data=df, hue='income_bracket', palette=[\"#8cbf60\", '#154f30'])\n",
    "plt.title('Cab Type with Distance and Price Comparison')\n",
    "plt.show()"
   ]
  },
  {
   "cell_type": "code",
   "execution_count": 117,
   "metadata": {},
   "outputs": [
    {
     "data": {
      "text/plain": [
       "race                income_bracket\n",
       "Amer-Indian-Eskimo  <=50K               229\n",
       "                    >50K                 33\n",
       "Asian-Pac-Islander  <=50K               592\n",
       "                    >50K                258\n",
       "Black               <=50K              2205\n",
       "                    >50K                366\n",
       "Other               <=50K               188\n",
       "                    >50K                 20\n",
       "White               <=50K             17322\n",
       "                    >50K               6759\n",
       "Name: income_bracket, dtype: int64"
      ]
     },
     "execution_count": 117,
     "metadata": {},
     "output_type": "execute_result"
    }
   ],
   "source": [
    "df.groupby(['race','income_bracket'])['income_bracket'].count()"
   ]
  },
  {
   "cell_type": "markdown",
   "metadata": {},
   "source": [
    "We also can see all the races in the data and compare each of income. The most dominating race is Caucasian (White) in both income bracket group. But since white is the largest race from the dataset this is understandable because the race is the most numerous in the US. From the comparison itself, it can be said that it is significant between the two income brackets in each race. We can see the race composition for whole race from the pie chart below. "
   ]
  },
  {
   "cell_type": "code",
   "execution_count": 118,
   "metadata": {},
   "outputs": [
    {
     "data": {
      "image/png": "[encoded data removed]",
      "text/plain": [
       "<Figure size 1080x576 with 1 Axes>"
      ]
     },
     "metadata": {},
     "output_type": "display_data"
    }
   ],
   "source": [
    "pie_chart_race_name = df['race'].value_counts().index.tolist()\n",
    "pie_chart_race_total = df['race'].value_counts().tolist()\n",
    "\n",
    "plt.figure(figsize = (15,8))\n",
    "plt.pie(pie_chart_race_total, labels = pie_chart_race_name, autopct='%.0f%%')\n",
    "plt.show()"
   ]
  },
  {
   "cell_type": "code",
   "execution_count": 119,
   "metadata": {},
   "outputs": [
    {
     "data": {
      "text/plain": [
       "White                 24081\n",
       "Black                  2571\n",
       "Asian-Pac-Islander      850\n",
       "Amer-Indian-Eskimo      262\n",
       "Other                   208\n",
       "Name: race, dtype: int64"
      ]
     },
     "execution_count": 119,
     "metadata": {},
     "output_type": "execute_result"
    }
   ],
   "source": [
    "df['race'].value_counts()"
   ]
  },
  {
   "cell_type": "markdown",
   "metadata": {},
   "source": [
    "Race is not a measure of income especially in this era. Usually this race is only a grouping identity based on individual description."
   ]
  },
  {
   "cell_type": "code",
   "execution_count": 120,
   "metadata": {},
   "outputs": [
    {
     "data": {
      "image/png": "[encoded data removed]",
      "text/plain": [
       "<Figure size 1080x360 with 1 Axes>"
      ]
     },
     "metadata": {
      "needs_background": "light"
     },
     "output_type": "display_data"
    }
   ],
   "source": [
    "plt.figure(figsize = (15,5))\n",
    "sns.countplot(x='education_num', data=df, hue='income_bracket', palette=[\"#8cbf60\", '#154f30'])\n",
    "plt.title('TITLE')\n",
    "plt.show()"
   ]
  },
  {
   "cell_type": "code",
   "execution_count": 121,
   "metadata": {},
   "outputs": [
    {
     "data": {
      "text/html": [
       "<div>\n",
       "<style scoped>\n",
       "    .dataframe tbody tr th:only-of-type {\n",
       "        vertical-align: middle;\n",
       "    }\n",
       "\n",
       "    .dataframe tbody tr th {\n",
       "        vertical-align: top;\n",
       "    }\n",
       "\n",
       "    .dataframe thead th {\n",
       "        text-align: right;\n",
       "    }\n",
       "</style>\n",
       "<table border=\"1\" class=\"dataframe\">\n",
       "  <thead>\n",
       "    <tr style=\"text-align: right;\">\n",
       "      <th></th>\n",
       "      <th></th>\n",
       "      <th></th>\n",
       "      <th>income_bracket</th>\n",
       "    </tr>\n",
       "    <tr>\n",
       "      <th>education_num</th>\n",
       "      <th>education</th>\n",
       "      <th>income_bracket</th>\n",
       "      <th></th>\n",
       "    </tr>\n",
       "  </thead>\n",
       "  <tbody>\n",
       "    <tr>\n",
       "      <th>1</th>\n",
       "      <th>Preschool</th>\n",
       "      <th>&lt;=50K</th>\n",
       "      <td>42</td>\n",
       "    </tr>\n",
       "    <tr>\n",
       "      <th rowspan=\"2\" valign=\"top\">2</th>\n",
       "      <th rowspan=\"2\" valign=\"top\">1st-4th</th>\n",
       "      <th>&lt;=50K</th>\n",
       "      <td>134</td>\n",
       "    </tr>\n",
       "    <tr>\n",
       "      <th>&gt;50K</th>\n",
       "      <td>6</td>\n",
       "    </tr>\n",
       "    <tr>\n",
       "      <th rowspan=\"2\" valign=\"top\">3</th>\n",
       "      <th rowspan=\"2\" valign=\"top\">5th-6th</th>\n",
       "      <th>&lt;=50K</th>\n",
       "      <td>250</td>\n",
       "    </tr>\n",
       "    <tr>\n",
       "      <th>&gt;50K</th>\n",
       "      <td>13</td>\n",
       "    </tr>\n",
       "    <tr>\n",
       "      <th rowspan=\"2\" valign=\"top\">4</th>\n",
       "      <th rowspan=\"2\" valign=\"top\">7th-8th</th>\n",
       "      <th>&lt;=50K</th>\n",
       "      <td>505</td>\n",
       "    </tr>\n",
       "    <tr>\n",
       "      <th>&gt;50K</th>\n",
       "      <td>38</td>\n",
       "    </tr>\n",
       "    <tr>\n",
       "      <th rowspan=\"2\" valign=\"top\">5</th>\n",
       "      <th rowspan=\"2\" valign=\"top\">9th</th>\n",
       "      <th>&lt;=50K</th>\n",
       "      <td>408</td>\n",
       "    </tr>\n",
       "    <tr>\n",
       "      <th>&gt;50K</th>\n",
       "      <td>26</td>\n",
       "    </tr>\n",
       "    <tr>\n",
       "      <th rowspan=\"2\" valign=\"top\">6</th>\n",
       "      <th rowspan=\"2\" valign=\"top\">10th</th>\n",
       "      <th>&lt;=50K</th>\n",
       "      <td>736</td>\n",
       "    </tr>\n",
       "    <tr>\n",
       "      <th>&gt;50K</th>\n",
       "      <td>60</td>\n",
       "    </tr>\n",
       "    <tr>\n",
       "      <th rowspan=\"2\" valign=\"top\">7</th>\n",
       "      <th rowspan=\"2\" valign=\"top\">11th</th>\n",
       "      <th>&lt;=50K</th>\n",
       "      <td>946</td>\n",
       "    </tr>\n",
       "    <tr>\n",
       "      <th>&gt;50K</th>\n",
       "      <td>59</td>\n",
       "    </tr>\n",
       "    <tr>\n",
       "      <th rowspan=\"2\" valign=\"top\">8</th>\n",
       "      <th rowspan=\"2\" valign=\"top\">12th</th>\n",
       "      <th>&lt;=50K</th>\n",
       "      <td>343</td>\n",
       "    </tr>\n",
       "    <tr>\n",
       "      <th>&gt;50K</th>\n",
       "      <td>31</td>\n",
       "    </tr>\n",
       "    <tr>\n",
       "      <th rowspan=\"2\" valign=\"top\">9</th>\n",
       "      <th rowspan=\"2\" valign=\"top\">HS-grad</th>\n",
       "      <th>&lt;=50K</th>\n",
       "      <td>7982</td>\n",
       "    </tr>\n",
       "    <tr>\n",
       "      <th>&gt;50K</th>\n",
       "      <td>1620</td>\n",
       "    </tr>\n",
       "    <tr>\n",
       "      <th rowspan=\"2\" valign=\"top\">10</th>\n",
       "      <th rowspan=\"2\" valign=\"top\">Some-college</th>\n",
       "      <th>&lt;=50K</th>\n",
       "      <td>3652</td>\n",
       "    </tr>\n",
       "    <tr>\n",
       "      <th>&gt;50K</th>\n",
       "      <td>1227</td>\n",
       "    </tr>\n",
       "    <tr>\n",
       "      <th rowspan=\"2\" valign=\"top\">11</th>\n",
       "      <th rowspan=\"2\" valign=\"top\">Assoc-voc</th>\n",
       "      <th>&lt;=50K</th>\n",
       "      <td>952</td>\n",
       "    </tr>\n",
       "    <tr>\n",
       "      <th>&gt;50K</th>\n",
       "      <td>345</td>\n",
       "    </tr>\n",
       "    <tr>\n",
       "      <th rowspan=\"2\" valign=\"top\">12</th>\n",
       "      <th rowspan=\"2\" valign=\"top\">Assoc-acdm</th>\n",
       "      <th>&lt;=50K</th>\n",
       "      <td>748</td>\n",
       "    </tr>\n",
       "    <tr>\n",
       "      <th>&gt;50K</th>\n",
       "      <td>257</td>\n",
       "    </tr>\n",
       "    <tr>\n",
       "      <th rowspan=\"2\" valign=\"top\">13</th>\n",
       "      <th rowspan=\"2\" valign=\"top\">Bachelors</th>\n",
       "      <th>&lt;=50K</th>\n",
       "      <td>2927</td>\n",
       "    </tr>\n",
       "    <tr>\n",
       "      <th>&gt;50K</th>\n",
       "      <td>2170</td>\n",
       "    </tr>\n",
       "    <tr>\n",
       "      <th rowspan=\"2\" valign=\"top\">14</th>\n",
       "      <th rowspan=\"2\" valign=\"top\">Masters</th>\n",
       "      <th>&lt;=50K</th>\n",
       "      <td>727</td>\n",
       "    </tr>\n",
       "    <tr>\n",
       "      <th>&gt;50K</th>\n",
       "      <td>938</td>\n",
       "    </tr>\n",
       "    <tr>\n",
       "      <th rowspan=\"2\" valign=\"top\">15</th>\n",
       "      <th rowspan=\"2\" valign=\"top\">Prof-school</th>\n",
       "      <th>&lt;=50K</th>\n",
       "      <td>82</td>\n",
       "    </tr>\n",
       "    <tr>\n",
       "      <th>&gt;50K</th>\n",
       "      <td>353</td>\n",
       "    </tr>\n",
       "    <tr>\n",
       "      <th rowspan=\"2\" valign=\"top\">16</th>\n",
       "      <th rowspan=\"2\" valign=\"top\">Doctorate</th>\n",
       "      <th>&lt;=50K</th>\n",
       "      <td>102</td>\n",
       "    </tr>\n",
       "    <tr>\n",
       "      <th>&gt;50K</th>\n",
       "      <td>293</td>\n",
       "    </tr>\n",
       "  </tbody>\n",
       "</table>\n",
       "</div>"
      ],
      "text/plain": [
       "                                           income_bracket\n",
       "education_num education    income_bracket                \n",
       "1             Preschool    <=50K                       42\n",
       "2             1st-4th      <=50K                      134\n",
       "                           >50K                         6\n",
       "3             5th-6th      <=50K                      250\n",
       "                           >50K                        13\n",
       "4             7th-8th      <=50K                      505\n",
       "                           >50K                        38\n",
       "5             9th          <=50K                      408\n",
       "                           >50K                        26\n",
       "6             10th         <=50K                      736\n",
       "                           >50K                        60\n",
       "7             11th         <=50K                      946\n",
       "                           >50K                        59\n",
       "8             12th         <=50K                      343\n",
       "                           >50K                        31\n",
       "9             HS-grad      <=50K                     7982\n",
       "                           >50K                      1620\n",
       "10            Some-college <=50K                     3652\n",
       "                           >50K                      1227\n",
       "11            Assoc-voc    <=50K                      952\n",
       "                           >50K                       345\n",
       "12            Assoc-acdm   <=50K                      748\n",
       "                           >50K                       257\n",
       "13            Bachelors    <=50K                     2927\n",
       "                           >50K                      2170\n",
       "14            Masters      <=50K                      727\n",
       "                           >50K                       938\n",
       "15            Prof-school  <=50K                       82\n",
       "                           >50K                       353\n",
       "16            Doctorate    <=50K                      102\n",
       "                           >50K                       293"
      ]
     },
     "execution_count": 121,
     "metadata": {},
     "output_type": "execute_result"
    }
   ],
   "source": [
    "pd.DataFrame(df.groupby(['education_num','education','income_bracket'])['income_bracket'].count())"
   ]
  },
  {
   "cell_type": "markdown",
   "metadata": {},
   "source": [
    "The data also contains various educational background of each adult. Based on the table above, the most graduates background are from high school, followed by bachelors. While the least graduates are from preschool. It can be concluded that the adult in the dataset are considered well educated. But still the adult whos income more than $50000 still lesser in each education background.The portion of income bracket for each graduate is quite significant except preschool which does not have more than $50000 income bracket."
   ]
  },
  {
   "cell_type": "code",
   "execution_count": 122,
   "metadata": {},
   "outputs": [
    {
     "data": {
      "image/png": "[encoded data removed]",
      "text/plain": [
       "<Figure size 720x720 with 1 Axes>"
      ]
     },
     "metadata": {
      "needs_background": "light"
     },
     "output_type": "display_data"
    }
   ],
   "source": [
    "plt.figure(figsize = (10,10))\n",
    "sns.scatterplot(x='age', y='hours_per_week', data=df, hue='income_bracket', palette=[\"#8cbf60\", '#154f30'])\n",
    "plt.title('TITLE')\n",
    "plt.show()"
   ]
  },
  {
   "cell_type": "markdown",
   "metadata": {},
   "source": [
    "From the scatter plot, the age and number of hours worked per week are uncertain. Almost all age has various working hour per week. If we look closely, younger and elder has fewer working hour per week if being compared with adult in between 20's and 60's. It is most likely because of the retirement (late 60's) while the younger (17-19 years old) tend to work only as part-time job so the entire hours and age has growth and decline phase at certain age.\n",
    "As for income bracket, the distribution are very random but the more than $50000 income group is dominant in between 30's until mid 60's."
   ]
  },
  {
   "cell_type": "code",
   "execution_count": 123,
   "metadata": {},
   "outputs": [
    {
     "data": {
      "text/plain": [
       "<AxesSubplot:xlabel='workclass', ylabel='count'>"
      ]
     },
     "execution_count": 123,
     "metadata": {},
     "output_type": "execute_result"
    },
    {
     "data": {
      "image/png": "[encoded data removed]",
      "text/plain": [
       "<Figure size 864x360 with 1 Axes>"
      ]
     },
     "metadata": {
      "needs_background": "light"
     },
     "output_type": "display_data"
    }
   ],
   "source": [
    "plt.figure(figsize = (12,5))\n",
    "sns.countplot(x='workclass', data=df, order = df.workclass.value_counts().index, hue='income_bracket', palette=[\"#8cbf60\", '#154f30'])"
   ]
  },
  {
   "cell_type": "code",
   "execution_count": 124,
   "metadata": {},
   "outputs": [
    {
     "data": {
      "text/html": [
       "<div>\n",
       "<style scoped>\n",
       "    .dataframe tbody tr th:only-of-type {\n",
       "        vertical-align: middle;\n",
       "    }\n",
       "\n",
       "    .dataframe tbody tr th {\n",
       "        vertical-align: top;\n",
       "    }\n",
       "\n",
       "    .dataframe thead th {\n",
       "        text-align: right;\n",
       "    }\n",
       "</style>\n",
       "<table border=\"1\" class=\"dataframe\">\n",
       "  <thead>\n",
       "    <tr style=\"text-align: right;\">\n",
       "      <th></th>\n",
       "      <th></th>\n",
       "      <th>income_bracket</th>\n",
       "    </tr>\n",
       "    <tr>\n",
       "      <th>workclass</th>\n",
       "      <th>income_bracket</th>\n",
       "      <th></th>\n",
       "    </tr>\n",
       "  </thead>\n",
       "  <tbody>\n",
       "    <tr>\n",
       "      <th rowspan=\"2\" valign=\"top\">Federal-gov</th>\n",
       "      <th>&lt;=50K</th>\n",
       "      <td>510</td>\n",
       "    </tr>\n",
       "    <tr>\n",
       "      <th>&gt;50K</th>\n",
       "      <td>357</td>\n",
       "    </tr>\n",
       "    <tr>\n",
       "      <th rowspan=\"2\" valign=\"top\">Local-gov</th>\n",
       "      <th>&lt;=50K</th>\n",
       "      <td>1349</td>\n",
       "    </tr>\n",
       "    <tr>\n",
       "      <th>&gt;50K</th>\n",
       "      <td>601</td>\n",
       "    </tr>\n",
       "    <tr>\n",
       "      <th>Never-worked</th>\n",
       "      <th>&lt;=50K</th>\n",
       "      <td>7</td>\n",
       "    </tr>\n",
       "    <tr>\n",
       "      <th rowspan=\"2\" valign=\"top\">Private</th>\n",
       "      <th>&lt;=50K</th>\n",
       "      <td>15686</td>\n",
       "    </tr>\n",
       "    <tr>\n",
       "      <th>&gt;50K</th>\n",
       "      <td>4829</td>\n",
       "    </tr>\n",
       "    <tr>\n",
       "      <th rowspan=\"2\" valign=\"top\">Self-emp-inc</th>\n",
       "      <th>&lt;=50K</th>\n",
       "      <td>460</td>\n",
       "    </tr>\n",
       "    <tr>\n",
       "      <th>&gt;50K</th>\n",
       "      <td>606</td>\n",
       "    </tr>\n",
       "    <tr>\n",
       "      <th rowspan=\"2\" valign=\"top\">Self-emp-not-inc</th>\n",
       "      <th>&lt;=50K</th>\n",
       "      <td>1674</td>\n",
       "    </tr>\n",
       "    <tr>\n",
       "      <th>&gt;50K</th>\n",
       "      <td>696</td>\n",
       "    </tr>\n",
       "    <tr>\n",
       "      <th rowspan=\"2\" valign=\"top\">State-gov</th>\n",
       "      <th>&lt;=50K</th>\n",
       "      <td>836</td>\n",
       "    </tr>\n",
       "    <tr>\n",
       "      <th>&gt;50K</th>\n",
       "      <td>347</td>\n",
       "    </tr>\n",
       "    <tr>\n",
       "      <th>Without-pay</th>\n",
       "      <th>&lt;=50K</th>\n",
       "      <td>14</td>\n",
       "    </tr>\n",
       "  </tbody>\n",
       "</table>\n",
       "</div>"
      ],
      "text/plain": [
       "                                 income_bracket\n",
       "workclass        income_bracket                \n",
       "Federal-gov      <=50K                      510\n",
       "                 >50K                       357\n",
       "Local-gov        <=50K                     1349\n",
       "                 >50K                       601\n",
       "Never-worked     <=50K                        7\n",
       "Private          <=50K                    15686\n",
       "                 >50K                      4829\n",
       "Self-emp-inc     <=50K                      460\n",
       "                 >50K                       606\n",
       "Self-emp-not-inc <=50K                     1674\n",
       "                 >50K                       696\n",
       "State-gov        <=50K                      836\n",
       "                 >50K                       347\n",
       "Without-pay      <=50K                       14"
      ]
     },
     "execution_count": 124,
     "metadata": {},
     "output_type": "execute_result"
    }
   ],
   "source": [
    "pd.DataFrame(df.groupby(['workclass','income_bracket'])['income_bracket'].count())"
   ]
  },
  {
   "cell_type": "markdown",
   "metadata": {},
   "source": [
    "If based on the workclass, most adults work for private companies. Each workclass mostly has an income bracket less than equal $50K except for Self-employees. More than half of Self-employee income bracket are more than $50000. At last there are without pay and Never worked. Both of those workclass are very few in number even none of them has income more than $50000. This class indicates that there are people who willing to working without pay, probably a volunteers or interns. Also it is very understandable why does both worklass do not have anyone who has income more than $50000."
   ]
  },
  {
   "cell_type": "code",
   "execution_count": 125,
   "metadata": {},
   "outputs": [
    {
     "data": {
      "text/plain": [
       "<AxesSubplot:xlabel='occupation', ylabel='count'>"
      ]
     },
     "execution_count": 125,
     "metadata": {},
     "output_type": "execute_result"
    },
    {
     "data": {
      "image/png": "[encoded data removed]",
      "text/plain": [
       "<Figure size 2088x360 with 1 Axes>"
      ]
     },
     "metadata": {
      "needs_background": "light"
     },
     "output_type": "display_data"
    }
   ],
   "source": [
    "plt.figure(figsize = (29,5))\n",
    "sns.countplot(x='occupation', data=df, order = df.occupation.value_counts().index, hue='income_bracket', palette=[\"#8cbf60\", '#154f30'])"
   ]
  },
  {
   "cell_type": "code",
   "execution_count": 126,
   "metadata": {},
   "outputs": [
    {
     "data": {
      "text/html": [
       "<div>\n",
       "<style scoped>\n",
       "    .dataframe tbody tr th:only-of-type {\n",
       "        vertical-align: middle;\n",
       "    }\n",
       "\n",
       "    .dataframe tbody tr th {\n",
       "        vertical-align: top;\n",
       "    }\n",
       "\n",
       "    .dataframe thead th {\n",
       "        text-align: right;\n",
       "    }\n",
       "</style>\n",
       "<table border=\"1\" class=\"dataframe\">\n",
       "  <thead>\n",
       "    <tr style=\"text-align: right;\">\n",
       "      <th></th>\n",
       "      <th></th>\n",
       "      <th>income_bracket</th>\n",
       "    </tr>\n",
       "    <tr>\n",
       "      <th>occupation</th>\n",
       "      <th>income_bracket</th>\n",
       "      <th></th>\n",
       "    </tr>\n",
       "  </thead>\n",
       "  <tbody>\n",
       "    <tr>\n",
       "      <th>?</th>\n",
       "      <th>&lt;=50K</th>\n",
       "      <td>7</td>\n",
       "    </tr>\n",
       "    <tr>\n",
       "      <th rowspan=\"2\" valign=\"top\">Adm-clerical</th>\n",
       "      <th>&lt;=50K</th>\n",
       "      <td>2771</td>\n",
       "    </tr>\n",
       "    <tr>\n",
       "      <th>&gt;50K</th>\n",
       "      <td>493</td>\n",
       "    </tr>\n",
       "    <tr>\n",
       "      <th rowspan=\"2\" valign=\"top\">Armed-Forces</th>\n",
       "      <th>&lt;=50K</th>\n",
       "      <td>5</td>\n",
       "    </tr>\n",
       "    <tr>\n",
       "      <th>&gt;50K</th>\n",
       "      <td>1</td>\n",
       "    </tr>\n",
       "    <tr>\n",
       "      <th rowspan=\"2\" valign=\"top\">Craft-repair</th>\n",
       "      <th>&lt;=50K</th>\n",
       "      <td>2896</td>\n",
       "    </tr>\n",
       "    <tr>\n",
       "      <th>&gt;50K</th>\n",
       "      <td>909</td>\n",
       "    </tr>\n",
       "    <tr>\n",
       "      <th rowspan=\"2\" valign=\"top\">Exec-managerial</th>\n",
       "      <th>&lt;=50K</th>\n",
       "      <td>1863</td>\n",
       "    </tr>\n",
       "    <tr>\n",
       "      <th>&gt;50K</th>\n",
       "      <td>1921</td>\n",
       "    </tr>\n",
       "    <tr>\n",
       "      <th rowspan=\"2\" valign=\"top\">Farming-fishing</th>\n",
       "      <th>&lt;=50K</th>\n",
       "      <td>821</td>\n",
       "    </tr>\n",
       "    <tr>\n",
       "      <th>&gt;50K</th>\n",
       "      <td>112</td>\n",
       "    </tr>\n",
       "    <tr>\n",
       "      <th rowspan=\"2\" valign=\"top\">Handlers-cleaners</th>\n",
       "      <th>&lt;=50K</th>\n",
       "      <td>1129</td>\n",
       "    </tr>\n",
       "    <tr>\n",
       "      <th>&gt;50K</th>\n",
       "      <td>84</td>\n",
       "    </tr>\n",
       "    <tr>\n",
       "      <th rowspan=\"2\" valign=\"top\">Machine-op-inspct</th>\n",
       "      <th>&lt;=50K</th>\n",
       "      <td>1598</td>\n",
       "    </tr>\n",
       "    <tr>\n",
       "      <th>&gt;50K</th>\n",
       "      <td>246</td>\n",
       "    </tr>\n",
       "    <tr>\n",
       "      <th rowspan=\"2\" valign=\"top\">Other-service</th>\n",
       "      <th>&lt;=50K</th>\n",
       "      <td>2738</td>\n",
       "    </tr>\n",
       "    <tr>\n",
       "      <th>&gt;50K</th>\n",
       "      <td>130</td>\n",
       "    </tr>\n",
       "    <tr>\n",
       "      <th rowspan=\"2\" valign=\"top\">Priv-house-serv</th>\n",
       "      <th>&lt;=50K</th>\n",
       "      <td>122</td>\n",
       "    </tr>\n",
       "    <tr>\n",
       "      <th>&gt;50K</th>\n",
       "      <td>1</td>\n",
       "    </tr>\n",
       "    <tr>\n",
       "      <th rowspan=\"2\" valign=\"top\">Prof-specialty</th>\n",
       "      <th>&lt;=50K</th>\n",
       "      <td>2080</td>\n",
       "    </tr>\n",
       "    <tr>\n",
       "      <th>&gt;50K</th>\n",
       "      <td>1785</td>\n",
       "    </tr>\n",
       "    <tr>\n",
       "      <th rowspan=\"2\" valign=\"top\">Protective-serv</th>\n",
       "      <th>&lt;=50K</th>\n",
       "      <td>398</td>\n",
       "    </tr>\n",
       "    <tr>\n",
       "      <th>&gt;50K</th>\n",
       "      <td>204</td>\n",
       "    </tr>\n",
       "    <tr>\n",
       "      <th rowspan=\"2\" valign=\"top\">Sales</th>\n",
       "      <th>&lt;=50K</th>\n",
       "      <td>2360</td>\n",
       "    </tr>\n",
       "    <tr>\n",
       "      <th>&gt;50K</th>\n",
       "      <td>965</td>\n",
       "    </tr>\n",
       "    <tr>\n",
       "      <th rowspan=\"2\" valign=\"top\">Tech-support</th>\n",
       "      <th>&lt;=50K</th>\n",
       "      <td>553</td>\n",
       "    </tr>\n",
       "    <tr>\n",
       "      <th>&gt;50K</th>\n",
       "      <td>271</td>\n",
       "    </tr>\n",
       "    <tr>\n",
       "      <th rowspan=\"2\" valign=\"top\">Transport-moving</th>\n",
       "      <th>&lt;=50K</th>\n",
       "      <td>1195</td>\n",
       "    </tr>\n",
       "    <tr>\n",
       "      <th>&gt;50K</th>\n",
       "      <td>314</td>\n",
       "    </tr>\n",
       "  </tbody>\n",
       "</table>\n",
       "</div>"
      ],
      "text/plain": [
       "                                  income_bracket\n",
       "occupation        income_bracket                \n",
       "?                 <=50K                        7\n",
       "Adm-clerical      <=50K                     2771\n",
       "                  >50K                       493\n",
       "Armed-Forces      <=50K                        5\n",
       "                  >50K                         1\n",
       "Craft-repair      <=50K                     2896\n",
       "                  >50K                       909\n",
       "Exec-managerial   <=50K                     1863\n",
       "                  >50K                      1921\n",
       "Farming-fishing   <=50K                      821\n",
       "                  >50K                       112\n",
       "Handlers-cleaners <=50K                     1129\n",
       "                  >50K                        84\n",
       "Machine-op-inspct <=50K                     1598\n",
       "                  >50K                       246\n",
       "Other-service     <=50K                     2738\n",
       "                  >50K                       130\n",
       "Priv-house-serv   <=50K                      122\n",
       "                  >50K                         1\n",
       "Prof-specialty    <=50K                     2080\n",
       "                  >50K                      1785\n",
       "Protective-serv   <=50K                      398\n",
       "                  >50K                       204\n",
       "Sales             <=50K                     2360\n",
       "                  >50K                       965\n",
       "Tech-support      <=50K                      553\n",
       "                  >50K                       271\n",
       "Transport-moving  <=50K                     1195\n",
       "                  >50K                       314"
      ]
     },
     "execution_count": 126,
     "metadata": {},
     "output_type": "execute_result"
    }
   ],
   "source": [
    "pd.DataFrame(df.groupby(['occupation','income_bracket'])['income_bracket'].count())"
   ]
  },
  {
   "cell_type": "markdown",
   "metadata": {},
   "source": [
    "Most adults work in the Prof-Specialty field, but the income bracket of more than $50000 is mostly owned by adults who working as Executive Managerial. Even better more than half of executive income are more than $50000. Considering the workload and responsibility it is pretty justable. There are also (?) and armed forces occupation at the last order but only in the small amount so it looks almost invisible. It also explained why not many people interested in joining army or forces."
   ]
  },
  {
   "cell_type": "code",
   "execution_count": 127,
   "metadata": {},
   "outputs": [
    {
     "data": {
      "image/png": "[encoded data removed]",
      "text/plain": [
       "<Figure size 1080x216 with 2 Axes>"
      ]
     },
     "metadata": {
      "needs_background": "light"
     },
     "output_type": "display_data"
    }
   ],
   "source": [
    "fig, ax =plt.subplots(1,2, figsize = (15,3))\n",
    "sns.scatterplot(x='age', y='income_bracket', data=df ,hue='income_bracket', palette=[\"#8cbf60\", '#154f30'], ax=ax[0])\n",
    "sns.scatterplot(x='hours_per_week', y='income_bracket', data=df, hue='income_bracket', palette=[\"#8cbf60\", '#154f30'], ax=ax[1])\n",
    "plt.show()"
   ]
  },
  {
   "cell_type": "markdown",
   "metadata": {},
   "source": [
    "Next, analyzing the data distribution based on income bracket. It has been explained in the previous scatter plot that all ages and working hours have different income groups. This current scatter plot give validation that doen't matter how much hour people working and how old they are the income are uncertain. In logistic regression it is harder to classifying the class with current situation."
   ]
  },
  {
   "cell_type": "code",
   "execution_count": 128,
   "metadata": {},
   "outputs": [
    {
     "data": {
      "image/png": "[encoded data removed]",
      "text/plain": [
       "<Figure size 1080x216 with 2 Axes>"
      ]
     },
     "metadata": {
      "needs_background": "light"
     },
     "output_type": "display_data"
    }
   ],
   "source": [
    "fig, ax =plt.subplots(1,2, figsize = (15,3))\n",
    "sns.scatterplot(x='capital_loss', y='income_bracket', data=df ,hue='income_bracket', palette=[\"#8cbf60\", '#154f30'], ax=ax[0])\n",
    "sns.scatterplot(x='capital_gain', y='income_bracket', data=df, hue='income_bracket', palette=[\"#8cbf60\", '#154f30'], ax=ax[1])\n",
    "plt.show()"
   ]
  },
  {
   "cell_type": "markdown",
   "metadata": {},
   "source": [
    "This also happen with capital gain and loss. Supposed a person who obtained more capitall gain has more income and people who loss more capital has less income but it is not happen in the current dataset. There could be people who already has large income who loss their capital still can have large income because this person already have planning. Meanwhile in capital gain, several of people gained a large capital but the income is still less than $50000, there are several other factors that may influence current situation."
   ]
  },
  {
   "cell_type": "markdown",
   "metadata": {},
   "source": [
    "Some of the explanations above, there is no significant grouping that defines that the individual has an income bracket of more or less than $50000. However, because this grouping only defines that a person is classified as wealthy or not, if there is an error, it will not have too much negative impact on the individual who is misclassified. Except for several things such as tax payment. People who have income are more likely to pay a higher percentage of tax but if there is someone who is not classified as wealthy but has to pay more tax then it can be detrimental to that person."
   ]
  },
  {
   "cell_type": "markdown",
   "metadata": {},
   "source": [
    "# 5 - Data Prepocessing"
   ]
  },
  {
   "cell_type": "markdown",
   "metadata": {},
   "source": [
    "## Get Inference"
   ]
  },
  {
   "cell_type": "code",
   "execution_count": 129,
   "metadata": {},
   "outputs": [
    {
     "data": {
      "text/html": [
       "<div>\n",
       "<style scoped>\n",
       "    .dataframe tbody tr th:only-of-type {\n",
       "        vertical-align: middle;\n",
       "    }\n",
       "\n",
       "    .dataframe tbody tr th {\n",
       "        vertical-align: top;\n",
       "    }\n",
       "\n",
       "    .dataframe thead th {\n",
       "        text-align: right;\n",
       "    }\n",
       "</style>\n",
       "<table border=\"1\" class=\"dataframe\">\n",
       "  <thead>\n",
       "    <tr style=\"text-align: right;\">\n",
       "      <th></th>\n",
       "      <th>age</th>\n",
       "      <th>workclass</th>\n",
       "      <th>education</th>\n",
       "      <th>education_num</th>\n",
       "      <th>marital_status</th>\n",
       "      <th>occupation</th>\n",
       "      <th>relationship</th>\n",
       "      <th>race</th>\n",
       "      <th>sex</th>\n",
       "      <th>capital_gain</th>\n",
       "      <th>capital_loss</th>\n",
       "      <th>hours_per_week</th>\n",
       "      <th>native_country</th>\n",
       "      <th>income_bracket</th>\n",
       "    </tr>\n",
       "  </thead>\n",
       "  <tbody>\n",
       "    <tr>\n",
       "      <th>10727</th>\n",
       "      <td>54</td>\n",
       "      <td>Private</td>\n",
       "      <td>Bachelors</td>\n",
       "      <td>13</td>\n",
       "      <td>Married-civ-spouse</td>\n",
       "      <td>Exec-managerial</td>\n",
       "      <td>Husband</td>\n",
       "      <td>Asian-Pac-Islander</td>\n",
       "      <td>Male</td>\n",
       "      <td>0</td>\n",
       "      <td>0</td>\n",
       "      <td>50</td>\n",
       "      <td>Japan</td>\n",
       "      <td>&gt;50K</td>\n",
       "    </tr>\n",
       "    <tr>\n",
       "      <th>19270</th>\n",
       "      <td>63</td>\n",
       "      <td>Private</td>\n",
       "      <td>HS-grad</td>\n",
       "      <td>9</td>\n",
       "      <td>Divorced</td>\n",
       "      <td>Transport-moving</td>\n",
       "      <td>Unmarried</td>\n",
       "      <td>White</td>\n",
       "      <td>Male</td>\n",
       "      <td>0</td>\n",
       "      <td>0</td>\n",
       "      <td>45</td>\n",
       "      <td>United-States</td>\n",
       "      <td>&gt;50K</td>\n",
       "    </tr>\n",
       "    <tr>\n",
       "      <th>12905</th>\n",
       "      <td>23</td>\n",
       "      <td>Private</td>\n",
       "      <td>Some-college</td>\n",
       "      <td>10</td>\n",
       "      <td>Married-civ-spouse</td>\n",
       "      <td>Tech-support</td>\n",
       "      <td>Husband</td>\n",
       "      <td>White</td>\n",
       "      <td>Male</td>\n",
       "      <td>0</td>\n",
       "      <td>0</td>\n",
       "      <td>40</td>\n",
       "      <td>United-States</td>\n",
       "      <td>&lt;=50K</td>\n",
       "    </tr>\n",
       "    <tr>\n",
       "      <th>22911</th>\n",
       "      <td>23</td>\n",
       "      <td>Self-emp-not-inc</td>\n",
       "      <td>HS-grad</td>\n",
       "      <td>9</td>\n",
       "      <td>Never-married</td>\n",
       "      <td>Farming-fishing</td>\n",
       "      <td>Not-in-family</td>\n",
       "      <td>White</td>\n",
       "      <td>Male</td>\n",
       "      <td>0</td>\n",
       "      <td>0</td>\n",
       "      <td>25</td>\n",
       "      <td>Mexico</td>\n",
       "      <td>&lt;=50K</td>\n",
       "    </tr>\n",
       "    <tr>\n",
       "      <th>6843</th>\n",
       "      <td>58</td>\n",
       "      <td>Private</td>\n",
       "      <td>HS-grad</td>\n",
       "      <td>9</td>\n",
       "      <td>Married-civ-spouse</td>\n",
       "      <td>Other-service</td>\n",
       "      <td>Husband</td>\n",
       "      <td>White</td>\n",
       "      <td>Male</td>\n",
       "      <td>0</td>\n",
       "      <td>0</td>\n",
       "      <td>24</td>\n",
       "      <td>United-States</td>\n",
       "      <td>&lt;=50K</td>\n",
       "    </tr>\n",
       "    <tr>\n",
       "      <th>14148</th>\n",
       "      <td>20</td>\n",
       "      <td>Private</td>\n",
       "      <td>9th</td>\n",
       "      <td>5</td>\n",
       "      <td>Never-married</td>\n",
       "      <td>Sales</td>\n",
       "      <td>Own-child</td>\n",
       "      <td>White</td>\n",
       "      <td>Female</td>\n",
       "      <td>0</td>\n",
       "      <td>0</td>\n",
       "      <td>32</td>\n",
       "      <td>United-States</td>\n",
       "      <td>&lt;=50K</td>\n",
       "    </tr>\n",
       "    <tr>\n",
       "      <th>14361</th>\n",
       "      <td>41</td>\n",
       "      <td>Private</td>\n",
       "      <td>10th</td>\n",
       "      <td>6</td>\n",
       "      <td>Never-married</td>\n",
       "      <td>Sales</td>\n",
       "      <td>Own-child</td>\n",
       "      <td>White</td>\n",
       "      <td>Female</td>\n",
       "      <td>0</td>\n",
       "      <td>0</td>\n",
       "      <td>40</td>\n",
       "      <td>United-States</td>\n",
       "      <td>&lt;=50K</td>\n",
       "    </tr>\n",
       "    <tr>\n",
       "      <th>970</th>\n",
       "      <td>33</td>\n",
       "      <td>Self-emp-not-inc</td>\n",
       "      <td>Bachelors</td>\n",
       "      <td>13</td>\n",
       "      <td>Married-civ-spouse</td>\n",
       "      <td>Prof-specialty</td>\n",
       "      <td>Wife</td>\n",
       "      <td>White</td>\n",
       "      <td>Female</td>\n",
       "      <td>0</td>\n",
       "      <td>0</td>\n",
       "      <td>50</td>\n",
       "      <td>United-States</td>\n",
       "      <td>&gt;50K</td>\n",
       "    </tr>\n",
       "    <tr>\n",
       "      <th>3121</th>\n",
       "      <td>32</td>\n",
       "      <td>Self-emp-not-inc</td>\n",
       "      <td>HS-grad</td>\n",
       "      <td>9</td>\n",
       "      <td>Married-civ-spouse</td>\n",
       "      <td>Sales</td>\n",
       "      <td>Husband</td>\n",
       "      <td>White</td>\n",
       "      <td>Male</td>\n",
       "      <td>0</td>\n",
       "      <td>0</td>\n",
       "      <td>40</td>\n",
       "      <td>United-States</td>\n",
       "      <td>&lt;=50K</td>\n",
       "    </tr>\n",
       "    <tr>\n",
       "      <th>26012</th>\n",
       "      <td>28</td>\n",
       "      <td>Private</td>\n",
       "      <td>Bachelors</td>\n",
       "      <td>13</td>\n",
       "      <td>Never-married</td>\n",
       "      <td>Other-service</td>\n",
       "      <td>Not-in-family</td>\n",
       "      <td>White</td>\n",
       "      <td>Male</td>\n",
       "      <td>0</td>\n",
       "      <td>0</td>\n",
       "      <td>43</td>\n",
       "      <td>Mexico</td>\n",
       "      <td>&lt;=50K</td>\n",
       "    </tr>\n",
       "  </tbody>\n",
       "</table>\n",
       "</div>"
      ],
      "text/plain": [
       "       age         workclass     education  education_num      marital_status  \\\n",
       "10727   54           Private     Bachelors             13  Married-civ-spouse   \n",
       "19270   63           Private       HS-grad              9            Divorced   \n",
       "12905   23           Private  Some-college             10  Married-civ-spouse   \n",
       "22911   23  Self-emp-not-inc       HS-grad              9       Never-married   \n",
       "6843    58           Private       HS-grad              9  Married-civ-spouse   \n",
       "14148   20           Private           9th              5       Never-married   \n",
       "14361   41           Private          10th              6       Never-married   \n",
       "970     33  Self-emp-not-inc     Bachelors             13  Married-civ-spouse   \n",
       "3121    32  Self-emp-not-inc       HS-grad              9  Married-civ-spouse   \n",
       "26012   28           Private     Bachelors             13       Never-married   \n",
       "\n",
       "             occupation   relationship                race     sex  \\\n",
       "10727   Exec-managerial        Husband  Asian-Pac-Islander    Male   \n",
       "19270  Transport-moving      Unmarried               White    Male   \n",
       "12905      Tech-support        Husband               White    Male   \n",
       "22911   Farming-fishing  Not-in-family               White    Male   \n",
       "6843      Other-service        Husband               White    Male   \n",
       "14148             Sales      Own-child               White  Female   \n",
       "14361             Sales      Own-child               White  Female   \n",
       "970      Prof-specialty           Wife               White  Female   \n",
       "3121              Sales        Husband               White    Male   \n",
       "26012     Other-service  Not-in-family               White    Male   \n",
       "\n",
       "       capital_gain  capital_loss  hours_per_week native_country  \\\n",
       "10727             0             0              50          Japan   \n",
       "19270             0             0              45  United-States   \n",
       "12905             0             0              40  United-States   \n",
       "22911             0             0              25         Mexico   \n",
       "6843              0             0              24  United-States   \n",
       "14148             0             0              32  United-States   \n",
       "14361             0             0              40  United-States   \n",
       "970               0             0              50  United-States   \n",
       "3121              0             0              40  United-States   \n",
       "26012             0             0              43         Mexico   \n",
       "\n",
       "      income_bracket  \n",
       "10727           >50K  \n",
       "19270           >50K  \n",
       "12905          <=50K  \n",
       "22911          <=50K  \n",
       "6843           <=50K  \n",
       "14148          <=50K  \n",
       "14361          <=50K  \n",
       "970             >50K  \n",
       "3121           <=50K  \n",
       "26012          <=50K  "
      ]
     },
     "execution_count": 129,
     "metadata": {},
     "output_type": "execute_result"
    }
   ],
   "source": [
    "# Get Data for Model Inference\n",
    "\n",
    "df_inf = df.sample(10, random_state = 50) #change random state\n",
    "df_inf"
   ]
  },
  {
   "cell_type": "code",
   "execution_count": 130,
   "metadata": {},
   "outputs": [
    {
     "data": {
      "text/html": [
       "<div>\n",
       "<style scoped>\n",
       "    .dataframe tbody tr th:only-of-type {\n",
       "        vertical-align: middle;\n",
       "    }\n",
       "\n",
       "    .dataframe tbody tr th {\n",
       "        vertical-align: top;\n",
       "    }\n",
       "\n",
       "    .dataframe thead th {\n",
       "        text-align: right;\n",
       "    }\n",
       "</style>\n",
       "<table border=\"1\" class=\"dataframe\">\n",
       "  <thead>\n",
       "    <tr style=\"text-align: right;\">\n",
       "      <th></th>\n",
       "      <th>age</th>\n",
       "      <th>workclass</th>\n",
       "      <th>education</th>\n",
       "      <th>education_num</th>\n",
       "      <th>marital_status</th>\n",
       "      <th>occupation</th>\n",
       "      <th>relationship</th>\n",
       "      <th>race</th>\n",
       "      <th>sex</th>\n",
       "      <th>capital_gain</th>\n",
       "      <th>capital_loss</th>\n",
       "      <th>hours_per_week</th>\n",
       "      <th>native_country</th>\n",
       "      <th>income_bracket</th>\n",
       "    </tr>\n",
       "  </thead>\n",
       "  <tbody>\n",
       "    <tr>\n",
       "      <th>0</th>\n",
       "      <td>39</td>\n",
       "      <td>Private</td>\n",
       "      <td>9th</td>\n",
       "      <td>5</td>\n",
       "      <td>Married-civ-spouse</td>\n",
       "      <td>Other-service</td>\n",
       "      <td>Wife</td>\n",
       "      <td>Black</td>\n",
       "      <td>Female</td>\n",
       "      <td>3411</td>\n",
       "      <td>0</td>\n",
       "      <td>34</td>\n",
       "      <td>United-States</td>\n",
       "      <td>&lt;=50K</td>\n",
       "    </tr>\n",
       "    <tr>\n",
       "      <th>1</th>\n",
       "      <td>72</td>\n",
       "      <td>Private</td>\n",
       "      <td>9th</td>\n",
       "      <td>5</td>\n",
       "      <td>Married-civ-spouse</td>\n",
       "      <td>Exec-managerial</td>\n",
       "      <td>Wife</td>\n",
       "      <td>Asian-Pac-Islander</td>\n",
       "      <td>Female</td>\n",
       "      <td>0</td>\n",
       "      <td>0</td>\n",
       "      <td>48</td>\n",
       "      <td>United-States</td>\n",
       "      <td>&gt;50K</td>\n",
       "    </tr>\n",
       "    <tr>\n",
       "      <th>2</th>\n",
       "      <td>45</td>\n",
       "      <td>Private</td>\n",
       "      <td>9th</td>\n",
       "      <td>5</td>\n",
       "      <td>Married-civ-spouse</td>\n",
       "      <td>Machine-op-inspct</td>\n",
       "      <td>Wife</td>\n",
       "      <td>White</td>\n",
       "      <td>Female</td>\n",
       "      <td>0</td>\n",
       "      <td>0</td>\n",
       "      <td>40</td>\n",
       "      <td>United-States</td>\n",
       "      <td>&gt;50K</td>\n",
       "    </tr>\n",
       "    <tr>\n",
       "      <th>3</th>\n",
       "      <td>31</td>\n",
       "      <td>Private</td>\n",
       "      <td>9th</td>\n",
       "      <td>5</td>\n",
       "      <td>Married-civ-spouse</td>\n",
       "      <td>Exec-managerial</td>\n",
       "      <td>Wife</td>\n",
       "      <td>White</td>\n",
       "      <td>Female</td>\n",
       "      <td>0</td>\n",
       "      <td>0</td>\n",
       "      <td>40</td>\n",
       "      <td>United-States</td>\n",
       "      <td>&lt;=50K</td>\n",
       "    </tr>\n",
       "    <tr>\n",
       "      <th>4</th>\n",
       "      <td>55</td>\n",
       "      <td>Private</td>\n",
       "      <td>9th</td>\n",
       "      <td>5</td>\n",
       "      <td>Married-civ-spouse</td>\n",
       "      <td>Tech-support</td>\n",
       "      <td>Wife</td>\n",
       "      <td>White</td>\n",
       "      <td>Female</td>\n",
       "      <td>0</td>\n",
       "      <td>0</td>\n",
       "      <td>23</td>\n",
       "      <td>United-States</td>\n",
       "      <td>&lt;=50K</td>\n",
       "    </tr>\n",
       "    <tr>\n",
       "      <th>...</th>\n",
       "      <td>...</td>\n",
       "      <td>...</td>\n",
       "      <td>...</td>\n",
       "      <td>...</td>\n",
       "      <td>...</td>\n",
       "      <td>...</td>\n",
       "      <td>...</td>\n",
       "      <td>...</td>\n",
       "      <td>...</td>\n",
       "      <td>...</td>\n",
       "      <td>...</td>\n",
       "      <td>...</td>\n",
       "      <td>...</td>\n",
       "      <td>...</td>\n",
       "    </tr>\n",
       "    <tr>\n",
       "      <th>27967</th>\n",
       "      <td>22</td>\n",
       "      <td>State-gov</td>\n",
       "      <td>Assoc-acdm</td>\n",
       "      <td>12</td>\n",
       "      <td>Never-married</td>\n",
       "      <td>Adm-clerical</td>\n",
       "      <td>Not-in-family</td>\n",
       "      <td>White</td>\n",
       "      <td>Male</td>\n",
       "      <td>0</td>\n",
       "      <td>0</td>\n",
       "      <td>40</td>\n",
       "      <td>United-States</td>\n",
       "      <td>&lt;=50K</td>\n",
       "    </tr>\n",
       "    <tr>\n",
       "      <th>27968</th>\n",
       "      <td>26</td>\n",
       "      <td>Private</td>\n",
       "      <td>Assoc-acdm</td>\n",
       "      <td>12</td>\n",
       "      <td>Never-married</td>\n",
       "      <td>Other-service</td>\n",
       "      <td>Not-in-family</td>\n",
       "      <td>White</td>\n",
       "      <td>Male</td>\n",
       "      <td>0</td>\n",
       "      <td>0</td>\n",
       "      <td>40</td>\n",
       "      <td>United-States</td>\n",
       "      <td>&lt;=50K</td>\n",
       "    </tr>\n",
       "    <tr>\n",
       "      <th>27969</th>\n",
       "      <td>47</td>\n",
       "      <td>Private</td>\n",
       "      <td>Assoc-acdm</td>\n",
       "      <td>12</td>\n",
       "      <td>Never-married</td>\n",
       "      <td>Adm-clerical</td>\n",
       "      <td>Not-in-family</td>\n",
       "      <td>White</td>\n",
       "      <td>Female</td>\n",
       "      <td>0</td>\n",
       "      <td>0</td>\n",
       "      <td>40</td>\n",
       "      <td>United-States</td>\n",
       "      <td>&lt;=50K</td>\n",
       "    </tr>\n",
       "    <tr>\n",
       "      <th>27970</th>\n",
       "      <td>59</td>\n",
       "      <td>Self-emp-not-inc</td>\n",
       "      <td>Assoc-acdm</td>\n",
       "      <td>12</td>\n",
       "      <td>Divorced</td>\n",
       "      <td>Tech-support</td>\n",
       "      <td>Not-in-family</td>\n",
       "      <td>White</td>\n",
       "      <td>Male</td>\n",
       "      <td>0</td>\n",
       "      <td>0</td>\n",
       "      <td>40</td>\n",
       "      <td>United-States</td>\n",
       "      <td>&lt;=50K</td>\n",
       "    </tr>\n",
       "    <tr>\n",
       "      <th>27971</th>\n",
       "      <td>50</td>\n",
       "      <td>Self-emp-not-inc</td>\n",
       "      <td>Assoc-acdm</td>\n",
       "      <td>12</td>\n",
       "      <td>Never-married</td>\n",
       "      <td>Sales</td>\n",
       "      <td>Not-in-family</td>\n",
       "      <td>White</td>\n",
       "      <td>Female</td>\n",
       "      <td>0</td>\n",
       "      <td>1408</td>\n",
       "      <td>5</td>\n",
       "      <td>United-States</td>\n",
       "      <td>&lt;=50K</td>\n",
       "    </tr>\n",
       "  </tbody>\n",
       "</table>\n",
       "<p>27962 rows × 14 columns</p>\n",
       "</div>"
      ],
      "text/plain": [
       "       age         workclass   education  education_num      marital_status  \\\n",
       "0       39           Private         9th              5  Married-civ-spouse   \n",
       "1       72           Private         9th              5  Married-civ-spouse   \n",
       "2       45           Private         9th              5  Married-civ-spouse   \n",
       "3       31           Private         9th              5  Married-civ-spouse   \n",
       "4       55           Private         9th              5  Married-civ-spouse   \n",
       "...    ...               ...         ...            ...                 ...   \n",
       "27967   22         State-gov  Assoc-acdm             12       Never-married   \n",
       "27968   26           Private  Assoc-acdm             12       Never-married   \n",
       "27969   47           Private  Assoc-acdm             12       Never-married   \n",
       "27970   59  Self-emp-not-inc  Assoc-acdm             12            Divorced   \n",
       "27971   50  Self-emp-not-inc  Assoc-acdm             12       Never-married   \n",
       "\n",
       "              occupation   relationship                race     sex  \\\n",
       "0          Other-service           Wife               Black  Female   \n",
       "1        Exec-managerial           Wife  Asian-Pac-Islander  Female   \n",
       "2      Machine-op-inspct           Wife               White  Female   \n",
       "3        Exec-managerial           Wife               White  Female   \n",
       "4           Tech-support           Wife               White  Female   \n",
       "...                  ...            ...                 ...     ...   \n",
       "27967       Adm-clerical  Not-in-family               White    Male   \n",
       "27968      Other-service  Not-in-family               White    Male   \n",
       "27969       Adm-clerical  Not-in-family               White  Female   \n",
       "27970       Tech-support  Not-in-family               White    Male   \n",
       "27971              Sales  Not-in-family               White  Female   \n",
       "\n",
       "       capital_gain  capital_loss  hours_per_week native_country  \\\n",
       "0              3411             0              34  United-States   \n",
       "1                 0             0              48  United-States   \n",
       "2                 0             0              40  United-States   \n",
       "3                 0             0              40  United-States   \n",
       "4                 0             0              23  United-States   \n",
       "...             ...           ...             ...            ...   \n",
       "27967             0             0              40  United-States   \n",
       "27968             0             0              40  United-States   \n",
       "27969             0             0              40  United-States   \n",
       "27970             0             0              40  United-States   \n",
       "27971             0          1408               5  United-States   \n",
       "\n",
       "      income_bracket  \n",
       "0              <=50K  \n",
       "1               >50K  \n",
       "2               >50K  \n",
       "3              <=50K  \n",
       "4              <=50K  \n",
       "...              ...  \n",
       "27967          <=50K  \n",
       "27968          <=50K  \n",
       "27969          <=50K  \n",
       "27970          <=50K  \n",
       "27971          <=50K  \n",
       "\n",
       "[27962 rows x 14 columns]"
      ]
     },
     "execution_count": 130,
     "metadata": {},
     "output_type": "execute_result"
    }
   ],
   "source": [
    "# Remove Inference-Set from dataset\n",
    "\n",
    "df_train_test = df.drop(df_inf.index)\n",
    "df_train_test"
   ]
  },
  {
   "cell_type": "code",
   "execution_count": 131,
   "metadata": {},
   "outputs": [
    {
     "data": {
      "text/html": [
       "<div>\n",
       "<style scoped>\n",
       "    .dataframe tbody tr th:only-of-type {\n",
       "        vertical-align: middle;\n",
       "    }\n",
       "\n",
       "    .dataframe tbody tr th {\n",
       "        vertical-align: top;\n",
       "    }\n",
       "\n",
       "    .dataframe thead th {\n",
       "        text-align: right;\n",
       "    }\n",
       "</style>\n",
       "<table border=\"1\" class=\"dataframe\">\n",
       "  <thead>\n",
       "    <tr style=\"text-align: right;\">\n",
       "      <th></th>\n",
       "      <th>age</th>\n",
       "      <th>workclass</th>\n",
       "      <th>education</th>\n",
       "      <th>education_num</th>\n",
       "      <th>marital_status</th>\n",
       "      <th>occupation</th>\n",
       "      <th>relationship</th>\n",
       "      <th>race</th>\n",
       "      <th>sex</th>\n",
       "      <th>capital_gain</th>\n",
       "      <th>capital_loss</th>\n",
       "      <th>hours_per_week</th>\n",
       "      <th>native_country</th>\n",
       "      <th>income_bracket</th>\n",
       "    </tr>\n",
       "  </thead>\n",
       "  <tbody>\n",
       "    <tr>\n",
       "      <th>0</th>\n",
       "      <td>54</td>\n",
       "      <td>Private</td>\n",
       "      <td>Bachelors</td>\n",
       "      <td>13</td>\n",
       "      <td>Married-civ-spouse</td>\n",
       "      <td>Exec-managerial</td>\n",
       "      <td>Husband</td>\n",
       "      <td>Asian-Pac-Islander</td>\n",
       "      <td>Male</td>\n",
       "      <td>0</td>\n",
       "      <td>0</td>\n",
       "      <td>50</td>\n",
       "      <td>Japan</td>\n",
       "      <td>&gt;50K</td>\n",
       "    </tr>\n",
       "    <tr>\n",
       "      <th>1</th>\n",
       "      <td>63</td>\n",
       "      <td>Private</td>\n",
       "      <td>HS-grad</td>\n",
       "      <td>9</td>\n",
       "      <td>Divorced</td>\n",
       "      <td>Transport-moving</td>\n",
       "      <td>Unmarried</td>\n",
       "      <td>White</td>\n",
       "      <td>Male</td>\n",
       "      <td>0</td>\n",
       "      <td>0</td>\n",
       "      <td>45</td>\n",
       "      <td>United-States</td>\n",
       "      <td>&gt;50K</td>\n",
       "    </tr>\n",
       "    <tr>\n",
       "      <th>2</th>\n",
       "      <td>23</td>\n",
       "      <td>Private</td>\n",
       "      <td>Some-college</td>\n",
       "      <td>10</td>\n",
       "      <td>Married-civ-spouse</td>\n",
       "      <td>Tech-support</td>\n",
       "      <td>Husband</td>\n",
       "      <td>White</td>\n",
       "      <td>Male</td>\n",
       "      <td>0</td>\n",
       "      <td>0</td>\n",
       "      <td>40</td>\n",
       "      <td>United-States</td>\n",
       "      <td>&lt;=50K</td>\n",
       "    </tr>\n",
       "    <tr>\n",
       "      <th>3</th>\n",
       "      <td>23</td>\n",
       "      <td>Self-emp-not-inc</td>\n",
       "      <td>HS-grad</td>\n",
       "      <td>9</td>\n",
       "      <td>Never-married</td>\n",
       "      <td>Farming-fishing</td>\n",
       "      <td>Not-in-family</td>\n",
       "      <td>White</td>\n",
       "      <td>Male</td>\n",
       "      <td>0</td>\n",
       "      <td>0</td>\n",
       "      <td>25</td>\n",
       "      <td>Mexico</td>\n",
       "      <td>&lt;=50K</td>\n",
       "    </tr>\n",
       "    <tr>\n",
       "      <th>4</th>\n",
       "      <td>58</td>\n",
       "      <td>Private</td>\n",
       "      <td>HS-grad</td>\n",
       "      <td>9</td>\n",
       "      <td>Married-civ-spouse</td>\n",
       "      <td>Other-service</td>\n",
       "      <td>Husband</td>\n",
       "      <td>White</td>\n",
       "      <td>Male</td>\n",
       "      <td>0</td>\n",
       "      <td>0</td>\n",
       "      <td>24</td>\n",
       "      <td>United-States</td>\n",
       "      <td>&lt;=50K</td>\n",
       "    </tr>\n",
       "    <tr>\n",
       "      <th>5</th>\n",
       "      <td>20</td>\n",
       "      <td>Private</td>\n",
       "      <td>9th</td>\n",
       "      <td>5</td>\n",
       "      <td>Never-married</td>\n",
       "      <td>Sales</td>\n",
       "      <td>Own-child</td>\n",
       "      <td>White</td>\n",
       "      <td>Female</td>\n",
       "      <td>0</td>\n",
       "      <td>0</td>\n",
       "      <td>32</td>\n",
       "      <td>United-States</td>\n",
       "      <td>&lt;=50K</td>\n",
       "    </tr>\n",
       "    <tr>\n",
       "      <th>6</th>\n",
       "      <td>41</td>\n",
       "      <td>Private</td>\n",
       "      <td>10th</td>\n",
       "      <td>6</td>\n",
       "      <td>Never-married</td>\n",
       "      <td>Sales</td>\n",
       "      <td>Own-child</td>\n",
       "      <td>White</td>\n",
       "      <td>Female</td>\n",
       "      <td>0</td>\n",
       "      <td>0</td>\n",
       "      <td>40</td>\n",
       "      <td>United-States</td>\n",
       "      <td>&lt;=50K</td>\n",
       "    </tr>\n",
       "    <tr>\n",
       "      <th>7</th>\n",
       "      <td>33</td>\n",
       "      <td>Self-emp-not-inc</td>\n",
       "      <td>Bachelors</td>\n",
       "      <td>13</td>\n",
       "      <td>Married-civ-spouse</td>\n",
       "      <td>Prof-specialty</td>\n",
       "      <td>Wife</td>\n",
       "      <td>White</td>\n",
       "      <td>Female</td>\n",
       "      <td>0</td>\n",
       "      <td>0</td>\n",
       "      <td>50</td>\n",
       "      <td>United-States</td>\n",
       "      <td>&gt;50K</td>\n",
       "    </tr>\n",
       "    <tr>\n",
       "      <th>8</th>\n",
       "      <td>32</td>\n",
       "      <td>Self-emp-not-inc</td>\n",
       "      <td>HS-grad</td>\n",
       "      <td>9</td>\n",
       "      <td>Married-civ-spouse</td>\n",
       "      <td>Sales</td>\n",
       "      <td>Husband</td>\n",
       "      <td>White</td>\n",
       "      <td>Male</td>\n",
       "      <td>0</td>\n",
       "      <td>0</td>\n",
       "      <td>40</td>\n",
       "      <td>United-States</td>\n",
       "      <td>&lt;=50K</td>\n",
       "    </tr>\n",
       "    <tr>\n",
       "      <th>9</th>\n",
       "      <td>28</td>\n",
       "      <td>Private</td>\n",
       "      <td>Bachelors</td>\n",
       "      <td>13</td>\n",
       "      <td>Never-married</td>\n",
       "      <td>Other-service</td>\n",
       "      <td>Not-in-family</td>\n",
       "      <td>White</td>\n",
       "      <td>Male</td>\n",
       "      <td>0</td>\n",
       "      <td>0</td>\n",
       "      <td>43</td>\n",
       "      <td>Mexico</td>\n",
       "      <td>&lt;=50K</td>\n",
       "    </tr>\n",
       "  </tbody>\n",
       "</table>\n",
       "</div>"
      ],
      "text/plain": [
       "   age         workclass     education  education_num      marital_status  \\\n",
       "0   54           Private     Bachelors             13  Married-civ-spouse   \n",
       "1   63           Private       HS-grad              9            Divorced   \n",
       "2   23           Private  Some-college             10  Married-civ-spouse   \n",
       "3   23  Self-emp-not-inc       HS-grad              9       Never-married   \n",
       "4   58           Private       HS-grad              9  Married-civ-spouse   \n",
       "5   20           Private           9th              5       Never-married   \n",
       "6   41           Private          10th              6       Never-married   \n",
       "7   33  Self-emp-not-inc     Bachelors             13  Married-civ-spouse   \n",
       "8   32  Self-emp-not-inc       HS-grad              9  Married-civ-spouse   \n",
       "9   28           Private     Bachelors             13       Never-married   \n",
       "\n",
       "         occupation   relationship                race     sex  capital_gain  \\\n",
       "0   Exec-managerial        Husband  Asian-Pac-Islander    Male             0   \n",
       "1  Transport-moving      Unmarried               White    Male             0   \n",
       "2      Tech-support        Husband               White    Male             0   \n",
       "3   Farming-fishing  Not-in-family               White    Male             0   \n",
       "4     Other-service        Husband               White    Male             0   \n",
       "5             Sales      Own-child               White  Female             0   \n",
       "6             Sales      Own-child               White  Female             0   \n",
       "7    Prof-specialty           Wife               White  Female             0   \n",
       "8             Sales        Husband               White    Male             0   \n",
       "9     Other-service  Not-in-family               White    Male             0   \n",
       "\n",
       "   capital_loss  hours_per_week native_country income_bracket  \n",
       "0             0              50          Japan           >50K  \n",
       "1             0              45  United-States           >50K  \n",
       "2             0              40  United-States          <=50K  \n",
       "3             0              25         Mexico          <=50K  \n",
       "4             0              24  United-States          <=50K  \n",
       "5             0              32  United-States          <=50K  \n",
       "6             0              40  United-States          <=50K  \n",
       "7             0              50  United-States           >50K  \n",
       "8             0              40  United-States          <=50K  \n",
       "9             0              43         Mexico          <=50K  "
      ]
     },
     "execution_count": 131,
     "metadata": {},
     "output_type": "execute_result"
    }
   ],
   "source": [
    "# Reset Index (Minimalizing error)\n",
    "\n",
    "df_train_test.reset_index(drop=True, inplace=True)\n",
    "df_inf.reset_index(drop=True, inplace=True)\n",
    "df_inf"
   ]
  },
  {
   "cell_type": "markdown",
   "metadata": {},
   "source": [
    "## Feature Selection"
   ]
  },
  {
   "cell_type": "code",
   "execution_count": 132,
   "metadata": {},
   "outputs": [
    {
     "data": {
      "text/plain": [
       "Index(['age', 'workclass', 'education', 'education_num', 'marital_status',\n",
       "       'occupation', 'relationship', 'race', 'sex', 'capital_gain',\n",
       "       'capital_loss', 'hours_per_week', 'native_country', 'income_bracket'],\n",
       "      dtype='object')"
      ]
     },
     "execution_count": 132,
     "metadata": {},
     "output_type": "execute_result"
    }
   ],
   "source": [
    "# Display all columns\n",
    "\n",
    "df_train_test.columns"
   ]
  },
  {
   "cell_type": "markdown",
   "metadata": {},
   "source": [
    "The target is to predict Income bracket so here ara several feature considered to included in training and testing.\n",
    "- Age. Usually the older people, the more experience they gaines so the income can become larger.\n",
    "- Workclass. Define what kind of company of that person work for. Sometimes the private company for certain position \n",
    "- Education. In some cases, the higher education of that person, the more income they get.\n",
    "- Marital-status. In some cases, if you are married, single, or divorced, your salary is affected.\n",
    "- Occupation. The ocupation of someone always impact their income.\n",
    "- Relationship. In some cases, if you are married or have children, your salary is usually increased.\n",
    "- Capital-gain. It has been explained before that the more capital people gained their income can be increased. \n",
    "- Capital-loss. Reverse of capital loss.\n",
    "- Hours-per-week. For certain cases, the more people work, the larger income they get.\n",
    "- Native-country. Describe individual their native country. Usually if that person is local or outsider the salary can also being affected.\n",
    "\n",
    "\n",
    "Based on the existing features, some columns that are deemed unnecessary will be removed. First is education. Education has been represented from another feature, namely 'education_num' because 'education_num' is also sequential based on its level, so education will be deleted. Second is race. It's not on the era where several race still discriminated. Right nor race only become a physical identity for individual so that they can be easily identified, therefore the race will be deleted. Third is Sex. Previously it has been explained that What distinguishes between female and male later is the status in marriage (wife or husband). Because if not married then both are considered the same. Therefore sex does not affect income. "
   ]
  },
  {
   "cell_type": "code",
   "execution_count": 133,
   "metadata": {},
   "outputs": [
    {
     "data": {
      "text/html": [
       "<div>\n",
       "<style scoped>\n",
       "    .dataframe tbody tr th:only-of-type {\n",
       "        vertical-align: middle;\n",
       "    }\n",
       "\n",
       "    .dataframe tbody tr th {\n",
       "        vertical-align: top;\n",
       "    }\n",
       "\n",
       "    .dataframe thead th {\n",
       "        text-align: right;\n",
       "    }\n",
       "</style>\n",
       "<table border=\"1\" class=\"dataframe\">\n",
       "  <thead>\n",
       "    <tr style=\"text-align: right;\">\n",
       "      <th></th>\n",
       "      <th>age</th>\n",
       "      <th>workclass</th>\n",
       "      <th>education_num</th>\n",
       "      <th>marital_status</th>\n",
       "      <th>occupation</th>\n",
       "      <th>relationship</th>\n",
       "      <th>capital_gain</th>\n",
       "      <th>capital_loss</th>\n",
       "      <th>hours_per_week</th>\n",
       "      <th>native_country</th>\n",
       "      <th>income_bracket</th>\n",
       "    </tr>\n",
       "  </thead>\n",
       "  <tbody>\n",
       "    <tr>\n",
       "      <th>0</th>\n",
       "      <td>39</td>\n",
       "      <td>Private</td>\n",
       "      <td>5</td>\n",
       "      <td>Married-civ-spouse</td>\n",
       "      <td>Other-service</td>\n",
       "      <td>Wife</td>\n",
       "      <td>3411</td>\n",
       "      <td>0</td>\n",
       "      <td>34</td>\n",
       "      <td>United-States</td>\n",
       "      <td>&lt;=50K</td>\n",
       "    </tr>\n",
       "    <tr>\n",
       "      <th>1</th>\n",
       "      <td>72</td>\n",
       "      <td>Private</td>\n",
       "      <td>5</td>\n",
       "      <td>Married-civ-spouse</td>\n",
       "      <td>Exec-managerial</td>\n",
       "      <td>Wife</td>\n",
       "      <td>0</td>\n",
       "      <td>0</td>\n",
       "      <td>48</td>\n",
       "      <td>United-States</td>\n",
       "      <td>&gt;50K</td>\n",
       "    </tr>\n",
       "    <tr>\n",
       "      <th>2</th>\n",
       "      <td>45</td>\n",
       "      <td>Private</td>\n",
       "      <td>5</td>\n",
       "      <td>Married-civ-spouse</td>\n",
       "      <td>Machine-op-inspct</td>\n",
       "      <td>Wife</td>\n",
       "      <td>0</td>\n",
       "      <td>0</td>\n",
       "      <td>40</td>\n",
       "      <td>United-States</td>\n",
       "      <td>&gt;50K</td>\n",
       "    </tr>\n",
       "    <tr>\n",
       "      <th>3</th>\n",
       "      <td>31</td>\n",
       "      <td>Private</td>\n",
       "      <td>5</td>\n",
       "      <td>Married-civ-spouse</td>\n",
       "      <td>Exec-managerial</td>\n",
       "      <td>Wife</td>\n",
       "      <td>0</td>\n",
       "      <td>0</td>\n",
       "      <td>40</td>\n",
       "      <td>United-States</td>\n",
       "      <td>&lt;=50K</td>\n",
       "    </tr>\n",
       "    <tr>\n",
       "      <th>4</th>\n",
       "      <td>55</td>\n",
       "      <td>Private</td>\n",
       "      <td>5</td>\n",
       "      <td>Married-civ-spouse</td>\n",
       "      <td>Tech-support</td>\n",
       "      <td>Wife</td>\n",
       "      <td>0</td>\n",
       "      <td>0</td>\n",
       "      <td>23</td>\n",
       "      <td>United-States</td>\n",
       "      <td>&lt;=50K</td>\n",
       "    </tr>\n",
       "    <tr>\n",
       "      <th>...</th>\n",
       "      <td>...</td>\n",
       "      <td>...</td>\n",
       "      <td>...</td>\n",
       "      <td>...</td>\n",
       "      <td>...</td>\n",
       "      <td>...</td>\n",
       "      <td>...</td>\n",
       "      <td>...</td>\n",
       "      <td>...</td>\n",
       "      <td>...</td>\n",
       "      <td>...</td>\n",
       "    </tr>\n",
       "    <tr>\n",
       "      <th>27957</th>\n",
       "      <td>22</td>\n",
       "      <td>State-gov</td>\n",
       "      <td>12</td>\n",
       "      <td>Never-married</td>\n",
       "      <td>Adm-clerical</td>\n",
       "      <td>Not-in-family</td>\n",
       "      <td>0</td>\n",
       "      <td>0</td>\n",
       "      <td>40</td>\n",
       "      <td>United-States</td>\n",
       "      <td>&lt;=50K</td>\n",
       "    </tr>\n",
       "    <tr>\n",
       "      <th>27958</th>\n",
       "      <td>26</td>\n",
       "      <td>Private</td>\n",
       "      <td>12</td>\n",
       "      <td>Never-married</td>\n",
       "      <td>Other-service</td>\n",
       "      <td>Not-in-family</td>\n",
       "      <td>0</td>\n",
       "      <td>0</td>\n",
       "      <td>40</td>\n",
       "      <td>United-States</td>\n",
       "      <td>&lt;=50K</td>\n",
       "    </tr>\n",
       "    <tr>\n",
       "      <th>27959</th>\n",
       "      <td>47</td>\n",
       "      <td>Private</td>\n",
       "      <td>12</td>\n",
       "      <td>Never-married</td>\n",
       "      <td>Adm-clerical</td>\n",
       "      <td>Not-in-family</td>\n",
       "      <td>0</td>\n",
       "      <td>0</td>\n",
       "      <td>40</td>\n",
       "      <td>United-States</td>\n",
       "      <td>&lt;=50K</td>\n",
       "    </tr>\n",
       "    <tr>\n",
       "      <th>27960</th>\n",
       "      <td>59</td>\n",
       "      <td>Self-emp-not-inc</td>\n",
       "      <td>12</td>\n",
       "      <td>Divorced</td>\n",
       "      <td>Tech-support</td>\n",
       "      <td>Not-in-family</td>\n",
       "      <td>0</td>\n",
       "      <td>0</td>\n",
       "      <td>40</td>\n",
       "      <td>United-States</td>\n",
       "      <td>&lt;=50K</td>\n",
       "    </tr>\n",
       "    <tr>\n",
       "      <th>27961</th>\n",
       "      <td>50</td>\n",
       "      <td>Self-emp-not-inc</td>\n",
       "      <td>12</td>\n",
       "      <td>Never-married</td>\n",
       "      <td>Sales</td>\n",
       "      <td>Not-in-family</td>\n",
       "      <td>0</td>\n",
       "      <td>1408</td>\n",
       "      <td>5</td>\n",
       "      <td>United-States</td>\n",
       "      <td>&lt;=50K</td>\n",
       "    </tr>\n",
       "  </tbody>\n",
       "</table>\n",
       "<p>27962 rows × 11 columns</p>\n",
       "</div>"
      ],
      "text/plain": [
       "       age         workclass  education_num      marital_status  \\\n",
       "0       39           Private              5  Married-civ-spouse   \n",
       "1       72           Private              5  Married-civ-spouse   \n",
       "2       45           Private              5  Married-civ-spouse   \n",
       "3       31           Private              5  Married-civ-spouse   \n",
       "4       55           Private              5  Married-civ-spouse   \n",
       "...    ...               ...            ...                 ...   \n",
       "27957   22         State-gov             12       Never-married   \n",
       "27958   26           Private             12       Never-married   \n",
       "27959   47           Private             12       Never-married   \n",
       "27960   59  Self-emp-not-inc             12            Divorced   \n",
       "27961   50  Self-emp-not-inc             12       Never-married   \n",
       "\n",
       "              occupation   relationship  capital_gain  capital_loss  \\\n",
       "0          Other-service           Wife          3411             0   \n",
       "1        Exec-managerial           Wife             0             0   \n",
       "2      Machine-op-inspct           Wife             0             0   \n",
       "3        Exec-managerial           Wife             0             0   \n",
       "4           Tech-support           Wife             0             0   \n",
       "...                  ...            ...           ...           ...   \n",
       "27957       Adm-clerical  Not-in-family             0             0   \n",
       "27958      Other-service  Not-in-family             0             0   \n",
       "27959       Adm-clerical  Not-in-family             0             0   \n",
       "27960       Tech-support  Not-in-family             0             0   \n",
       "27961              Sales  Not-in-family             0          1408   \n",
       "\n",
       "       hours_per_week native_country income_bracket  \n",
       "0                  34  United-States          <=50K  \n",
       "1                  48  United-States           >50K  \n",
       "2                  40  United-States           >50K  \n",
       "3                  40  United-States          <=50K  \n",
       "4                  23  United-States          <=50K  \n",
       "...               ...            ...            ...  \n",
       "27957              40  United-States          <=50K  \n",
       "27958              40  United-States          <=50K  \n",
       "27959              40  United-States          <=50K  \n",
       "27960              40  United-States          <=50K  \n",
       "27961               5  United-States          <=50K  \n",
       "\n",
       "[27962 rows x 11 columns]"
      ]
     },
     "execution_count": 133,
     "metadata": {},
     "output_type": "execute_result"
    }
   ],
   "source": [
    "# Drop the unecessary columns\n",
    "\n",
    "dropped_col_df = df_train_test.drop(['education','race','sex'],axis=1)\n",
    "\n",
    "dropped_col_df\n"
   ]
  },
  {
   "cell_type": "markdown",
   "metadata": {},
   "source": [
    "Next doing simple cardiality. There are a lot of origin country in 'native_country'. This Native Country will later be divided between US and Non US. Missing Value is usually handled in the Handling Missing Value section, but because there is data in 'native_country' which has a value of '?' and the identity of them is unknown, it will be handled prior to the change in value in the 'Native_Country'/ Note: Also we can change (?) values to null in data loading."
   ]
  },
  {
   "cell_type": "code",
   "execution_count": 134,
   "metadata": {},
   "outputs": [],
   "source": [
    "# Drop row with (?) value\n",
    "\n",
    "dropped_col_df.drop(dropped_col_df[dropped_col_df['native_country'] == '?'].index, inplace = True)"
   ]
  },
  {
   "cell_type": "code",
   "execution_count": 135,
   "metadata": {},
   "outputs": [
    {
     "data": {
      "text/html": [
       "<div>\n",
       "<style scoped>\n",
       "    .dataframe tbody tr th:only-of-type {\n",
       "        vertical-align: middle;\n",
       "    }\n",
       "\n",
       "    .dataframe tbody tr th {\n",
       "        vertical-align: top;\n",
       "    }\n",
       "\n",
       "    .dataframe thead th {\n",
       "        text-align: right;\n",
       "    }\n",
       "</style>\n",
       "<table border=\"1\" class=\"dataframe\">\n",
       "  <thead>\n",
       "    <tr style=\"text-align: right;\">\n",
       "      <th></th>\n",
       "      <th>age</th>\n",
       "      <th>workclass</th>\n",
       "      <th>education_num</th>\n",
       "      <th>marital_status</th>\n",
       "      <th>occupation</th>\n",
       "      <th>relationship</th>\n",
       "      <th>capital_gain</th>\n",
       "      <th>capital_loss</th>\n",
       "      <th>hours_per_week</th>\n",
       "      <th>native_country</th>\n",
       "      <th>income_bracket</th>\n",
       "    </tr>\n",
       "  </thead>\n",
       "  <tbody>\n",
       "    <tr>\n",
       "      <th>0</th>\n",
       "      <td>39</td>\n",
       "      <td>Private</td>\n",
       "      <td>5</td>\n",
       "      <td>Married-civ-spouse</td>\n",
       "      <td>Other-service</td>\n",
       "      <td>Wife</td>\n",
       "      <td>3411</td>\n",
       "      <td>0</td>\n",
       "      <td>34</td>\n",
       "      <td>United-States</td>\n",
       "      <td>&lt;=50K</td>\n",
       "    </tr>\n",
       "    <tr>\n",
       "      <th>1</th>\n",
       "      <td>72</td>\n",
       "      <td>Private</td>\n",
       "      <td>5</td>\n",
       "      <td>Married-civ-spouse</td>\n",
       "      <td>Exec-managerial</td>\n",
       "      <td>Wife</td>\n",
       "      <td>0</td>\n",
       "      <td>0</td>\n",
       "      <td>48</td>\n",
       "      <td>United-States</td>\n",
       "      <td>&gt;50K</td>\n",
       "    </tr>\n",
       "    <tr>\n",
       "      <th>2</th>\n",
       "      <td>45</td>\n",
       "      <td>Private</td>\n",
       "      <td>5</td>\n",
       "      <td>Married-civ-spouse</td>\n",
       "      <td>Machine-op-inspct</td>\n",
       "      <td>Wife</td>\n",
       "      <td>0</td>\n",
       "      <td>0</td>\n",
       "      <td>40</td>\n",
       "      <td>United-States</td>\n",
       "      <td>&gt;50K</td>\n",
       "    </tr>\n",
       "    <tr>\n",
       "      <th>3</th>\n",
       "      <td>31</td>\n",
       "      <td>Private</td>\n",
       "      <td>5</td>\n",
       "      <td>Married-civ-spouse</td>\n",
       "      <td>Exec-managerial</td>\n",
       "      <td>Wife</td>\n",
       "      <td>0</td>\n",
       "      <td>0</td>\n",
       "      <td>40</td>\n",
       "      <td>United-States</td>\n",
       "      <td>&lt;=50K</td>\n",
       "    </tr>\n",
       "    <tr>\n",
       "      <th>4</th>\n",
       "      <td>55</td>\n",
       "      <td>Private</td>\n",
       "      <td>5</td>\n",
       "      <td>Married-civ-spouse</td>\n",
       "      <td>Tech-support</td>\n",
       "      <td>Wife</td>\n",
       "      <td>0</td>\n",
       "      <td>0</td>\n",
       "      <td>23</td>\n",
       "      <td>United-States</td>\n",
       "      <td>&lt;=50K</td>\n",
       "    </tr>\n",
       "    <tr>\n",
       "      <th>...</th>\n",
       "      <td>...</td>\n",
       "      <td>...</td>\n",
       "      <td>...</td>\n",
       "      <td>...</td>\n",
       "      <td>...</td>\n",
       "      <td>...</td>\n",
       "      <td>...</td>\n",
       "      <td>...</td>\n",
       "      <td>...</td>\n",
       "      <td>...</td>\n",
       "      <td>...</td>\n",
       "    </tr>\n",
       "    <tr>\n",
       "      <th>27957</th>\n",
       "      <td>22</td>\n",
       "      <td>State-gov</td>\n",
       "      <td>12</td>\n",
       "      <td>Never-married</td>\n",
       "      <td>Adm-clerical</td>\n",
       "      <td>Not-in-family</td>\n",
       "      <td>0</td>\n",
       "      <td>0</td>\n",
       "      <td>40</td>\n",
       "      <td>United-States</td>\n",
       "      <td>&lt;=50K</td>\n",
       "    </tr>\n",
       "    <tr>\n",
       "      <th>27958</th>\n",
       "      <td>26</td>\n",
       "      <td>Private</td>\n",
       "      <td>12</td>\n",
       "      <td>Never-married</td>\n",
       "      <td>Other-service</td>\n",
       "      <td>Not-in-family</td>\n",
       "      <td>0</td>\n",
       "      <td>0</td>\n",
       "      <td>40</td>\n",
       "      <td>United-States</td>\n",
       "      <td>&lt;=50K</td>\n",
       "    </tr>\n",
       "    <tr>\n",
       "      <th>27959</th>\n",
       "      <td>47</td>\n",
       "      <td>Private</td>\n",
       "      <td>12</td>\n",
       "      <td>Never-married</td>\n",
       "      <td>Adm-clerical</td>\n",
       "      <td>Not-in-family</td>\n",
       "      <td>0</td>\n",
       "      <td>0</td>\n",
       "      <td>40</td>\n",
       "      <td>United-States</td>\n",
       "      <td>&lt;=50K</td>\n",
       "    </tr>\n",
       "    <tr>\n",
       "      <th>27960</th>\n",
       "      <td>59</td>\n",
       "      <td>Self-emp-not-inc</td>\n",
       "      <td>12</td>\n",
       "      <td>Divorced</td>\n",
       "      <td>Tech-support</td>\n",
       "      <td>Not-in-family</td>\n",
       "      <td>0</td>\n",
       "      <td>0</td>\n",
       "      <td>40</td>\n",
       "      <td>United-States</td>\n",
       "      <td>&lt;=50K</td>\n",
       "    </tr>\n",
       "    <tr>\n",
       "      <th>27961</th>\n",
       "      <td>50</td>\n",
       "      <td>Self-emp-not-inc</td>\n",
       "      <td>12</td>\n",
       "      <td>Never-married</td>\n",
       "      <td>Sales</td>\n",
       "      <td>Not-in-family</td>\n",
       "      <td>0</td>\n",
       "      <td>1408</td>\n",
       "      <td>5</td>\n",
       "      <td>United-States</td>\n",
       "      <td>&lt;=50K</td>\n",
       "    </tr>\n",
       "  </tbody>\n",
       "</table>\n",
       "<p>27459 rows × 11 columns</p>\n",
       "</div>"
      ],
      "text/plain": [
       "       age         workclass  education_num      marital_status  \\\n",
       "0       39           Private              5  Married-civ-spouse   \n",
       "1       72           Private              5  Married-civ-spouse   \n",
       "2       45           Private              5  Married-civ-spouse   \n",
       "3       31           Private              5  Married-civ-spouse   \n",
       "4       55           Private              5  Married-civ-spouse   \n",
       "...    ...               ...            ...                 ...   \n",
       "27957   22         State-gov             12       Never-married   \n",
       "27958   26           Private             12       Never-married   \n",
       "27959   47           Private             12       Never-married   \n",
       "27960   59  Self-emp-not-inc             12            Divorced   \n",
       "27961   50  Self-emp-not-inc             12       Never-married   \n",
       "\n",
       "              occupation   relationship  capital_gain  capital_loss  \\\n",
       "0          Other-service           Wife          3411             0   \n",
       "1        Exec-managerial           Wife             0             0   \n",
       "2      Machine-op-inspct           Wife             0             0   \n",
       "3        Exec-managerial           Wife             0             0   \n",
       "4           Tech-support           Wife             0             0   \n",
       "...                  ...            ...           ...           ...   \n",
       "27957       Adm-clerical  Not-in-family             0             0   \n",
       "27958      Other-service  Not-in-family             0             0   \n",
       "27959       Adm-clerical  Not-in-family             0             0   \n",
       "27960       Tech-support  Not-in-family             0             0   \n",
       "27961              Sales  Not-in-family             0          1408   \n",
       "\n",
       "       hours_per_week native_country income_bracket  \n",
       "0                  34  United-States          <=50K  \n",
       "1                  48  United-States           >50K  \n",
       "2                  40  United-States           >50K  \n",
       "3                  40  United-States          <=50K  \n",
       "4                  23  United-States          <=50K  \n",
       "...               ...            ...            ...  \n",
       "27957              40  United-States          <=50K  \n",
       "27958              40  United-States          <=50K  \n",
       "27959              40  United-States          <=50K  \n",
       "27960              40  United-States          <=50K  \n",
       "27961               5  United-States          <=50K  \n",
       "\n",
       "[27459 rows x 11 columns]"
      ]
     },
     "execution_count": 135,
     "metadata": {},
     "output_type": "execute_result"
    }
   ],
   "source": [
    "# Change native Country\n",
    "\n",
    "dropped_col_df.loc[dropped_col_df[\"native_country\"] != \"United-States\", \"native_country\"] = \"Non-United-States\"\n",
    "\n",
    "dropped_col_df"
   ]
  },
  {
   "cell_type": "markdown",
   "metadata": {},
   "source": [
    "## Splitting between 'X' (Features) and 'y' (Target)"
   ]
  },
  {
   "cell_type": "code",
   "execution_count": 136,
   "metadata": {},
   "outputs": [
    {
     "data": {
      "text/html": [
       "<div>\n",
       "<style scoped>\n",
       "    .dataframe tbody tr th:only-of-type {\n",
       "        vertical-align: middle;\n",
       "    }\n",
       "\n",
       "    .dataframe tbody tr th {\n",
       "        vertical-align: top;\n",
       "    }\n",
       "\n",
       "    .dataframe thead th {\n",
       "        text-align: right;\n",
       "    }\n",
       "</style>\n",
       "<table border=\"1\" class=\"dataframe\">\n",
       "  <thead>\n",
       "    <tr style=\"text-align: right;\">\n",
       "      <th></th>\n",
       "      <th>age</th>\n",
       "      <th>workclass</th>\n",
       "      <th>education_num</th>\n",
       "      <th>marital_status</th>\n",
       "      <th>occupation</th>\n",
       "      <th>relationship</th>\n",
       "      <th>capital_gain</th>\n",
       "      <th>capital_loss</th>\n",
       "      <th>hours_per_week</th>\n",
       "      <th>native_country</th>\n",
       "    </tr>\n",
       "  </thead>\n",
       "  <tbody>\n",
       "    <tr>\n",
       "      <th>0</th>\n",
       "      <td>39</td>\n",
       "      <td>Private</td>\n",
       "      <td>5</td>\n",
       "      <td>Married-civ-spouse</td>\n",
       "      <td>Other-service</td>\n",
       "      <td>Wife</td>\n",
       "      <td>3411</td>\n",
       "      <td>0</td>\n",
       "      <td>34</td>\n",
       "      <td>United-States</td>\n",
       "    </tr>\n",
       "    <tr>\n",
       "      <th>1</th>\n",
       "      <td>72</td>\n",
       "      <td>Private</td>\n",
       "      <td>5</td>\n",
       "      <td>Married-civ-spouse</td>\n",
       "      <td>Exec-managerial</td>\n",
       "      <td>Wife</td>\n",
       "      <td>0</td>\n",
       "      <td>0</td>\n",
       "      <td>48</td>\n",
       "      <td>United-States</td>\n",
       "    </tr>\n",
       "    <tr>\n",
       "      <th>2</th>\n",
       "      <td>45</td>\n",
       "      <td>Private</td>\n",
       "      <td>5</td>\n",
       "      <td>Married-civ-spouse</td>\n",
       "      <td>Machine-op-inspct</td>\n",
       "      <td>Wife</td>\n",
       "      <td>0</td>\n",
       "      <td>0</td>\n",
       "      <td>40</td>\n",
       "      <td>United-States</td>\n",
       "    </tr>\n",
       "    <tr>\n",
       "      <th>3</th>\n",
       "      <td>31</td>\n",
       "      <td>Private</td>\n",
       "      <td>5</td>\n",
       "      <td>Married-civ-spouse</td>\n",
       "      <td>Exec-managerial</td>\n",
       "      <td>Wife</td>\n",
       "      <td>0</td>\n",
       "      <td>0</td>\n",
       "      <td>40</td>\n",
       "      <td>United-States</td>\n",
       "    </tr>\n",
       "    <tr>\n",
       "      <th>4</th>\n",
       "      <td>55</td>\n",
       "      <td>Private</td>\n",
       "      <td>5</td>\n",
       "      <td>Married-civ-spouse</td>\n",
       "      <td>Tech-support</td>\n",
       "      <td>Wife</td>\n",
       "      <td>0</td>\n",
       "      <td>0</td>\n",
       "      <td>23</td>\n",
       "      <td>United-States</td>\n",
       "    </tr>\n",
       "    <tr>\n",
       "      <th>...</th>\n",
       "      <td>...</td>\n",
       "      <td>...</td>\n",
       "      <td>...</td>\n",
       "      <td>...</td>\n",
       "      <td>...</td>\n",
       "      <td>...</td>\n",
       "      <td>...</td>\n",
       "      <td>...</td>\n",
       "      <td>...</td>\n",
       "      <td>...</td>\n",
       "    </tr>\n",
       "    <tr>\n",
       "      <th>27957</th>\n",
       "      <td>22</td>\n",
       "      <td>State-gov</td>\n",
       "      <td>12</td>\n",
       "      <td>Never-married</td>\n",
       "      <td>Adm-clerical</td>\n",
       "      <td>Not-in-family</td>\n",
       "      <td>0</td>\n",
       "      <td>0</td>\n",
       "      <td>40</td>\n",
       "      <td>United-States</td>\n",
       "    </tr>\n",
       "    <tr>\n",
       "      <th>27958</th>\n",
       "      <td>26</td>\n",
       "      <td>Private</td>\n",
       "      <td>12</td>\n",
       "      <td>Never-married</td>\n",
       "      <td>Other-service</td>\n",
       "      <td>Not-in-family</td>\n",
       "      <td>0</td>\n",
       "      <td>0</td>\n",
       "      <td>40</td>\n",
       "      <td>United-States</td>\n",
       "    </tr>\n",
       "    <tr>\n",
       "      <th>27959</th>\n",
       "      <td>47</td>\n",
       "      <td>Private</td>\n",
       "      <td>12</td>\n",
       "      <td>Never-married</td>\n",
       "      <td>Adm-clerical</td>\n",
       "      <td>Not-in-family</td>\n",
       "      <td>0</td>\n",
       "      <td>0</td>\n",
       "      <td>40</td>\n",
       "      <td>United-States</td>\n",
       "    </tr>\n",
       "    <tr>\n",
       "      <th>27960</th>\n",
       "      <td>59</td>\n",
       "      <td>Self-emp-not-inc</td>\n",
       "      <td>12</td>\n",
       "      <td>Divorced</td>\n",
       "      <td>Tech-support</td>\n",
       "      <td>Not-in-family</td>\n",
       "      <td>0</td>\n",
       "      <td>0</td>\n",
       "      <td>40</td>\n",
       "      <td>United-States</td>\n",
       "    </tr>\n",
       "    <tr>\n",
       "      <th>27961</th>\n",
       "      <td>50</td>\n",
       "      <td>Self-emp-not-inc</td>\n",
       "      <td>12</td>\n",
       "      <td>Never-married</td>\n",
       "      <td>Sales</td>\n",
       "      <td>Not-in-family</td>\n",
       "      <td>0</td>\n",
       "      <td>1408</td>\n",
       "      <td>5</td>\n",
       "      <td>United-States</td>\n",
       "    </tr>\n",
       "  </tbody>\n",
       "</table>\n",
       "<p>27459 rows × 10 columns</p>\n",
       "</div>"
      ],
      "text/plain": [
       "       age         workclass  education_num      marital_status  \\\n",
       "0       39           Private              5  Married-civ-spouse   \n",
       "1       72           Private              5  Married-civ-spouse   \n",
       "2       45           Private              5  Married-civ-spouse   \n",
       "3       31           Private              5  Married-civ-spouse   \n",
       "4       55           Private              5  Married-civ-spouse   \n",
       "...    ...               ...            ...                 ...   \n",
       "27957   22         State-gov             12       Never-married   \n",
       "27958   26           Private             12       Never-married   \n",
       "27959   47           Private             12       Never-married   \n",
       "27960   59  Self-emp-not-inc             12            Divorced   \n",
       "27961   50  Self-emp-not-inc             12       Never-married   \n",
       "\n",
       "              occupation   relationship  capital_gain  capital_loss  \\\n",
       "0          Other-service           Wife          3411             0   \n",
       "1        Exec-managerial           Wife             0             0   \n",
       "2      Machine-op-inspct           Wife             0             0   \n",
       "3        Exec-managerial           Wife             0             0   \n",
       "4           Tech-support           Wife             0             0   \n",
       "...                  ...            ...           ...           ...   \n",
       "27957       Adm-clerical  Not-in-family             0             0   \n",
       "27958      Other-service  Not-in-family             0             0   \n",
       "27959       Adm-clerical  Not-in-family             0             0   \n",
       "27960       Tech-support  Not-in-family             0             0   \n",
       "27961              Sales  Not-in-family             0          1408   \n",
       "\n",
       "       hours_per_week native_country  \n",
       "0                  34  United-States  \n",
       "1                  48  United-States  \n",
       "2                  40  United-States  \n",
       "3                  40  United-States  \n",
       "4                  23  United-States  \n",
       "...               ...            ...  \n",
       "27957              40  United-States  \n",
       "27958              40  United-States  \n",
       "27959              40  United-States  \n",
       "27960              40  United-States  \n",
       "27961               5  United-States  \n",
       "\n",
       "[27459 rows x 10 columns]"
      ]
     },
     "execution_count": 136,
     "metadata": {},
     "output_type": "execute_result"
    }
   ],
   "source": [
    "# Splitting Features and Target\n",
    "\n",
    "X = dropped_col_df.drop('income_bracket', axis = 1)\n",
    "y = dropped_col_df['income_bracket']\n",
    "\n",
    "X"
   ]
  },
  {
   "cell_type": "code",
   "execution_count": 137,
   "metadata": {},
   "outputs": [
    {
     "name": "stdout",
     "output_type": "stream",
     "text": [
      "Features Train Size :  (21967, 10) , Target Train Size :  (21967,)\n",
      "Features Test Size :  (5492, 10) , Target Test Size :  (5492,)\n"
     ]
    }
   ],
   "source": [
    "# Splitting train and test\n",
    "\n",
    "X_train, X_test, y_train, y_test = train_test_split(X, y, test_size = 0.2, random_state=13) \n",
    "\n",
    "# Checking train and test size\n",
    "\n",
    "print('Features Train Size : ', X_train.shape,', Target Train Size : ', y_train.shape)\n",
    "print('Features Test Size : ', X_test.shape,', Target Test Size : ', y_test.shape)"
   ]
  },
  {
   "cell_type": "markdown",
   "metadata": {},
   "source": [
    "## Handling Missing Values"
   ]
  },
  {
   "cell_type": "markdown",
   "metadata": {},
   "source": [
    "### Features Train"
   ]
  },
  {
   "cell_type": "code",
   "execution_count": 138,
   "metadata": {},
   "outputs": [
    {
     "data": {
      "text/plain": [
       "age               0\n",
       "workclass         0\n",
       "education_num     0\n",
       "marital_status    0\n",
       "occupation        0\n",
       "relationship      0\n",
       "capital_gain      0\n",
       "capital_loss      0\n",
       "hours_per_week    0\n",
       "native_country    0\n",
       "dtype: int64"
      ]
     },
     "execution_count": 138,
     "metadata": {},
     "output_type": "execute_result"
    }
   ],
   "source": [
    "# Checking missing value in features train\n",
    "\n",
    "X_train.isnull().sum()"
   ]
  },
  {
   "cell_type": "markdown",
   "metadata": {},
   "source": [
    "The Missing value in 'native_country' has been handled but in occupation there are also missing value with '?' (I checked again one by one). So later teh row with those null value will be dropped."
   ]
  },
  {
   "cell_type": "code",
   "execution_count": 139,
   "metadata": {},
   "outputs": [],
   "source": [
    "# Drop row with (?) value\n",
    "X_train.drop(X_train[X_train['occupation'] == '?'].index, inplace = True)\n"
   ]
  },
  {
   "cell_type": "markdown",
   "metadata": {},
   "source": [
    "### Features Test"
   ]
  },
  {
   "cell_type": "code",
   "execution_count": 140,
   "metadata": {},
   "outputs": [
    {
     "data": {
      "text/plain": [
       "age               0\n",
       "workclass         0\n",
       "education_num     0\n",
       "marital_status    0\n",
       "occupation        0\n",
       "relationship      0\n",
       "capital_gain      0\n",
       "capital_loss      0\n",
       "hours_per_week    0\n",
       "native_country    0\n",
       "dtype: int64"
      ]
     },
     "execution_count": 140,
     "metadata": {},
     "output_type": "execute_result"
    }
   ],
   "source": [
    "# Checking missing value in features test\n",
    "\n",
    "X_test.isnull().sum()"
   ]
  },
  {
   "cell_type": "markdown",
   "metadata": {},
   "source": [
    "Dropping '?' value in 'occupation' feature same as Features train. "
   ]
  },
  {
   "cell_type": "code",
   "execution_count": 141,
   "metadata": {},
   "outputs": [],
   "source": [
    "# Drop row with (?) value\n",
    "X_test.drop(X_test[X_test['occupation'] == '?'].index, inplace = True)\n"
   ]
  },
  {
   "cell_type": "markdown",
   "metadata": {},
   "source": [
    "### Target Train"
   ]
  },
  {
   "cell_type": "code",
   "execution_count": 142,
   "metadata": {},
   "outputs": [
    {
     "data": {
      "text/plain": [
       "0"
      ]
     },
     "execution_count": 142,
     "metadata": {},
     "output_type": "execute_result"
    }
   ],
   "source": [
    "# Checking missing value in target train\n",
    "\n",
    "y_train.isnull().sum()"
   ]
  },
  {
   "cell_type": "markdown",
   "metadata": {},
   "source": [
    "There are no missing values in Target Train. Since there are row dropped in Features Train, I'm erasing row in Target Train with similiar index in Feature Train."
   ]
  },
  {
   "cell_type": "code",
   "execution_count": 143,
   "metadata": {},
   "outputs": [],
   "source": [
    "# Drop Row to match Features train\n",
    "\n",
    "y_train = y_train[y_train.index.isin(X_train.index)]"
   ]
  },
  {
   "cell_type": "markdown",
   "metadata": {},
   "source": [
    "### Target Test"
   ]
  },
  {
   "cell_type": "code",
   "execution_count": 144,
   "metadata": {},
   "outputs": [
    {
     "data": {
      "text/plain": [
       "0"
      ]
     },
     "execution_count": 144,
     "metadata": {},
     "output_type": "execute_result"
    }
   ],
   "source": [
    "# Checking missing value in target test\n",
    "\n",
    "y_test.isnull().sum()"
   ]
  },
  {
   "cell_type": "markdown",
   "metadata": {},
   "source": [
    "There are no missing values in Target Train. Also doing similiar step in Target Test."
   ]
  },
  {
   "cell_type": "code",
   "execution_count": 145,
   "metadata": {},
   "outputs": [],
   "source": [
    "# Drop Row to match Features test\n",
    "\n",
    "y_test = y_test[y_test.index.isin(X_test.index)]"
   ]
  },
  {
   "cell_type": "markdown",
   "metadata": {},
   "source": [
    "## Handling Outlier"
   ]
  },
  {
   "cell_type": "markdown",
   "metadata": {},
   "source": [
    "Handling Outlier only done in Features Train Only. Since later we will predict the 'Income bracket' using Logistic Regression and SVC, the outlier will be handled by winsorizing. The reason is because winsorizing will replace the upper and lower value with IQR maximun and minmun value. SVC is a model which very sensitive towards outlier, so without change the mean and the quartile, the outlier will still be handled."
   ]
  },
  {
   "cell_type": "markdown",
   "metadata": {},
   "source": [
    "#### Age"
   ]
  },
  {
   "cell_type": "code",
   "execution_count": 146,
   "metadata": {},
   "outputs": [
    {
     "data": {
      "image/png": "[encoded data removed]",
      "text/plain": [
       "<Figure size 720x576 with 1 Axes>"
      ]
     },
     "metadata": {
      "needs_background": "light"
     },
     "output_type": "display_data"
    }
   ],
   "source": [
    "# showing boxplot\n",
    "\n",
    "X_train['age'].plot(kind='box', title='Features Train - Age', figsize=(10,8))\n",
    "plt.show()"
   ]
  },
  {
   "cell_type": "code",
   "execution_count": 147,
   "metadata": {},
   "outputs": [
    {
     "data": {
      "text/plain": [
       "0.5080857855312014"
      ]
     },
     "execution_count": 147,
     "metadata": {},
     "output_type": "execute_result"
    }
   ],
   "source": [
    "# Skewness Calculation\n",
    "X_train_age_skew = X_train['age'].skew()\n",
    "X_train_age_skew"
   ]
  },
  {
   "cell_type": "markdown",
   "metadata": {},
   "source": [
    "Based on the boxplot graph and skewness, the age data consider as right skew because the skewness obtained is 0.508 with several outlier at the upper side. Therefore, the Max IQR will be calculated based on skew formula."
   ]
  },
  {
   "cell_type": "code",
   "execution_count": 148,
   "metadata": {},
   "outputs": [
    {
     "name": "stdout",
     "output_type": "stream",
     "text": [
      "Upper Boundaries Age =  75.5\n"
     ]
    }
   ],
   "source": [
    "# Upper and Lower Boundaries Calculation\n",
    "\n",
    "X_train_age_q3, X_train_age_q1 = np.percentile(X_train['age'], [75 ,25])\n",
    "X_train_age_iqr = X_train_age_q3 - X_train_age_q1\n",
    "# max_X_train_age_iqr = X_train['age'].mean() + 3 * X_train['age'].std()\n",
    "max_X_train_age_iqr = X_train_age_q3 + 1.5 * X_train_age_iqr \n",
    "print('Upper Boundaries Age = ', max_X_train_age_iqr)"
   ]
  },
  {
   "cell_type": "code",
   "execution_count": 149,
   "metadata": {},
   "outputs": [
    {
     "name": "stderr",
     "output_type": "stream",
     "text": [
      "/var/folders/qq/87th93m11rdgx4gf727_j6sm0000gn/T/ipykernel_10418/979028414.py:4: SettingWithCopyWarning: \n",
      "A value is trying to be set on a copy of a slice from a DataFrame\n",
      "\n",
      "See the caveats in the documentation: https://pandas.pydata.org/pandas-docs/stable/user_guide/indexing.html#returning-a-view-versus-a-copy\n",
      "  X_train_age.loc[X_train_age > max_X_train_age_iqr] = max_X_train_age_iqr\n"
     ]
    }
   ],
   "source": [
    "# Winsorizing\n",
    "\n",
    "X_train_age = X_train['age']\n",
    "X_train_age.loc[X_train_age > max_X_train_age_iqr] = max_X_train_age_iqr"
   ]
  },
  {
   "cell_type": "code",
   "execution_count": 150,
   "metadata": {},
   "outputs": [
    {
     "data": {
      "image/png": "[encoded data removed]",
      "text/plain": [
       "<Figure size 720x576 with 1 Axes>"
      ]
     },
     "metadata": {
      "needs_background": "light"
     },
     "output_type": "display_data"
    }
   ],
   "source": [
    "# showing changed boxplot\n",
    "\n",
    "X_train_age.plot(kind='box', title='Features Train - Age current change', figsize=(10,8))\n",
    "plt.show()"
   ]
  },
  {
   "cell_type": "markdown",
   "metadata": {},
   "source": [
    "#### hours_per_week"
   ]
  },
  {
   "cell_type": "code",
   "execution_count": 151,
   "metadata": {},
   "outputs": [
    {
     "data": {
      "image/png": "[encoded data removed]",
      "text/plain": [
       "<Figure size 720x576 with 1 Axes>"
      ]
     },
     "metadata": {
      "needs_background": "light"
     },
     "output_type": "display_data"
    }
   ],
   "source": [
    "# Upper and Lower Boundaries Calculation\n",
    "\n",
    "X_train['hours_per_week'].plot(kind='box', title='Features Train - hours/week', figsize=(10,8))\n",
    "plt.show()"
   ]
  },
  {
   "cell_type": "code",
   "execution_count": 152,
   "metadata": {},
   "outputs": [
    {
     "data": {
      "text/plain": [
       "0.35662841283313007"
      ]
     },
     "execution_count": 152,
     "metadata": {},
     "output_type": "execute_result"
    }
   ],
   "source": [
    "# Skewness Calculation\n",
    "\n",
    "X_train_hours_per_week_skew = X_train['hours_per_week'].skew()\n",
    "X_train_hours_per_week_skew"
   ]
  },
  {
   "cell_type": "markdown",
   "metadata": {},
   "source": [
    "Based on the boxplot graph and skewness, the hours data consider as normal because the skewness obtained is 0.3566 but there are a lot of outlier in upper and lower side. Therefore, the Max IQR will be calculated based on extreme normal distribution."
   ]
  },
  {
   "cell_type": "code",
   "execution_count": 153,
   "metadata": {},
   "outputs": [
    {
     "name": "stdout",
     "output_type": "stream",
     "text": [
      "Upper Boundaries Hours =  77.29198960197195\n",
      "Lower Boundaries Hours =  4.896526403674436\n"
     ]
    }
   ],
   "source": [
    "# Upper and Lower Boundaries Calculation\n",
    "\n",
    "X_train_hours_per_week_q3, X_train_hours_per_week_q1 = np.percentile(X_train['hours_per_week'], [75 ,25])\n",
    "X_train_hours_per_week_iqr = X_train_hours_per_week_q3 - X_train_hours_per_week_q1\n",
    "\n",
    "max_X_train_hours_per_week_iqr = X_train['hours_per_week'].mean() + 3 * X_train['hours_per_week'].std() \n",
    "min_X_train_hours_per_week_iqr = X_train['hours_per_week'].mean() - 3 * X_train['hours_per_week'].std() \n",
    "print('Upper Boundaries Hours = ', max_X_train_hours_per_week_iqr)\n",
    "print('Lower Boundaries Hours = ', min_X_train_hours_per_week_iqr)"
   ]
  },
  {
   "cell_type": "code",
   "execution_count": 154,
   "metadata": {},
   "outputs": [
    {
     "name": "stderr",
     "output_type": "stream",
     "text": [
      "/var/folders/qq/87th93m11rdgx4gf727_j6sm0000gn/T/ipykernel_10418/782078391.py:3: SettingWithCopyWarning: \n",
      "A value is trying to be set on a copy of a slice from a DataFrame\n",
      "\n",
      "See the caveats in the documentation: https://pandas.pydata.org/pandas-docs/stable/user_guide/indexing.html#returning-a-view-versus-a-copy\n",
      "  X_train_hours_per_week.loc[X_train_hours_per_week > max_X_train_hours_per_week_iqr] = max_X_train_hours_per_week_iqr\n"
     ]
    }
   ],
   "source": [
    "# Winsorizing\n",
    "X_train_hours_per_week = X_train['hours_per_week']\n",
    "X_train_hours_per_week.loc[X_train_hours_per_week > max_X_train_hours_per_week_iqr] = max_X_train_hours_per_week_iqr\n",
    "X_train_hours_per_week.loc[X_train_hours_per_week < min_X_train_hours_per_week_iqr] = min_X_train_hours_per_week_iqr"
   ]
  },
  {
   "cell_type": "code",
   "execution_count": 155,
   "metadata": {},
   "outputs": [
    {
     "data": {
      "image/png": "[encoded data removed]",
      "text/plain": [
       "<Figure size 720x576 with 1 Axes>"
      ]
     },
     "metadata": {
      "needs_background": "light"
     },
     "output_type": "display_data"
    }
   ],
   "source": [
    "# showing changed boxplot\n",
    "\n",
    "X_train_hours_per_week.plot(kind='box', title='Features Train - hours/week current change', figsize=(10,8))\n",
    "plt.show()"
   ]
  },
  {
   "cell_type": "markdown",
   "metadata": {},
   "source": [
    "#### Capital Gain"
   ]
  },
  {
   "cell_type": "code",
   "execution_count": 156,
   "metadata": {},
   "outputs": [
    {
     "data": {
      "image/png": "[encoded data removed]",
      "text/plain": [
       "<Figure size 720x576 with 1 Axes>"
      ]
     },
     "metadata": {
      "needs_background": "light"
     },
     "output_type": "display_data"
    }
   ],
   "source": [
    "# showing boxplot\n",
    "\n",
    "X_train['capital_gain'].plot(kind='box', title='Features Train - Capital Gain', figsize=(10,8))\n",
    "plt.show()"
   ]
  },
  {
   "cell_type": "code",
   "execution_count": 157,
   "metadata": {},
   "outputs": [
    {
     "data": {
      "text/plain": [
       "11.587624769871073"
      ]
     },
     "execution_count": 157,
     "metadata": {},
     "output_type": "execute_result"
    }
   ],
   "source": [
    "# Skewness Calculation\n",
    "\n",
    "X_train_capital_gain_skew = X_train['capital_gain'].skew()\n",
    "X_train_capital_gain_skew"
   ]
  },
  {
   "cell_type": "code",
   "execution_count": 158,
   "metadata": {},
   "outputs": [
    {
     "name": "stdout",
     "output_type": "stream",
     "text": [
      "Upper Boundaries Capital_gain =  0.0\n"
     ]
    }
   ],
   "source": [
    "# Upper and Lower Boundaries Calculation\n",
    "\n",
    "X_train_capital_gain_q3, X_train_capital_gain_q1 = np.percentile(X_train['capital_gain'], [75 ,25])\n",
    "X_train_capital_gain_iqr = X_train_capital_gain_q3 - X_train_capital_gain_q1\n",
    "# max_X_train_capital_gain_iqr = X_train['capital_gain'].mean() + 3 * X_train['capital_gain'].std()\n",
    "max_X_train_capital_gain_iqr = X_train_capital_gain_q3 + 3 * X_train_capital_gain_iqr \n",
    "print('Upper Boundaries Capital_gain = ', max_X_train_capital_gain_iqr)\n",
    "\n"
   ]
  },
  {
   "cell_type": "markdown",
   "metadata": {},
   "source": [
    "Capital Gain included extreme right skew. In Capital Gain there are also many outliers. It seems all the capital gain which is not 0 consider as outliers. So based on trial and error if we change the outliers, the model evaluation diference between train and test result are very significant. Since SVM is very sensitive to outlier so the outlier still need to be handled."
   ]
  },
  {
   "cell_type": "code",
   "execution_count": 159,
   "metadata": {},
   "outputs": [
    {
     "name": "stderr",
     "output_type": "stream",
     "text": [
      "/var/folders/qq/87th93m11rdgx4gf727_j6sm0000gn/T/ipykernel_10418/3483411246.py:4: SettingWithCopyWarning: \n",
      "A value is trying to be set on a copy of a slice from a DataFrame\n",
      "\n",
      "See the caveats in the documentation: https://pandas.pydata.org/pandas-docs/stable/user_guide/indexing.html#returning-a-view-versus-a-copy\n",
      "  X_train_capital_gain.loc[X_train_capital_gain > max_X_train_capital_gain_iqr] = max_X_train_capital_gain_iqr\n"
     ]
    }
   ],
   "source": [
    "# Winsorizing\n",
    "\n",
    "X_train_capital_gain = X_train['capital_gain']\n",
    "X_train_capital_gain.loc[X_train_capital_gain > max_X_train_capital_gain_iqr] = max_X_train_capital_gain_iqr"
   ]
  },
  {
   "cell_type": "markdown",
   "metadata": {},
   "source": [
    "#### Capital Loss"
   ]
  },
  {
   "cell_type": "code",
   "execution_count": 160,
   "metadata": {},
   "outputs": [
    {
     "data": {
      "image/png": "[encoded data removed]",
      "text/plain": [
       "<Figure size 720x576 with 1 Axes>"
      ]
     },
     "metadata": {
      "needs_background": "light"
     },
     "output_type": "display_data"
    }
   ],
   "source": [
    "# showing boxplot\n",
    "\n",
    "X_train['capital_loss'].plot(kind='box', title='Features Train - Capital Loss', figsize=(10,8))\n",
    "plt.show()"
   ]
  },
  {
   "cell_type": "code",
   "execution_count": 161,
   "metadata": {},
   "outputs": [
    {
     "data": {
      "text/plain": [
       "4.43097682928695"
      ]
     },
     "execution_count": 161,
     "metadata": {},
     "output_type": "execute_result"
    }
   ],
   "source": [
    "# Skewness Calculation\n",
    "\n",
    "X_train_capital_loss_skew = X_train['capital_loss'].skew()\n",
    "X_train_capital_loss_skew"
   ]
  },
  {
   "cell_type": "code",
   "execution_count": 162,
   "metadata": {},
   "outputs": [
    {
     "name": "stdout",
     "output_type": "stream",
     "text": [
      "Upper Boundaries Capital_loss =  0.0\n"
     ]
    }
   ],
   "source": [
    "# Upper and Lower Boundaries Calculation\n",
    "\n",
    "X_train_capital_loss_q3, X_train_capital_loss_q1 = np.percentile(X_train['capital_loss'], [75 ,25])\n",
    "X_train_capital_loss_iqr = X_train_capital_loss_q3 - X_train_capital_loss_q1\n",
    "# max_X_train_capital_loss_iqr = X_train['capital_loss'].mean() + 3 * X_train['capital_loss'].std()\n",
    "max_X_train_capital_loss_iqr = X_train_capital_loss_q3 + 3 * X_train_capital_loss_iqr \n",
    "print('Upper Boundaries Capital_loss = ', max_X_train_capital_loss_iqr)\n"
   ]
  },
  {
   "cell_type": "markdown",
   "metadata": {},
   "source": [
    "Treat Capital loss similiar with capital gain."
   ]
  },
  {
   "cell_type": "code",
   "execution_count": 163,
   "metadata": {},
   "outputs": [
    {
     "name": "stderr",
     "output_type": "stream",
     "text": [
      "/var/folders/qq/87th93m11rdgx4gf727_j6sm0000gn/T/ipykernel_10418/1914182025.py:4: SettingWithCopyWarning: \n",
      "A value is trying to be set on a copy of a slice from a DataFrame\n",
      "\n",
      "See the caveats in the documentation: https://pandas.pydata.org/pandas-docs/stable/user_guide/indexing.html#returning-a-view-versus-a-copy\n",
      "  X_train_capital_loss.loc[X_train_capital_loss > max_X_train_capital_loss_iqr] = max_X_train_capital_loss_iqr\n"
     ]
    }
   ],
   "source": [
    "# Winsorizing\n",
    "\n",
    "X_train_capital_loss = X_train['capital_loss']\n",
    "X_train_capital_loss.loc[X_train_capital_loss > max_X_train_capital_loss_iqr] = max_X_train_capital_loss_iqr\n"
   ]
  },
  {
   "cell_type": "markdown",
   "metadata": {},
   "source": [
    "#### Final Replacement without outlier"
   ]
  },
  {
   "cell_type": "code",
   "execution_count": 164,
   "metadata": {},
   "outputs": [],
   "source": [
    "# Choosen features train for later calculation\n",
    "\n",
    "X_train['age'] = X_train_age\n",
    "X_train['hours_per_week'] = X_train_hours_per_week\n",
    "X_train['capital_gain'] = X_train_capital_gain\n",
    "X_train['capital_loss'] = X_train_capital_loss"
   ]
  },
  {
   "cell_type": "markdown",
   "metadata": {},
   "source": [
    "## Split between Numerical Columns and Categorical Columns"
   ]
  },
  {
   "cell_type": "code",
   "execution_count": 165,
   "metadata": {},
   "outputs": [
    {
     "name": "stdout",
     "output_type": "stream",
     "text": [
      "Numerical Columns :  ['age', 'education_num', 'capital_gain', 'capital_loss', 'hours_per_week']\n",
      "Categorical Columns :  ['workclass', 'marital_status', 'occupation', 'relationship', 'native_country']\n"
     ]
    }
   ],
   "source": [
    "# Split numerical and categorical based on dt types\n",
    "\n",
    "num_columns = X_train.select_dtypes(include=np.number).columns.tolist()\n",
    "cat_columns = X_train.select_dtypes(include=['object']).columns.tolist()\n",
    "\n",
    "print('Numerical Columns : ', num_columns)\n",
    "print('Categorical Columns : ', cat_columns)"
   ]
  },
  {
   "cell_type": "code",
   "execution_count": 166,
   "metadata": {},
   "outputs": [],
   "source": [
    "# Split Train-Set and Train-Set based on Column Types\n",
    "\n",
    "X_train_num = X_train[num_columns]\n",
    "X_train_cat = X_train[cat_columns]\n",
    "\n",
    "X_test_num = X_test[num_columns]\n",
    "X_test_cat = X_test[cat_columns]"
   ]
  },
  {
   "cell_type": "code",
   "execution_count": 167,
   "metadata": {},
   "outputs": [
    {
     "name": "stdout",
     "output_type": "stream",
     "text": [
      "Features Train numeric length =  21961\n",
      "Features Train categorical length =  21961\n",
      "Features Test numeric length =  5491\n",
      "Features Test caategorical length =  5491\n"
     ]
    }
   ],
   "source": [
    "# Checking features and target length\n",
    "\n",
    "print('Features Train numeric length = ', len(X_train_num))\n",
    "print('Features Train categorical length = ', len(X_train_cat))\n",
    "print('Features Test numeric length = ', len(X_test_num))\n",
    "print('Features Test caategorical length = ', len(X_test_cat))"
   ]
  },
  {
   "cell_type": "markdown",
   "metadata": {},
   "source": [
    "## Feature Scaling"
   ]
  },
  {
   "cell_type": "code",
   "execution_count": 168,
   "metadata": {},
   "outputs": [
    {
     "data": {
      "text/plain": [
       "Text(0.5, 1.0, 'Distance Distribution')"
      ]
     },
     "execution_count": 168,
     "metadata": {},
     "output_type": "execute_result"
    },
    {
     "data": {
      "image/png": "[encoded data removed]",
      "text/plain": [
       "<Figure size 1512x216 with 4 Axes>"
      ]
     },
     "metadata": {
      "needs_background": "light"
     },
     "output_type": "display_data"
    }
   ],
   "source": [
    "fig, ax =plt.subplots(1,4, figsize = (21,3))\n",
    "sns.histplot(X_train['age'], bins=30, kde=True, ax=ax[0])\n",
    "sns.histplot(X_train['hours_per_week'], bins=30, kde=True, ax=ax[1])\n",
    "sns.histplot(X_train['capital_gain'], bins=30, kde=True, ax=ax[2])\n",
    "sns.histplot(X_train['capital_loss'], bins=30, kde=True, ax=ax[3])\n",
    "# sns.displot(X_train_num['distance'], kde=True, label='Standard deviation on the Data')\n",
    "plt.title('Distance Distribution')"
   ]
  },
  {
   "cell_type": "code",
   "execution_count": 169,
   "metadata": {},
   "outputs": [
    {
     "name": "stdout",
     "output_type": "stream",
     "text": [
      "Current Age Skew =  0.4388975879513834\n",
      "Current Hours per Week Skew =  -0.02015735567117916\n",
      "Current Capital Gain Skew =  0\n",
      "Current Capital Loss Skew =  0\n"
     ]
    }
   ],
   "source": [
    "print('Current Age Skew = ',X_train['age'].skew())\n",
    "print('Current Hours per Week Skew = ', X_train['hours_per_week'].skew())\n",
    "print('Current Capital Gain Skew = ', X_train['capital_gain'].skew())\n",
    "print('Current Capital Loss Skew = ', X_train['capital_loss'].skew())"
   ]
  },
  {
   "cell_type": "markdown",
   "metadata": {},
   "source": [
    "Based on the skewess in each numerical features above, all of the data type consider as normal distribution. The scalar that will be used in the scaling is a standard scalar "
   ]
  },
  {
   "cell_type": "code",
   "execution_count": 170,
   "metadata": {},
   "outputs": [],
   "source": [
    "# Feature Scaling using Standard Scaler\n",
    "\n",
    "standard_scaler = StandardScaler()\n",
    "standard_scaler.fit(X_train_num)\n",
    "X_train_num = standard_scaler.transform(X_train_num)\n",
    "X_test_num = standard_scaler.transform(X_test_num)\n"
   ]
  },
  {
   "cell_type": "markdown",
   "metadata": {},
   "source": [
    "## Feature Encoding"
   ]
  },
  {
   "cell_type": "code",
   "execution_count": 171,
   "metadata": {},
   "outputs": [
    {
     "data": {
      "text/html": [
       "<div>\n",
       "<style scoped>\n",
       "    .dataframe tbody tr th:only-of-type {\n",
       "        vertical-align: middle;\n",
       "    }\n",
       "\n",
       "    .dataframe tbody tr th {\n",
       "        vertical-align: top;\n",
       "    }\n",
       "\n",
       "    .dataframe thead th {\n",
       "        text-align: right;\n",
       "    }\n",
       "</style>\n",
       "<table border=\"1\" class=\"dataframe\">\n",
       "  <thead>\n",
       "    <tr style=\"text-align: right;\">\n",
       "      <th></th>\n",
       "      <th>workclass</th>\n",
       "      <th>marital_status</th>\n",
       "      <th>occupation</th>\n",
       "      <th>relationship</th>\n",
       "      <th>native_country</th>\n",
       "    </tr>\n",
       "  </thead>\n",
       "  <tbody>\n",
       "    <tr>\n",
       "      <th>18042</th>\n",
       "      <td>Private</td>\n",
       "      <td>Never-married</td>\n",
       "      <td>Adm-clerical</td>\n",
       "      <td>Own-child</td>\n",
       "      <td>United-States</td>\n",
       "    </tr>\n",
       "    <tr>\n",
       "      <th>351</th>\n",
       "      <td>Federal-gov</td>\n",
       "      <td>Married-civ-spouse</td>\n",
       "      <td>Adm-clerical</td>\n",
       "      <td>Wife</td>\n",
       "      <td>United-States</td>\n",
       "    </tr>\n",
       "    <tr>\n",
       "      <th>18264</th>\n",
       "      <td>Private</td>\n",
       "      <td>Never-married</td>\n",
       "      <td>Other-service</td>\n",
       "      <td>Own-child</td>\n",
       "      <td>United-States</td>\n",
       "    </tr>\n",
       "    <tr>\n",
       "      <th>18983</th>\n",
       "      <td>Private</td>\n",
       "      <td>Never-married</td>\n",
       "      <td>Transport-moving</td>\n",
       "      <td>Unmarried</td>\n",
       "      <td>United-States</td>\n",
       "    </tr>\n",
       "    <tr>\n",
       "      <th>15643</th>\n",
       "      <td>Private</td>\n",
       "      <td>Never-married</td>\n",
       "      <td>Sales</td>\n",
       "      <td>Own-child</td>\n",
       "      <td>United-States</td>\n",
       "    </tr>\n",
       "  </tbody>\n",
       "</table>\n",
       "</div>"
      ],
      "text/plain": [
       "         workclass      marital_status        occupation relationship  \\\n",
       "18042      Private       Never-married      Adm-clerical    Own-child   \n",
       "351    Federal-gov  Married-civ-spouse      Adm-clerical         Wife   \n",
       "18264      Private       Never-married     Other-service    Own-child   \n",
       "18983      Private       Never-married  Transport-moving    Unmarried   \n",
       "15643      Private       Never-married             Sales    Own-child   \n",
       "\n",
       "      native_country  \n",
       "18042  United-States  \n",
       "351    United-States  \n",
       "18264  United-States  \n",
       "18983  United-States  \n",
       "15643  United-States  "
      ]
     },
     "execution_count": 171,
     "metadata": {},
     "output_type": "execute_result"
    }
   ],
   "source": [
    "X_train_cat.head()"
   ]
  },
  {
   "cell_type": "code",
   "execution_count": 172,
   "metadata": {},
   "outputs": [],
   "source": [
    "columns_for_OHE = X_train_cat.columns.tolist()"
   ]
  },
  {
   "cell_type": "code",
   "execution_count": 173,
   "metadata": {},
   "outputs": [
    {
     "name": "stdout",
     "output_type": "stream",
     "text": [
      "Columns to OHE Encoder =  ['workclass', 'marital_status', 'occupation', 'relationship', 'native_country']\n"
     ]
    }
   ],
   "source": [
    "print('Columns to OHE Encoder = ', columns_for_OHE)"
   ]
  },
  {
   "cell_type": "code",
   "execution_count": 174,
   "metadata": {},
   "outputs": [],
   "source": [
    "X_train_OHE_cat = X_train_cat[columns_for_OHE]\n",
    "\n",
    "X_test_OHE_cat = X_test_cat[columns_for_OHE]"
   ]
  },
  {
   "cell_type": "markdown",
   "metadata": {},
   "source": [
    "### OHE"
   ]
  },
  {
   "cell_type": "code",
   "execution_count": 175,
   "metadata": {},
   "outputs": [],
   "source": [
    "# Feature encoding with OHE encoder\n",
    "\n",
    "OHE_encoder = OneHotEncoder()\n",
    "OHE_encoder.fit(X_train_OHE_cat)\n",
    "X_train_OHE_encoded = OHE_encoder.transform(X_train_OHE_cat).toarray()\n",
    "X_test_OHE_encoded = OHE_encoder.transform(X_test_OHE_cat).toarray()"
   ]
  },
  {
   "cell_type": "code",
   "execution_count": 176,
   "metadata": {},
   "outputs": [
    {
     "data": {
      "text/html": [
       "<div>\n",
       "<style scoped>\n",
       "    .dataframe tbody tr th:only-of-type {\n",
       "        vertical-align: middle;\n",
       "    }\n",
       "\n",
       "    .dataframe tbody tr th {\n",
       "        vertical-align: top;\n",
       "    }\n",
       "\n",
       "    .dataframe thead th {\n",
       "        text-align: right;\n",
       "    }\n",
       "</style>\n",
       "<table border=\"1\" class=\"dataframe\">\n",
       "  <thead>\n",
       "    <tr style=\"text-align: right;\">\n",
       "      <th></th>\n",
       "      <th>workclass</th>\n",
       "      <th>marital_status</th>\n",
       "      <th>occupation</th>\n",
       "      <th>relationship</th>\n",
       "      <th>native_country</th>\n",
       "    </tr>\n",
       "  </thead>\n",
       "  <tbody>\n",
       "    <tr>\n",
       "      <th>18042</th>\n",
       "      <td>Private</td>\n",
       "      <td>Never-married</td>\n",
       "      <td>Adm-clerical</td>\n",
       "      <td>Own-child</td>\n",
       "      <td>United-States</td>\n",
       "    </tr>\n",
       "    <tr>\n",
       "      <th>351</th>\n",
       "      <td>Federal-gov</td>\n",
       "      <td>Married-civ-spouse</td>\n",
       "      <td>Adm-clerical</td>\n",
       "      <td>Wife</td>\n",
       "      <td>United-States</td>\n",
       "    </tr>\n",
       "    <tr>\n",
       "      <th>18264</th>\n",
       "      <td>Private</td>\n",
       "      <td>Never-married</td>\n",
       "      <td>Other-service</td>\n",
       "      <td>Own-child</td>\n",
       "      <td>United-States</td>\n",
       "    </tr>\n",
       "    <tr>\n",
       "      <th>18983</th>\n",
       "      <td>Private</td>\n",
       "      <td>Never-married</td>\n",
       "      <td>Transport-moving</td>\n",
       "      <td>Unmarried</td>\n",
       "      <td>United-States</td>\n",
       "    </tr>\n",
       "    <tr>\n",
       "      <th>15643</th>\n",
       "      <td>Private</td>\n",
       "      <td>Never-married</td>\n",
       "      <td>Sales</td>\n",
       "      <td>Own-child</td>\n",
       "      <td>United-States</td>\n",
       "    </tr>\n",
       "    <tr>\n",
       "      <th>...</th>\n",
       "      <td>...</td>\n",
       "      <td>...</td>\n",
       "      <td>...</td>\n",
       "      <td>...</td>\n",
       "      <td>...</td>\n",
       "    </tr>\n",
       "    <tr>\n",
       "      <th>27867</th>\n",
       "      <td>Private</td>\n",
       "      <td>Never-married</td>\n",
       "      <td>Adm-clerical</td>\n",
       "      <td>Not-in-family</td>\n",
       "      <td>United-States</td>\n",
       "    </tr>\n",
       "    <tr>\n",
       "      <th>24505</th>\n",
       "      <td>Private</td>\n",
       "      <td>Divorced</td>\n",
       "      <td>Craft-repair</td>\n",
       "      <td>Not-in-family</td>\n",
       "      <td>United-States</td>\n",
       "    </tr>\n",
       "    <tr>\n",
       "      <th>76</th>\n",
       "      <td>Private</td>\n",
       "      <td>Married-civ-spouse</td>\n",
       "      <td>Other-service</td>\n",
       "      <td>Wife</td>\n",
       "      <td>United-States</td>\n",
       "    </tr>\n",
       "    <tr>\n",
       "      <th>14787</th>\n",
       "      <td>Private</td>\n",
       "      <td>Never-married</td>\n",
       "      <td>Other-service</td>\n",
       "      <td>Own-child</td>\n",
       "      <td>United-States</td>\n",
       "    </tr>\n",
       "    <tr>\n",
       "      <th>350</th>\n",
       "      <td>Private</td>\n",
       "      <td>Married-civ-spouse</td>\n",
       "      <td>Machine-op-inspct</td>\n",
       "      <td>Wife</td>\n",
       "      <td>Non-United-States</td>\n",
       "    </tr>\n",
       "  </tbody>\n",
       "</table>\n",
       "<p>21961 rows × 5 columns</p>\n",
       "</div>"
      ],
      "text/plain": [
       "         workclass      marital_status         occupation   relationship  \\\n",
       "18042      Private       Never-married       Adm-clerical      Own-child   \n",
       "351    Federal-gov  Married-civ-spouse       Adm-clerical           Wife   \n",
       "18264      Private       Never-married      Other-service      Own-child   \n",
       "18983      Private       Never-married   Transport-moving      Unmarried   \n",
       "15643      Private       Never-married              Sales      Own-child   \n",
       "...            ...                 ...                ...            ...   \n",
       "27867      Private       Never-married       Adm-clerical  Not-in-family   \n",
       "24505      Private            Divorced       Craft-repair  Not-in-family   \n",
       "76         Private  Married-civ-spouse      Other-service           Wife   \n",
       "14787      Private       Never-married      Other-service      Own-child   \n",
       "350        Private  Married-civ-spouse  Machine-op-inspct           Wife   \n",
       "\n",
       "          native_country  \n",
       "18042      United-States  \n",
       "351        United-States  \n",
       "18264      United-States  \n",
       "18983      United-States  \n",
       "15643      United-States  \n",
       "...                  ...  \n",
       "27867      United-States  \n",
       "24505      United-States  \n",
       "76         United-States  \n",
       "14787      United-States  \n",
       "350    Non-United-States  \n",
       "\n",
       "[21961 rows x 5 columns]"
      ]
     },
     "execution_count": 176,
     "metadata": {},
     "output_type": "execute_result"
    }
   ],
   "source": [
    "# concate as final Features Category\n",
    "\n",
    "X_train_cat"
   ]
  },
  {
   "cell_type": "code",
   "execution_count": 177,
   "metadata": {},
   "outputs": [
    {
     "data": {
      "text/plain": [
       "['Federal-gov',\n",
       " 'Local-gov',\n",
       " 'Private',\n",
       " 'Self-emp-inc',\n",
       " 'Self-emp-not-inc',\n",
       " 'State-gov',\n",
       " 'Without-pay',\n",
       " 'Divorced',\n",
       " 'Married-AF-spouse',\n",
       " 'Married-civ-spouse',\n",
       " 'Married-spouse-absent',\n",
       " 'Never-married',\n",
       " 'Separated',\n",
       " 'Widowed',\n",
       " 'Adm-clerical',\n",
       " 'Armed-Forces',\n",
       " 'Craft-repair',\n",
       " 'Exec-managerial',\n",
       " 'Farming-fishing',\n",
       " 'Handlers-cleaners',\n",
       " 'Machine-op-inspct',\n",
       " 'Other-service',\n",
       " 'Priv-house-serv',\n",
       " 'Prof-specialty',\n",
       " 'Protective-serv',\n",
       " 'Sales',\n",
       " 'Tech-support',\n",
       " 'Transport-moving',\n",
       " 'Husband',\n",
       " 'Not-in-family',\n",
       " 'Own-child',\n",
       " 'Unmarried',\n",
       " 'Wife',\n",
       " 'Non-United-States',\n",
       " 'United-States']"
      ]
     },
     "execution_count": 177,
     "metadata": {},
     "output_type": "execute_result"
    }
   ],
   "source": [
    "# Get categorical name for OHE column\n",
    "\n",
    "workclass_values = X_train['workclass'].value_counts().index.tolist()\n",
    "marital_status_values = X_train['marital_status'].value_counts().index.tolist()\n",
    "occupation_values = X_train['occupation'].value_counts().index.tolist()\n",
    "relationship_values = X_train['relationship'].value_counts().index.tolist()\n",
    "# race_values = X_train['race'].value_counts().index.tolist()\n",
    "# sex_values = X_train['sex'].value_counts().index.tolist()\n",
    "native_country_values = X_train['native_country'].value_counts().index.tolist()\n",
    "\n",
    "# Sorting name for column\n",
    "\n",
    "workclass_values.sort()\n",
    "marital_status_values.sort()\n",
    "occupation_values.sort()\n",
    "relationship_values.sort()\n",
    "# race_values.sort()\n",
    "# sex_values.sort()\n",
    "native_country_values.sort()\n",
    "\n",
    "OHE_col = workclass_values + marital_status_values + occupation_values + relationship_values + native_country_values\n",
    "OHE_col\n"
   ]
  },
  {
   "cell_type": "markdown",
   "metadata": {},
   "source": [
    "### Final Scale"
   ]
  },
  {
   "cell_type": "code",
   "execution_count": 178,
   "metadata": {},
   "outputs": [
    {
     "data": {
      "text/plain": [
       "(21961, 35)"
      ]
     },
     "execution_count": 178,
     "metadata": {},
     "output_type": "execute_result"
    }
   ],
   "source": [
    "X_train_cat = np.concatenate([X_train_OHE_encoded], axis = 1)\n",
    "X_test_cat = np.concatenate([X_test_OHE_encoded], axis = 1)\n",
    "\n",
    "X_train_cat.shape"
   ]
  },
  {
   "cell_type": "code",
   "execution_count": 179,
   "metadata": {},
   "outputs": [
    {
     "data": {
      "text/plain": [
       "['Federal-gov',\n",
       " 'Local-gov',\n",
       " 'Private',\n",
       " 'Self-emp-inc',\n",
       " 'Self-emp-not-inc',\n",
       " 'State-gov',\n",
       " 'Without-pay',\n",
       " 'Divorced',\n",
       " 'Married-AF-spouse',\n",
       " 'Married-civ-spouse',\n",
       " 'Married-spouse-absent',\n",
       " 'Never-married',\n",
       " 'Separated',\n",
       " 'Widowed',\n",
       " 'Adm-clerical',\n",
       " 'Armed-Forces',\n",
       " 'Craft-repair',\n",
       " 'Exec-managerial',\n",
       " 'Farming-fishing',\n",
       " 'Handlers-cleaners',\n",
       " 'Machine-op-inspct',\n",
       " 'Other-service',\n",
       " 'Priv-house-serv',\n",
       " 'Prof-specialty',\n",
       " 'Protective-serv',\n",
       " 'Sales',\n",
       " 'Tech-support',\n",
       " 'Transport-moving',\n",
       " 'Husband',\n",
       " 'Not-in-family',\n",
       " 'Own-child',\n",
       " 'Unmarried',\n",
       " 'Wife',\n",
       " 'Non-United-States',\n",
       " 'United-States']"
      ]
     },
     "execution_count": 179,
     "metadata": {},
     "output_type": "execute_result"
    }
   ],
   "source": [
    "cat_columns = OHE_col\n",
    "cat_columns"
   ]
  },
  {
   "cell_type": "markdown",
   "metadata": {},
   "source": [
    "## Concat between Numerical Columns and Categorical Columns"
   ]
  },
  {
   "cell_type": "code",
   "execution_count": 180,
   "metadata": {},
   "outputs": [
    {
     "data": {
      "text/plain": [
       "array([[-1.43943409, -0.05940742,  0.        , ...,  0.        ,\n",
       "         0.        ,  1.        ],\n",
       "       [-0.20517228, -0.44482731,  0.        , ...,  1.        ,\n",
       "         0.        ,  1.        ],\n",
       "       [-1.51657545, -0.05940742,  0.        , ...,  0.        ,\n",
       "         0.        ,  1.        ],\n",
       "       ...,\n",
       "       [ 1.72336179, -0.8302472 ,  0.        , ...,  1.        ,\n",
       "         0.        ,  1.        ],\n",
       "       [-1.59371681, -0.8302472 ,  0.        , ...,  0.        ,\n",
       "         0.        ,  1.        ],\n",
       "       [-0.74516182, -0.44482731,  0.        , ...,  1.        ,\n",
       "         1.        ,  0.        ]])"
      ]
     },
     "execution_count": 180,
     "metadata": {},
     "output_type": "execute_result"
    }
   ],
   "source": [
    "# Concate into features train and test\n",
    "\n",
    "X_train_final = np.concatenate([X_train_num, X_train_cat], axis = 1)\n",
    "X_test_final = np.concatenate([X_test_num, X_test_cat], axis = 1)\n",
    "\n",
    "X_train_final"
   ]
  },
  {
   "cell_type": "code",
   "execution_count": 181,
   "metadata": {},
   "outputs": [
    {
     "data": {
      "text/html": [
       "<div>\n",
       "<style scoped>\n",
       "    .dataframe tbody tr th:only-of-type {\n",
       "        vertical-align: middle;\n",
       "    }\n",
       "\n",
       "    .dataframe tbody tr th {\n",
       "        vertical-align: top;\n",
       "    }\n",
       "\n",
       "    .dataframe thead th {\n",
       "        text-align: right;\n",
       "    }\n",
       "</style>\n",
       "<table border=\"1\" class=\"dataframe\">\n",
       "  <thead>\n",
       "    <tr style=\"text-align: right;\">\n",
       "      <th></th>\n",
       "      <th>age</th>\n",
       "      <th>workclass</th>\n",
       "      <th>education_num</th>\n",
       "      <th>marital_status</th>\n",
       "      <th>occupation</th>\n",
       "      <th>relationship</th>\n",
       "      <th>capital_gain</th>\n",
       "      <th>capital_loss</th>\n",
       "      <th>hours_per_week</th>\n",
       "      <th>native_country</th>\n",
       "    </tr>\n",
       "  </thead>\n",
       "  <tbody>\n",
       "    <tr>\n",
       "      <th>18042</th>\n",
       "      <td>20.0</td>\n",
       "      <td>Private</td>\n",
       "      <td>10</td>\n",
       "      <td>Never-married</td>\n",
       "      <td>Adm-clerical</td>\n",
       "      <td>Own-child</td>\n",
       "      <td>0</td>\n",
       "      <td>0</td>\n",
       "      <td>20.0</td>\n",
       "      <td>United-States</td>\n",
       "    </tr>\n",
       "    <tr>\n",
       "      <th>351</th>\n",
       "      <td>36.0</td>\n",
       "      <td>Federal-gov</td>\n",
       "      <td>9</td>\n",
       "      <td>Married-civ-spouse</td>\n",
       "      <td>Adm-clerical</td>\n",
       "      <td>Wife</td>\n",
       "      <td>0</td>\n",
       "      <td>0</td>\n",
       "      <td>40.0</td>\n",
       "      <td>United-States</td>\n",
       "    </tr>\n",
       "    <tr>\n",
       "      <th>18264</th>\n",
       "      <td>19.0</td>\n",
       "      <td>Private</td>\n",
       "      <td>10</td>\n",
       "      <td>Never-married</td>\n",
       "      <td>Other-service</td>\n",
       "      <td>Own-child</td>\n",
       "      <td>0</td>\n",
       "      <td>0</td>\n",
       "      <td>23.0</td>\n",
       "      <td>United-States</td>\n",
       "    </tr>\n",
       "    <tr>\n",
       "      <th>18983</th>\n",
       "      <td>22.0</td>\n",
       "      <td>Private</td>\n",
       "      <td>8</td>\n",
       "      <td>Never-married</td>\n",
       "      <td>Transport-moving</td>\n",
       "      <td>Unmarried</td>\n",
       "      <td>0</td>\n",
       "      <td>0</td>\n",
       "      <td>30.0</td>\n",
       "      <td>United-States</td>\n",
       "    </tr>\n",
       "    <tr>\n",
       "      <th>15643</th>\n",
       "      <td>22.0</td>\n",
       "      <td>Private</td>\n",
       "      <td>9</td>\n",
       "      <td>Never-married</td>\n",
       "      <td>Sales</td>\n",
       "      <td>Own-child</td>\n",
       "      <td>0</td>\n",
       "      <td>0</td>\n",
       "      <td>35.0</td>\n",
       "      <td>United-States</td>\n",
       "    </tr>\n",
       "    <tr>\n",
       "      <th>...</th>\n",
       "      <td>...</td>\n",
       "      <td>...</td>\n",
       "      <td>...</td>\n",
       "      <td>...</td>\n",
       "      <td>...</td>\n",
       "      <td>...</td>\n",
       "      <td>...</td>\n",
       "      <td>...</td>\n",
       "      <td>...</td>\n",
       "      <td>...</td>\n",
       "    </tr>\n",
       "    <tr>\n",
       "      <th>27867</th>\n",
       "      <td>21.0</td>\n",
       "      <td>Private</td>\n",
       "      <td>12</td>\n",
       "      <td>Never-married</td>\n",
       "      <td>Adm-clerical</td>\n",
       "      <td>Not-in-family</td>\n",
       "      <td>0</td>\n",
       "      <td>0</td>\n",
       "      <td>10.0</td>\n",
       "      <td>United-States</td>\n",
       "    </tr>\n",
       "    <tr>\n",
       "      <th>24505</th>\n",
       "      <td>47.0</td>\n",
       "      <td>Private</td>\n",
       "      <td>9</td>\n",
       "      <td>Divorced</td>\n",
       "      <td>Craft-repair</td>\n",
       "      <td>Not-in-family</td>\n",
       "      <td>0</td>\n",
       "      <td>0</td>\n",
       "      <td>44.0</td>\n",
       "      <td>United-States</td>\n",
       "    </tr>\n",
       "    <tr>\n",
       "      <th>76</th>\n",
       "      <td>61.0</td>\n",
       "      <td>Private</td>\n",
       "      <td>8</td>\n",
       "      <td>Married-civ-spouse</td>\n",
       "      <td>Other-service</td>\n",
       "      <td>Wife</td>\n",
       "      <td>0</td>\n",
       "      <td>0</td>\n",
       "      <td>40.0</td>\n",
       "      <td>United-States</td>\n",
       "    </tr>\n",
       "    <tr>\n",
       "      <th>14787</th>\n",
       "      <td>18.0</td>\n",
       "      <td>Private</td>\n",
       "      <td>8</td>\n",
       "      <td>Never-married</td>\n",
       "      <td>Other-service</td>\n",
       "      <td>Own-child</td>\n",
       "      <td>0</td>\n",
       "      <td>0</td>\n",
       "      <td>25.0</td>\n",
       "      <td>United-States</td>\n",
       "    </tr>\n",
       "    <tr>\n",
       "      <th>350</th>\n",
       "      <td>29.0</td>\n",
       "      <td>Private</td>\n",
       "      <td>9</td>\n",
       "      <td>Married-civ-spouse</td>\n",
       "      <td>Machine-op-inspct</td>\n",
       "      <td>Wife</td>\n",
       "      <td>0</td>\n",
       "      <td>0</td>\n",
       "      <td>40.0</td>\n",
       "      <td>Non-United-States</td>\n",
       "    </tr>\n",
       "  </tbody>\n",
       "</table>\n",
       "<p>21961 rows × 10 columns</p>\n",
       "</div>"
      ],
      "text/plain": [
       "        age    workclass  education_num      marital_status  \\\n",
       "18042  20.0      Private             10       Never-married   \n",
       "351    36.0  Federal-gov              9  Married-civ-spouse   \n",
       "18264  19.0      Private             10       Never-married   \n",
       "18983  22.0      Private              8       Never-married   \n",
       "15643  22.0      Private              9       Never-married   \n",
       "...     ...          ...            ...                 ...   \n",
       "27867  21.0      Private             12       Never-married   \n",
       "24505  47.0      Private              9            Divorced   \n",
       "76     61.0      Private              8  Married-civ-spouse   \n",
       "14787  18.0      Private              8       Never-married   \n",
       "350    29.0      Private              9  Married-civ-spouse   \n",
       "\n",
       "              occupation   relationship  capital_gain  capital_loss  \\\n",
       "18042       Adm-clerical      Own-child             0             0   \n",
       "351         Adm-clerical           Wife             0             0   \n",
       "18264      Other-service      Own-child             0             0   \n",
       "18983   Transport-moving      Unmarried             0             0   \n",
       "15643              Sales      Own-child             0             0   \n",
       "...                  ...            ...           ...           ...   \n",
       "27867       Adm-clerical  Not-in-family             0             0   \n",
       "24505       Craft-repair  Not-in-family             0             0   \n",
       "76         Other-service           Wife             0             0   \n",
       "14787      Other-service      Own-child             0             0   \n",
       "350    Machine-op-inspct           Wife             0             0   \n",
       "\n",
       "       hours_per_week     native_country  \n",
       "18042            20.0      United-States  \n",
       "351              40.0      United-States  \n",
       "18264            23.0      United-States  \n",
       "18983            30.0      United-States  \n",
       "15643            35.0      United-States  \n",
       "...               ...                ...  \n",
       "27867            10.0      United-States  \n",
       "24505            44.0      United-States  \n",
       "76               40.0      United-States  \n",
       "14787            25.0      United-States  \n",
       "350              40.0  Non-United-States  \n",
       "\n",
       "[21961 rows x 10 columns]"
      ]
     },
     "execution_count": 181,
     "metadata": {},
     "output_type": "execute_result"
    }
   ],
   "source": [
    "X_train"
   ]
  },
  {
   "cell_type": "code",
   "execution_count": 182,
   "metadata": {},
   "outputs": [
    {
     "data": {
      "text/plain": [
       "['age', 'education_num', 'capital_gain', 'capital_loss', 'hours_per_week']"
      ]
     },
     "execution_count": 182,
     "metadata": {},
     "output_type": "execute_result"
    }
   ],
   "source": [
    "num_columns"
   ]
  },
  {
   "cell_type": "code",
   "execution_count": 183,
   "metadata": {},
   "outputs": [
    {
     "data": {
      "text/plain": [
       "['Federal-gov',\n",
       " 'Local-gov',\n",
       " 'Private',\n",
       " 'Self-emp-inc',\n",
       " 'Self-emp-not-inc',\n",
       " 'State-gov',\n",
       " 'Without-pay',\n",
       " 'Divorced',\n",
       " 'Married-AF-spouse',\n",
       " 'Married-civ-spouse',\n",
       " 'Married-spouse-absent',\n",
       " 'Never-married',\n",
       " 'Separated',\n",
       " 'Widowed',\n",
       " 'Adm-clerical',\n",
       " 'Armed-Forces',\n",
       " 'Craft-repair',\n",
       " 'Exec-managerial',\n",
       " 'Farming-fishing',\n",
       " 'Handlers-cleaners',\n",
       " 'Machine-op-inspct',\n",
       " 'Other-service',\n",
       " 'Priv-house-serv',\n",
       " 'Prof-specialty',\n",
       " 'Protective-serv',\n",
       " 'Sales',\n",
       " 'Tech-support',\n",
       " 'Transport-moving',\n",
       " 'Husband',\n",
       " 'Not-in-family',\n",
       " 'Own-child',\n",
       " 'Unmarried',\n",
       " 'Wife',\n",
       " 'Non-United-States',\n",
       " 'United-States']"
      ]
     },
     "execution_count": 183,
     "metadata": {},
     "output_type": "execute_result"
    }
   ],
   "source": [
    "cat_columns"
   ]
  },
  {
   "cell_type": "code",
   "execution_count": 184,
   "metadata": {},
   "outputs": [
    {
     "data": {
      "text/html": [
       "<div>\n",
       "<style scoped>\n",
       "    .dataframe tbody tr th:only-of-type {\n",
       "        vertical-align: middle;\n",
       "    }\n",
       "\n",
       "    .dataframe tbody tr th {\n",
       "        vertical-align: top;\n",
       "    }\n",
       "\n",
       "    .dataframe thead tr th {\n",
       "        text-align: left;\n",
       "    }\n",
       "</style>\n",
       "<table border=\"1\" class=\"dataframe\">\n",
       "  <thead>\n",
       "    <tr>\n",
       "      <th></th>\n",
       "      <th>age</th>\n",
       "      <th>education_num</th>\n",
       "      <th>capital_gain</th>\n",
       "      <th>capital_loss</th>\n",
       "      <th>hours_per_week</th>\n",
       "      <th>Federal-gov</th>\n",
       "      <th>Local-gov</th>\n",
       "      <th>Private</th>\n",
       "      <th>Self-emp-inc</th>\n",
       "      <th>Self-emp-not-inc</th>\n",
       "      <th>State-gov</th>\n",
       "      <th>Without-pay</th>\n",
       "      <th>Divorced</th>\n",
       "      <th>Married-AF-spouse</th>\n",
       "      <th>Married-civ-spouse</th>\n",
       "      <th>Married-spouse-absent</th>\n",
       "      <th>Never-married</th>\n",
       "      <th>Separated</th>\n",
       "      <th>Widowed</th>\n",
       "      <th>Adm-clerical</th>\n",
       "      <th>Armed-Forces</th>\n",
       "      <th>Craft-repair</th>\n",
       "      <th>Exec-managerial</th>\n",
       "      <th>Farming-fishing</th>\n",
       "      <th>Handlers-cleaners</th>\n",
       "      <th>Machine-op-inspct</th>\n",
       "      <th>Other-service</th>\n",
       "      <th>Priv-house-serv</th>\n",
       "      <th>Prof-specialty</th>\n",
       "      <th>Protective-serv</th>\n",
       "      <th>Sales</th>\n",
       "      <th>Tech-support</th>\n",
       "      <th>Transport-moving</th>\n",
       "      <th>Husband</th>\n",
       "      <th>Not-in-family</th>\n",
       "      <th>Own-child</th>\n",
       "      <th>Unmarried</th>\n",
       "      <th>Wife</th>\n",
       "      <th>Non-United-States</th>\n",
       "      <th>United-States</th>\n",
       "    </tr>\n",
       "  </thead>\n",
       "  <tbody>\n",
       "    <tr>\n",
       "      <th>0</th>\n",
       "      <td>-1.439434</td>\n",
       "      <td>-0.059407</td>\n",
       "      <td>0.0</td>\n",
       "      <td>0.0</td>\n",
       "      <td>-1.807664</td>\n",
       "      <td>0.0</td>\n",
       "      <td>0.0</td>\n",
       "      <td>1.0</td>\n",
       "      <td>0.0</td>\n",
       "      <td>0.0</td>\n",
       "      <td>0.0</td>\n",
       "      <td>0.0</td>\n",
       "      <td>0.0</td>\n",
       "      <td>0.0</td>\n",
       "      <td>0.0</td>\n",
       "      <td>0.0</td>\n",
       "      <td>1.0</td>\n",
       "      <td>0.0</td>\n",
       "      <td>0.0</td>\n",
       "      <td>1.0</td>\n",
       "      <td>0.0</td>\n",
       "      <td>0.0</td>\n",
       "      <td>0.0</td>\n",
       "      <td>0.0</td>\n",
       "      <td>0.0</td>\n",
       "      <td>0.0</td>\n",
       "      <td>0.0</td>\n",
       "      <td>0.0</td>\n",
       "      <td>0.0</td>\n",
       "      <td>0.0</td>\n",
       "      <td>0.0</td>\n",
       "      <td>0.0</td>\n",
       "      <td>0.0</td>\n",
       "      <td>0.0</td>\n",
       "      <td>0.0</td>\n",
       "      <td>1.0</td>\n",
       "      <td>0.0</td>\n",
       "      <td>0.0</td>\n",
       "      <td>0.0</td>\n",
       "      <td>1.0</td>\n",
       "    </tr>\n",
       "    <tr>\n",
       "      <th>1</th>\n",
       "      <td>-0.205172</td>\n",
       "      <td>-0.444827</td>\n",
       "      <td>0.0</td>\n",
       "      <td>0.0</td>\n",
       "      <td>-0.084364</td>\n",
       "      <td>1.0</td>\n",
       "      <td>0.0</td>\n",
       "      <td>0.0</td>\n",
       "      <td>0.0</td>\n",
       "      <td>0.0</td>\n",
       "      <td>0.0</td>\n",
       "      <td>0.0</td>\n",
       "      <td>0.0</td>\n",
       "      <td>0.0</td>\n",
       "      <td>1.0</td>\n",
       "      <td>0.0</td>\n",
       "      <td>0.0</td>\n",
       "      <td>0.0</td>\n",
       "      <td>0.0</td>\n",
       "      <td>1.0</td>\n",
       "      <td>0.0</td>\n",
       "      <td>0.0</td>\n",
       "      <td>0.0</td>\n",
       "      <td>0.0</td>\n",
       "      <td>0.0</td>\n",
       "      <td>0.0</td>\n",
       "      <td>0.0</td>\n",
       "      <td>0.0</td>\n",
       "      <td>0.0</td>\n",
       "      <td>0.0</td>\n",
       "      <td>0.0</td>\n",
       "      <td>0.0</td>\n",
       "      <td>0.0</td>\n",
       "      <td>0.0</td>\n",
       "      <td>0.0</td>\n",
       "      <td>0.0</td>\n",
       "      <td>0.0</td>\n",
       "      <td>1.0</td>\n",
       "      <td>0.0</td>\n",
       "      <td>1.0</td>\n",
       "    </tr>\n",
       "    <tr>\n",
       "      <th>2</th>\n",
       "      <td>-1.516575</td>\n",
       "      <td>-0.059407</td>\n",
       "      <td>0.0</td>\n",
       "      <td>0.0</td>\n",
       "      <td>-1.549169</td>\n",
       "      <td>0.0</td>\n",
       "      <td>0.0</td>\n",
       "      <td>1.0</td>\n",
       "      <td>0.0</td>\n",
       "      <td>0.0</td>\n",
       "      <td>0.0</td>\n",
       "      <td>0.0</td>\n",
       "      <td>0.0</td>\n",
       "      <td>0.0</td>\n",
       "      <td>0.0</td>\n",
       "      <td>0.0</td>\n",
       "      <td>1.0</td>\n",
       "      <td>0.0</td>\n",
       "      <td>0.0</td>\n",
       "      <td>0.0</td>\n",
       "      <td>0.0</td>\n",
       "      <td>0.0</td>\n",
       "      <td>0.0</td>\n",
       "      <td>0.0</td>\n",
       "      <td>0.0</td>\n",
       "      <td>0.0</td>\n",
       "      <td>1.0</td>\n",
       "      <td>0.0</td>\n",
       "      <td>0.0</td>\n",
       "      <td>0.0</td>\n",
       "      <td>0.0</td>\n",
       "      <td>0.0</td>\n",
       "      <td>0.0</td>\n",
       "      <td>0.0</td>\n",
       "      <td>0.0</td>\n",
       "      <td>1.0</td>\n",
       "      <td>0.0</td>\n",
       "      <td>0.0</td>\n",
       "      <td>0.0</td>\n",
       "      <td>1.0</td>\n",
       "    </tr>\n",
       "    <tr>\n",
       "      <th>3</th>\n",
       "      <td>-1.285151</td>\n",
       "      <td>-0.830247</td>\n",
       "      <td>0.0</td>\n",
       "      <td>0.0</td>\n",
       "      <td>-0.946014</td>\n",
       "      <td>0.0</td>\n",
       "      <td>0.0</td>\n",
       "      <td>1.0</td>\n",
       "      <td>0.0</td>\n",
       "      <td>0.0</td>\n",
       "      <td>0.0</td>\n",
       "      <td>0.0</td>\n",
       "      <td>0.0</td>\n",
       "      <td>0.0</td>\n",
       "      <td>0.0</td>\n",
       "      <td>0.0</td>\n",
       "      <td>1.0</td>\n",
       "      <td>0.0</td>\n",
       "      <td>0.0</td>\n",
       "      <td>0.0</td>\n",
       "      <td>0.0</td>\n",
       "      <td>0.0</td>\n",
       "      <td>0.0</td>\n",
       "      <td>0.0</td>\n",
       "      <td>0.0</td>\n",
       "      <td>0.0</td>\n",
       "      <td>0.0</td>\n",
       "      <td>0.0</td>\n",
       "      <td>0.0</td>\n",
       "      <td>0.0</td>\n",
       "      <td>0.0</td>\n",
       "      <td>0.0</td>\n",
       "      <td>1.0</td>\n",
       "      <td>0.0</td>\n",
       "      <td>0.0</td>\n",
       "      <td>0.0</td>\n",
       "      <td>1.0</td>\n",
       "      <td>0.0</td>\n",
       "      <td>0.0</td>\n",
       "      <td>1.0</td>\n",
       "    </tr>\n",
       "    <tr>\n",
       "      <th>4</th>\n",
       "      <td>-1.285151</td>\n",
       "      <td>-0.444827</td>\n",
       "      <td>0.0</td>\n",
       "      <td>0.0</td>\n",
       "      <td>-0.515189</td>\n",
       "      <td>0.0</td>\n",
       "      <td>0.0</td>\n",
       "      <td>1.0</td>\n",
       "      <td>0.0</td>\n",
       "      <td>0.0</td>\n",
       "      <td>0.0</td>\n",
       "      <td>0.0</td>\n",
       "      <td>0.0</td>\n",
       "      <td>0.0</td>\n",
       "      <td>0.0</td>\n",
       "      <td>0.0</td>\n",
       "      <td>1.0</td>\n",
       "      <td>0.0</td>\n",
       "      <td>0.0</td>\n",
       "      <td>0.0</td>\n",
       "      <td>0.0</td>\n",
       "      <td>0.0</td>\n",
       "      <td>0.0</td>\n",
       "      <td>0.0</td>\n",
       "      <td>0.0</td>\n",
       "      <td>0.0</td>\n",
       "      <td>0.0</td>\n",
       "      <td>0.0</td>\n",
       "      <td>0.0</td>\n",
       "      <td>0.0</td>\n",
       "      <td>1.0</td>\n",
       "      <td>0.0</td>\n",
       "      <td>0.0</td>\n",
       "      <td>0.0</td>\n",
       "      <td>0.0</td>\n",
       "      <td>1.0</td>\n",
       "      <td>0.0</td>\n",
       "      <td>0.0</td>\n",
       "      <td>0.0</td>\n",
       "      <td>1.0</td>\n",
       "    </tr>\n",
       "    <tr>\n",
       "      <th>...</th>\n",
       "      <td>...</td>\n",
       "      <td>...</td>\n",
       "      <td>...</td>\n",
       "      <td>...</td>\n",
       "      <td>...</td>\n",
       "      <td>...</td>\n",
       "      <td>...</td>\n",
       "      <td>...</td>\n",
       "      <td>...</td>\n",
       "      <td>...</td>\n",
       "      <td>...</td>\n",
       "      <td>...</td>\n",
       "      <td>...</td>\n",
       "      <td>...</td>\n",
       "      <td>...</td>\n",
       "      <td>...</td>\n",
       "      <td>...</td>\n",
       "      <td>...</td>\n",
       "      <td>...</td>\n",
       "      <td>...</td>\n",
       "      <td>...</td>\n",
       "      <td>...</td>\n",
       "      <td>...</td>\n",
       "      <td>...</td>\n",
       "      <td>...</td>\n",
       "      <td>...</td>\n",
       "      <td>...</td>\n",
       "      <td>...</td>\n",
       "      <td>...</td>\n",
       "      <td>...</td>\n",
       "      <td>...</td>\n",
       "      <td>...</td>\n",
       "      <td>...</td>\n",
       "      <td>...</td>\n",
       "      <td>...</td>\n",
       "      <td>...</td>\n",
       "      <td>...</td>\n",
       "      <td>...</td>\n",
       "      <td>...</td>\n",
       "      <td>...</td>\n",
       "    </tr>\n",
       "    <tr>\n",
       "      <th>21956</th>\n",
       "      <td>-1.362293</td>\n",
       "      <td>0.711432</td>\n",
       "      <td>0.0</td>\n",
       "      <td>0.0</td>\n",
       "      <td>-2.669315</td>\n",
       "      <td>0.0</td>\n",
       "      <td>0.0</td>\n",
       "      <td>1.0</td>\n",
       "      <td>0.0</td>\n",
       "      <td>0.0</td>\n",
       "      <td>0.0</td>\n",
       "      <td>0.0</td>\n",
       "      <td>0.0</td>\n",
       "      <td>0.0</td>\n",
       "      <td>0.0</td>\n",
       "      <td>0.0</td>\n",
       "      <td>1.0</td>\n",
       "      <td>0.0</td>\n",
       "      <td>0.0</td>\n",
       "      <td>1.0</td>\n",
       "      <td>0.0</td>\n",
       "      <td>0.0</td>\n",
       "      <td>0.0</td>\n",
       "      <td>0.0</td>\n",
       "      <td>0.0</td>\n",
       "      <td>0.0</td>\n",
       "      <td>0.0</td>\n",
       "      <td>0.0</td>\n",
       "      <td>0.0</td>\n",
       "      <td>0.0</td>\n",
       "      <td>0.0</td>\n",
       "      <td>0.0</td>\n",
       "      <td>0.0</td>\n",
       "      <td>0.0</td>\n",
       "      <td>1.0</td>\n",
       "      <td>0.0</td>\n",
       "      <td>0.0</td>\n",
       "      <td>0.0</td>\n",
       "      <td>0.0</td>\n",
       "      <td>1.0</td>\n",
       "    </tr>\n",
       "    <tr>\n",
       "      <th>21957</th>\n",
       "      <td>0.643383</td>\n",
       "      <td>-0.444827</td>\n",
       "      <td>0.0</td>\n",
       "      <td>0.0</td>\n",
       "      <td>0.260297</td>\n",
       "      <td>0.0</td>\n",
       "      <td>0.0</td>\n",
       "      <td>1.0</td>\n",
       "      <td>0.0</td>\n",
       "      <td>0.0</td>\n",
       "      <td>0.0</td>\n",
       "      <td>0.0</td>\n",
       "      <td>1.0</td>\n",
       "      <td>0.0</td>\n",
       "      <td>0.0</td>\n",
       "      <td>0.0</td>\n",
       "      <td>0.0</td>\n",
       "      <td>0.0</td>\n",
       "      <td>0.0</td>\n",
       "      <td>0.0</td>\n",
       "      <td>0.0</td>\n",
       "      <td>1.0</td>\n",
       "      <td>0.0</td>\n",
       "      <td>0.0</td>\n",
       "      <td>0.0</td>\n",
       "      <td>0.0</td>\n",
       "      <td>0.0</td>\n",
       "      <td>0.0</td>\n",
       "      <td>0.0</td>\n",
       "      <td>0.0</td>\n",
       "      <td>0.0</td>\n",
       "      <td>0.0</td>\n",
       "      <td>0.0</td>\n",
       "      <td>0.0</td>\n",
       "      <td>1.0</td>\n",
       "      <td>0.0</td>\n",
       "      <td>0.0</td>\n",
       "      <td>0.0</td>\n",
       "      <td>0.0</td>\n",
       "      <td>1.0</td>\n",
       "    </tr>\n",
       "    <tr>\n",
       "      <th>21958</th>\n",
       "      <td>1.723362</td>\n",
       "      <td>-0.830247</td>\n",
       "      <td>0.0</td>\n",
       "      <td>0.0</td>\n",
       "      <td>-0.084364</td>\n",
       "      <td>0.0</td>\n",
       "      <td>0.0</td>\n",
       "      <td>1.0</td>\n",
       "      <td>0.0</td>\n",
       "      <td>0.0</td>\n",
       "      <td>0.0</td>\n",
       "      <td>0.0</td>\n",
       "      <td>0.0</td>\n",
       "      <td>0.0</td>\n",
       "      <td>1.0</td>\n",
       "      <td>0.0</td>\n",
       "      <td>0.0</td>\n",
       "      <td>0.0</td>\n",
       "      <td>0.0</td>\n",
       "      <td>0.0</td>\n",
       "      <td>0.0</td>\n",
       "      <td>0.0</td>\n",
       "      <td>0.0</td>\n",
       "      <td>0.0</td>\n",
       "      <td>0.0</td>\n",
       "      <td>0.0</td>\n",
       "      <td>1.0</td>\n",
       "      <td>0.0</td>\n",
       "      <td>0.0</td>\n",
       "      <td>0.0</td>\n",
       "      <td>0.0</td>\n",
       "      <td>0.0</td>\n",
       "      <td>0.0</td>\n",
       "      <td>0.0</td>\n",
       "      <td>0.0</td>\n",
       "      <td>0.0</td>\n",
       "      <td>0.0</td>\n",
       "      <td>1.0</td>\n",
       "      <td>0.0</td>\n",
       "      <td>1.0</td>\n",
       "    </tr>\n",
       "    <tr>\n",
       "      <th>21959</th>\n",
       "      <td>-1.593717</td>\n",
       "      <td>-0.830247</td>\n",
       "      <td>0.0</td>\n",
       "      <td>0.0</td>\n",
       "      <td>-1.376839</td>\n",
       "      <td>0.0</td>\n",
       "      <td>0.0</td>\n",
       "      <td>1.0</td>\n",
       "      <td>0.0</td>\n",
       "      <td>0.0</td>\n",
       "      <td>0.0</td>\n",
       "      <td>0.0</td>\n",
       "      <td>0.0</td>\n",
       "      <td>0.0</td>\n",
       "      <td>0.0</td>\n",
       "      <td>0.0</td>\n",
       "      <td>1.0</td>\n",
       "      <td>0.0</td>\n",
       "      <td>0.0</td>\n",
       "      <td>0.0</td>\n",
       "      <td>0.0</td>\n",
       "      <td>0.0</td>\n",
       "      <td>0.0</td>\n",
       "      <td>0.0</td>\n",
       "      <td>0.0</td>\n",
       "      <td>0.0</td>\n",
       "      <td>1.0</td>\n",
       "      <td>0.0</td>\n",
       "      <td>0.0</td>\n",
       "      <td>0.0</td>\n",
       "      <td>0.0</td>\n",
       "      <td>0.0</td>\n",
       "      <td>0.0</td>\n",
       "      <td>0.0</td>\n",
       "      <td>0.0</td>\n",
       "      <td>1.0</td>\n",
       "      <td>0.0</td>\n",
       "      <td>0.0</td>\n",
       "      <td>0.0</td>\n",
       "      <td>1.0</td>\n",
       "    </tr>\n",
       "    <tr>\n",
       "      <th>21960</th>\n",
       "      <td>-0.745162</td>\n",
       "      <td>-0.444827</td>\n",
       "      <td>0.0</td>\n",
       "      <td>0.0</td>\n",
       "      <td>-0.084364</td>\n",
       "      <td>0.0</td>\n",
       "      <td>0.0</td>\n",
       "      <td>1.0</td>\n",
       "      <td>0.0</td>\n",
       "      <td>0.0</td>\n",
       "      <td>0.0</td>\n",
       "      <td>0.0</td>\n",
       "      <td>0.0</td>\n",
       "      <td>0.0</td>\n",
       "      <td>1.0</td>\n",
       "      <td>0.0</td>\n",
       "      <td>0.0</td>\n",
       "      <td>0.0</td>\n",
       "      <td>0.0</td>\n",
       "      <td>0.0</td>\n",
       "      <td>0.0</td>\n",
       "      <td>0.0</td>\n",
       "      <td>0.0</td>\n",
       "      <td>0.0</td>\n",
       "      <td>0.0</td>\n",
       "      <td>1.0</td>\n",
       "      <td>0.0</td>\n",
       "      <td>0.0</td>\n",
       "      <td>0.0</td>\n",
       "      <td>0.0</td>\n",
       "      <td>0.0</td>\n",
       "      <td>0.0</td>\n",
       "      <td>0.0</td>\n",
       "      <td>0.0</td>\n",
       "      <td>0.0</td>\n",
       "      <td>0.0</td>\n",
       "      <td>0.0</td>\n",
       "      <td>1.0</td>\n",
       "      <td>1.0</td>\n",
       "      <td>0.0</td>\n",
       "    </tr>\n",
       "  </tbody>\n",
       "</table>\n",
       "<p>21961 rows × 40 columns</p>\n",
       "</div>"
      ],
      "text/plain": [
       "            age education_num capital_gain capital_loss hours_per_week  \\\n",
       "0     -1.439434     -0.059407          0.0          0.0      -1.807664   \n",
       "1     -0.205172     -0.444827          0.0          0.0      -0.084364   \n",
       "2     -1.516575     -0.059407          0.0          0.0      -1.549169   \n",
       "3     -1.285151     -0.830247          0.0          0.0      -0.946014   \n",
       "4     -1.285151     -0.444827          0.0          0.0      -0.515189   \n",
       "...         ...           ...          ...          ...            ...   \n",
       "21956 -1.362293      0.711432          0.0          0.0      -2.669315   \n",
       "21957  0.643383     -0.444827          0.0          0.0       0.260297   \n",
       "21958  1.723362     -0.830247          0.0          0.0      -0.084364   \n",
       "21959 -1.593717     -0.830247          0.0          0.0      -1.376839   \n",
       "21960 -0.745162     -0.444827          0.0          0.0      -0.084364   \n",
       "\n",
       "      Federal-gov Local-gov Private Self-emp-inc Self-emp-not-inc State-gov  \\\n",
       "0             0.0       0.0     1.0          0.0              0.0       0.0   \n",
       "1             1.0       0.0     0.0          0.0              0.0       0.0   \n",
       "2             0.0       0.0     1.0          0.0              0.0       0.0   \n",
       "3             0.0       0.0     1.0          0.0              0.0       0.0   \n",
       "4             0.0       0.0     1.0          0.0              0.0       0.0   \n",
       "...           ...       ...     ...          ...              ...       ...   \n",
       "21956         0.0       0.0     1.0          0.0              0.0       0.0   \n",
       "21957         0.0       0.0     1.0          0.0              0.0       0.0   \n",
       "21958         0.0       0.0     1.0          0.0              0.0       0.0   \n",
       "21959         0.0       0.0     1.0          0.0              0.0       0.0   \n",
       "21960         0.0       0.0     1.0          0.0              0.0       0.0   \n",
       "\n",
       "      Without-pay Divorced Married-AF-spouse Married-civ-spouse  \\\n",
       "0             0.0      0.0               0.0                0.0   \n",
       "1             0.0      0.0               0.0                1.0   \n",
       "2             0.0      0.0               0.0                0.0   \n",
       "3             0.0      0.0               0.0                0.0   \n",
       "4             0.0      0.0               0.0                0.0   \n",
       "...           ...      ...               ...                ...   \n",
       "21956         0.0      0.0               0.0                0.0   \n",
       "21957         0.0      1.0               0.0                0.0   \n",
       "21958         0.0      0.0               0.0                1.0   \n",
       "21959         0.0      0.0               0.0                0.0   \n",
       "21960         0.0      0.0               0.0                1.0   \n",
       "\n",
       "      Married-spouse-absent Never-married Separated Widowed Adm-clerical  \\\n",
       "0                       0.0           1.0       0.0     0.0          1.0   \n",
       "1                       0.0           0.0       0.0     0.0          1.0   \n",
       "2                       0.0           1.0       0.0     0.0          0.0   \n",
       "3                       0.0           1.0       0.0     0.0          0.0   \n",
       "4                       0.0           1.0       0.0     0.0          0.0   \n",
       "...                     ...           ...       ...     ...          ...   \n",
       "21956                   0.0           1.0       0.0     0.0          1.0   \n",
       "21957                   0.0           0.0       0.0     0.0          0.0   \n",
       "21958                   0.0           0.0       0.0     0.0          0.0   \n",
       "21959                   0.0           1.0       0.0     0.0          0.0   \n",
       "21960                   0.0           0.0       0.0     0.0          0.0   \n",
       "\n",
       "      Armed-Forces Craft-repair Exec-managerial Farming-fishing  \\\n",
       "0              0.0          0.0             0.0             0.0   \n",
       "1              0.0          0.0             0.0             0.0   \n",
       "2              0.0          0.0             0.0             0.0   \n",
       "3              0.0          0.0             0.0             0.0   \n",
       "4              0.0          0.0             0.0             0.0   \n",
       "...            ...          ...             ...             ...   \n",
       "21956          0.0          0.0             0.0             0.0   \n",
       "21957          0.0          1.0             0.0             0.0   \n",
       "21958          0.0          0.0             0.0             0.0   \n",
       "21959          0.0          0.0             0.0             0.0   \n",
       "21960          0.0          0.0             0.0             0.0   \n",
       "\n",
       "      Handlers-cleaners Machine-op-inspct Other-service Priv-house-serv  \\\n",
       "0                   0.0               0.0           0.0             0.0   \n",
       "1                   0.0               0.0           0.0             0.0   \n",
       "2                   0.0               0.0           1.0             0.0   \n",
       "3                   0.0               0.0           0.0             0.0   \n",
       "4                   0.0               0.0           0.0             0.0   \n",
       "...                 ...               ...           ...             ...   \n",
       "21956               0.0               0.0           0.0             0.0   \n",
       "21957               0.0               0.0           0.0             0.0   \n",
       "21958               0.0               0.0           1.0             0.0   \n",
       "21959               0.0               0.0           1.0             0.0   \n",
       "21960               0.0               1.0           0.0             0.0   \n",
       "\n",
       "      Prof-specialty Protective-serv Sales Tech-support Transport-moving  \\\n",
       "0                0.0             0.0   0.0          0.0              0.0   \n",
       "1                0.0             0.0   0.0          0.0              0.0   \n",
       "2                0.0             0.0   0.0          0.0              0.0   \n",
       "3                0.0             0.0   0.0          0.0              1.0   \n",
       "4                0.0             0.0   1.0          0.0              0.0   \n",
       "...              ...             ...   ...          ...              ...   \n",
       "21956            0.0             0.0   0.0          0.0              0.0   \n",
       "21957            0.0             0.0   0.0          0.0              0.0   \n",
       "21958            0.0             0.0   0.0          0.0              0.0   \n",
       "21959            0.0             0.0   0.0          0.0              0.0   \n",
       "21960            0.0             0.0   0.0          0.0              0.0   \n",
       "\n",
       "      Husband Not-in-family Own-child Unmarried Wife Non-United-States  \\\n",
       "0         0.0           0.0       1.0       0.0  0.0               0.0   \n",
       "1         0.0           0.0       0.0       0.0  1.0               0.0   \n",
       "2         0.0           0.0       1.0       0.0  0.0               0.0   \n",
       "3         0.0           0.0       0.0       1.0  0.0               0.0   \n",
       "4         0.0           0.0       1.0       0.0  0.0               0.0   \n",
       "...       ...           ...       ...       ...  ...               ...   \n",
       "21956     0.0           1.0       0.0       0.0  0.0               0.0   \n",
       "21957     0.0           1.0       0.0       0.0  0.0               0.0   \n",
       "21958     0.0           0.0       0.0       0.0  1.0               0.0   \n",
       "21959     0.0           0.0       1.0       0.0  0.0               0.0   \n",
       "21960     0.0           0.0       0.0       0.0  1.0               1.0   \n",
       "\n",
       "      United-States  \n",
       "0               1.0  \n",
       "1               1.0  \n",
       "2               1.0  \n",
       "3               1.0  \n",
       "4               1.0  \n",
       "...             ...  \n",
       "21956           1.0  \n",
       "21957           1.0  \n",
       "21958           1.0  \n",
       "21959           1.0  \n",
       "21960           0.0  \n",
       "\n",
       "[21961 rows x 40 columns]"
      ]
     },
     "execution_count": 184,
     "metadata": {},
     "output_type": "execute_result"
    }
   ],
   "source": [
    "\n",
    "X_train_final_df = pd.DataFrame(X_train_final, columns=[num_columns+cat_columns])\n",
    "X_test_final_df = pd.DataFrame(X_test_final, columns=[num_columns+cat_columns])\n",
    "\n",
    "X_train_final_df"
   ]
  },
  {
   "cell_type": "markdown",
   "metadata": {},
   "source": [
    "# 6 - Model Definition"
   ]
  },
  {
   "cell_type": "markdown",
   "metadata": {},
   "source": [
    "The models used are Logistic Regression and Support Vectore Machine according to the case study. Several hyperparameters in the following model were also tried by trial and error to find the most optimal model."
   ]
  },
  {
   "cell_type": "code",
   "execution_count": 185,
   "metadata": {},
   "outputs": [],
   "source": [
    "# Modeling using Linear Regression\n",
    "\n",
    "log_reg_model = LogisticRegression(penalty='l2', dual=False, tol=0.0001, C=1.0, fit_intercept=True, intercept_scaling=1, class_weight=None, random_state=None, solver='lbfgs', max_iter=100, multi_class='multinomial', verbose=0, warm_start=False, n_jobs=None, l1_ratio=None)"
   ]
  },
  {
   "cell_type": "code",
   "execution_count": 186,
   "metadata": {},
   "outputs": [],
   "source": [
    "# Modeling using Linear Regression SVM\n",
    "\n",
    "SVM_model = SVC(C=10 , gamma=0.1)"
   ]
  },
  {
   "cell_type": "markdown",
   "metadata": {},
   "source": [
    "# 7 - Model Training"
   ]
  },
  {
   "cell_type": "code",
   "execution_count": 187,
   "metadata": {},
   "outputs": [
    {
     "name": "stderr",
     "output_type": "stream",
     "text": [
      "/Users/shafiralaksitasari/opt/anaconda3/lib/python3.9/site-packages/sklearn/utils/validation.py:1688: FutureWarning: Feature names only support names that are all strings. Got feature names with dtypes: ['tuple']. An error will be raised in 1.2.\n",
      "  warnings.warn(\n",
      "/Users/shafiralaksitasari/opt/anaconda3/lib/python3.9/site-packages/sklearn/linear_model/_logistic.py:814: ConvergenceWarning: lbfgs failed to converge (status=1):\n",
      "STOP: TOTAL NO. of ITERATIONS REACHED LIMIT.\n",
      "\n",
      "Increase the number of iterations (max_iter) or scale the data as shown in:\n",
      "    https://scikit-learn.org/stable/modules/preprocessing.html\n",
      "Please also refer to the documentation for alternative solver options:\n",
      "    https://scikit-learn.org/stable/modules/linear_model.html#logistic-regression\n",
      "  n_iter_i = _check_optimize_result(\n"
     ]
    },
    {
     "data": {
      "text/plain": [
       "LogisticRegression(multi_class='multinomial')"
      ]
     },
     "execution_count": 187,
     "metadata": {},
     "output_type": "execute_result"
    }
   ],
   "source": [
    "# Training using Linear Regression\n",
    "\n",
    "log_reg_model.fit(X_train_final_df,y_train)"
   ]
  },
  {
   "cell_type": "code",
   "execution_count": 188,
   "metadata": {},
   "outputs": [
    {
     "name": "stderr",
     "output_type": "stream",
     "text": [
      "/Users/shafiralaksitasari/opt/anaconda3/lib/python3.9/site-packages/sklearn/utils/validation.py:1688: FutureWarning: Feature names only support names that are all strings. Got feature names with dtypes: ['tuple']. An error will be raised in 1.2.\n",
      "  warnings.warn(\n"
     ]
    },
    {
     "data": {
      "text/plain": [
       "SVC(C=10, gamma=0.1)"
      ]
     },
     "execution_count": 188,
     "metadata": {},
     "output_type": "execute_result"
    }
   ],
   "source": [
    "# Training using SVM\n",
    "\n",
    "SVM_model.fit(X_train_final_df,y_train)"
   ]
  },
  {
   "cell_type": "markdown",
   "metadata": {},
   "source": [
    "# 8 - Model Evaluation"
   ]
  },
  {
   "cell_type": "markdown",
   "metadata": {},
   "source": [
    "Model Evaluation result of Logistic Regression and SVM"
   ]
  },
  {
   "cell_type": "markdown",
   "metadata": {},
   "source": [
    "## Logistic Regression"
   ]
  },
  {
   "cell_type": "code",
   "execution_count": 189,
   "metadata": {},
   "outputs": [],
   "source": [
    "# Predict Logistic regression model\n",
    "\n",
    "y_pred_train = log_reg_model.predict(X_train_final)\n",
    "y_pred_test = log_reg_model.predict(X_test_final)"
   ]
  },
  {
   "cell_type": "code",
   "execution_count": 190,
   "metadata": {},
   "outputs": [
    {
     "name": "stdout",
     "output_type": "stream",
     "text": [
      "accuracy score train :  0.81990801876053\n",
      "accuracy score test :  0.8273538517574213 \n",
      "\n"
     ]
    }
   ],
   "source": [
    "# Display Logistic Regression Accuracy\n",
    "\n",
    "print('accuracy score train : ',accuracy_score(y_train,y_pred_train))\n",
    "print('accuracy score test : ',accuracy_score(y_test,y_pred_test),'\\n')"
   ]
  },
  {
   "cell_type": "code",
   "execution_count": 191,
   "metadata": {},
   "outputs": [
    {
     "name": "stdout",
     "output_type": "stream",
     "text": [
      "classification report train : \n",
      "               precision    recall  f1-score   support\n",
      "\n",
      "       <=50K       0.85      0.91      0.88     16086\n",
      "        >50K       0.70      0.58      0.63      5875\n",
      "\n",
      "    accuracy                           0.82     21961\n",
      "   macro avg       0.78      0.74      0.76     21961\n",
      "weighted avg       0.81      0.82      0.81     21961\n",
      " \n",
      "\n",
      "classification report test : \n",
      "               precision    recall  f1-score   support\n",
      "\n",
      "       <=50K       0.87      0.91      0.89      4073\n",
      "        >50K       0.69      0.60      0.64      1418\n",
      "\n",
      "    accuracy                           0.83      5491\n",
      "   macro avg       0.78      0.75      0.76      5491\n",
      "weighted avg       0.82      0.83      0.82      5491\n",
      "\n"
     ]
    }
   ],
   "source": [
    "# Display Logistic Regression Classification Report\n",
    "\n",
    "print('classification report train : \\n',classification_report(y_train,y_pred_train),'\\n')\n",
    "print('classification report test : \\n',classification_report(y_test,y_pred_test))"
   ]
  },
  {
   "cell_type": "code",
   "execution_count": 192,
   "metadata": {},
   "outputs": [
    {
     "data": {
      "image/png": "[encoded data removed]",
      "text/plain": [
       "<Figure size 432x288 with 2 Axes>"
      ]
     },
     "metadata": {
      "needs_background": "light"
     },
     "output_type": "display_data"
    }
   ],
   "source": [
    "# Display Logistic Regression Confusion matrix - Train\n",
    "\n",
    "cm_log_reg_train = confusion_matrix(y_train, y_pred_train, labels=log_reg_model.classes_)\n",
    "displog_reg_train = ConfusionMatrixDisplay(confusion_matrix=cm_log_reg_train,display_labels=log_reg_model.classes_)\n",
    "\n",
    "displog_reg_train.plot()\n",
    "plt.show()"
   ]
  },
  {
   "cell_type": "code",
   "execution_count": 193,
   "metadata": {},
   "outputs": [
    {
     "data": {
      "image/png": "[encoded data removed]",
      "text/plain": [
       "<Figure size 432x288 with 2 Axes>"
      ]
     },
     "metadata": {
      "needs_background": "light"
     },
     "output_type": "display_data"
    }
   ],
   "source": [
    "# Display Logistic Regression Confusion matrix - Test\n",
    "\n",
    "cm_log_reg_test = confusion_matrix(y_test, y_pred_test, labels=log_reg_model.classes_)\n",
    "disp_log_reg_test = ConfusionMatrixDisplay(confusion_matrix=cm_log_reg_test,display_labels=log_reg_model.classes_)\n",
    "\n",
    "disp_log_reg_test.plot()\n",
    "plt.show()"
   ]
  },
  {
   "cell_type": "markdown",
   "metadata": {},
   "source": [
    "Based on the evaluation of the logistic Regression model above, when viewed from its accuracy, it can be concluded that the model is included in the overfit from the point of view of test. The train accuracy score is 0.81990801876053 while the test score is 0.8273538517574213 which means the test score superior than train score. Meanwhile, when viewed from the Classification report for the train and test the precision, recall, and f1 score of test also superior rather than train except precision in >50K. It is due to False Positive of >50K(Predicted label = >50K, True = <=50K) on test occured more than in train sets. The number of classification mistakes in >50K is more than half of true positive makes this logistic regression model considered not good enough."
   ]
  },
  {
   "cell_type": "markdown",
   "metadata": {},
   "source": [
    "## SVM"
   ]
  },
  {
   "cell_type": "code",
   "execution_count": 194,
   "metadata": {},
   "outputs": [],
   "source": [
    "# Predict SVM model\n",
    "\n",
    "y_pred_train_svm = SVM_model.predict(X_train_final)\n",
    "y_pred_test_svm = SVM_model.predict(X_test_final)"
   ]
  },
  {
   "cell_type": "code",
   "execution_count": 195,
   "metadata": {},
   "outputs": [
    {
     "name": "stdout",
     "output_type": "stream",
     "text": [
      "accuracy score train :  0.8390783661946177\n",
      "accuracy score test :  0.7801857585139319 \n",
      "\n"
     ]
    }
   ],
   "source": [
    "# Display SVM accuracy\n",
    "\n",
    "print('accuracy score train : ',accuracy_score(y_train, y_pred_train_svm))\n",
    "print('accuracy score test : ',accuracy_score(y_test, y_pred_test_svm),'\\n')"
   ]
  },
  {
   "cell_type": "code",
   "execution_count": 196,
   "metadata": {},
   "outputs": [
    {
     "name": "stdout",
     "output_type": "stream",
     "text": [
      "classification report train : \n",
      "               precision    recall  f1-score   support\n",
      "\n",
      "       <=50K       0.87      0.91      0.89     16086\n",
      "        >50K       0.73      0.64      0.68      5875\n",
      "\n",
      "    accuracy                           0.84     21961\n",
      "   macro avg       0.80      0.77      0.79     21961\n",
      "weighted avg       0.83      0.84      0.84     21961\n",
      " \n",
      "\n",
      "classification report test : \n",
      "               precision    recall  f1-score   support\n",
      "\n",
      "       <=50K       0.82      0.91      0.86      4073\n",
      "        >50K       0.61      0.41      0.49      1418\n",
      "\n",
      "    accuracy                           0.78      5491\n",
      "   macro avg       0.71      0.66      0.67      5491\n",
      "weighted avg       0.76      0.78      0.76      5491\n",
      "\n"
     ]
    }
   ],
   "source": [
    "# Display SVM Classification Report\n",
    "\n",
    "print('classification report train : \\n', classification_report(y_train, y_pred_train_svm),'\\n')\n",
    "print('classification report test : \\n', classification_report(y_test, y_pred_test_svm))"
   ]
  },
  {
   "cell_type": "code",
   "execution_count": 197,
   "metadata": {},
   "outputs": [
    {
     "data": {
      "image/png": "[encoded data removed]",
      "text/plain": [
       "<Figure size 432x288 with 2 Axes>"
      ]
     },
     "metadata": {
      "needs_background": "light"
     },
     "output_type": "display_data"
    }
   ],
   "source": [
    "# Display SVM Confusion matrix - Train\n",
    "\n",
    "cm_svm_train = confusion_matrix(y_train, y_pred_train_svm, labels=SVM_model.classes_)\n",
    "disp_svm_train = ConfusionMatrixDisplay(confusion_matrix=cm_svm_train,display_labels=SVM_model.classes_)\n",
    "\n",
    "disp_svm_train.plot()\n",
    "plt.show()"
   ]
  },
  {
   "cell_type": "code",
   "execution_count": 198,
   "metadata": {},
   "outputs": [
    {
     "data": {
      "image/png": "[encoded data removed]",
      "text/plain": [
       "<Figure size 432x288 with 2 Axes>"
      ]
     },
     "metadata": {
      "needs_background": "light"
     },
     "output_type": "display_data"
    }
   ],
   "source": [
    "# Display SVM Confusion matrix - Test\n",
    "\n",
    "cm_svm_test = confusion_matrix(y_test, y_pred_test_svm, labels=SVM_model.classes_)\n",
    "disp_svm_test = ConfusionMatrixDisplay(confusion_matrix=cm_svm_test,display_labels=SVM_model.classes_)\n",
    "\n",
    "disp_svm_test.plot()\n",
    "plt.show()"
   ]
  },
  {
   "cell_type": "markdown",
   "metadata": {},
   "source": [
    "With the same evaluation observations as Logistic Regression, based on its accuracy, the model is said to be overfit from the perspective train. The score obtained with the SVC(C=10, gamma=0.1) model from the train accuracy is 0.8390783661946177 while the test accuracy is 0.7801857585139319. The difference is what makes this SVC model overfit. Meanwhile, from the Classification Report, the difference in precision, recall, and f1-score is very far between the train and the test. The score train in this model is superior in all aspects while the score test is still far from achieving the same score as the train. The big difference is probably caused by capital loss and capital train. In the capital gains and losses in the train the outliers are removed by min and max iqr where previously the max value was changed to 0 so that after the scale the values were all 0. This causes the inability of the train to study the capital gains and losses. So when there are capital gains and losses calculated on the test, the results will not be as precise as those in the train.\n",
    "\n"
   ]
  },
  {
   "cell_type": "markdown",
   "metadata": {},
   "source": [
    "# 9 - Model Inference"
   ]
  },
  {
   "cell_type": "code",
   "execution_count": 199,
   "metadata": {},
   "outputs": [],
   "source": [
    "df_inf.loc[df_inf[\"native_country\"] != \"United-States\", \"native_country\"] = \"Non-United-States\"\n"
   ]
  },
  {
   "cell_type": "code",
   "execution_count": 200,
   "metadata": {},
   "outputs": [],
   "source": [
    "# Split between numerical columns and categorical columns\n",
    "\n",
    "data_inf_num = df_inf[num_columns]\n",
    "data_inf_cat = df_inf[columns_for_OHE]"
   ]
  },
  {
   "cell_type": "code",
   "execution_count": 201,
   "metadata": {},
   "outputs": [
    {
     "data": {
      "text/plain": [
       "array([[0., 0., 1., 0., 0., 0., 0., 0., 0., 1., 0., 0., 0., 0., 0., 0.,\n",
       "        0., 1., 0., 0., 0., 0., 0., 0., 0., 0., 0., 0., 1., 0., 0., 0.,\n",
       "        0., 1., 0.],\n",
       "       [0., 0., 1., 0., 0., 0., 0., 1., 0., 0., 0., 0., 0., 0., 0., 0.,\n",
       "        0., 0., 0., 0., 0., 0., 0., 0., 0., 0., 0., 1., 0., 0., 0., 1.,\n",
       "        0., 0., 1.],\n",
       "       [0., 0., 1., 0., 0., 0., 0., 0., 0., 1., 0., 0., 0., 0., 0., 0.,\n",
       "        0., 0., 0., 0., 0., 0., 0., 0., 0., 0., 1., 0., 1., 0., 0., 0.,\n",
       "        0., 0., 1.],\n",
       "       [0., 0., 0., 0., 1., 0., 0., 0., 0., 0., 0., 1., 0., 0., 0., 0.,\n",
       "        0., 0., 1., 0., 0., 0., 0., 0., 0., 0., 0., 0., 0., 1., 0., 0.,\n",
       "        0., 1., 0.],\n",
       "       [0., 0., 1., 0., 0., 0., 0., 0., 0., 1., 0., 0., 0., 0., 0., 0.,\n",
       "        0., 0., 0., 0., 0., 1., 0., 0., 0., 0., 0., 0., 1., 0., 0., 0.,\n",
       "        0., 0., 1.],\n",
       "       [0., 0., 1., 0., 0., 0., 0., 0., 0., 0., 0., 1., 0., 0., 0., 0.,\n",
       "        0., 0., 0., 0., 0., 0., 0., 0., 0., 1., 0., 0., 0., 0., 1., 0.,\n",
       "        0., 0., 1.],\n",
       "       [0., 0., 1., 0., 0., 0., 0., 0., 0., 0., 0., 1., 0., 0., 0., 0.,\n",
       "        0., 0., 0., 0., 0., 0., 0., 0., 0., 1., 0., 0., 0., 0., 1., 0.,\n",
       "        0., 0., 1.],\n",
       "       [0., 0., 0., 0., 1., 0., 0., 0., 0., 1., 0., 0., 0., 0., 0., 0.,\n",
       "        0., 0., 0., 0., 0., 0., 0., 1., 0., 0., 0., 0., 0., 0., 0., 0.,\n",
       "        1., 0., 1.],\n",
       "       [0., 0., 0., 0., 1., 0., 0., 0., 0., 1., 0., 0., 0., 0., 0., 0.,\n",
       "        0., 0., 0., 0., 0., 0., 0., 0., 0., 1., 0., 0., 1., 0., 0., 0.,\n",
       "        0., 0., 1.],\n",
       "       [0., 0., 1., 0., 0., 0., 0., 0., 0., 0., 0., 1., 0., 0., 0., 0.,\n",
       "        0., 0., 0., 0., 0., 1., 0., 0., 0., 0., 0., 0., 0., 1., 0., 0.,\n",
       "        0., 1., 0.]])"
      ]
     },
     "execution_count": 201,
     "metadata": {},
     "output_type": "execute_result"
    }
   ],
   "source": [
    "\n",
    "# Feature Scaling and Feature Encoding\n",
    "\n",
    "data_inf_num_scaled = standard_scaler.transform(data_inf_num)\n",
    "data_inf_cat_encoded = OHE_encoder.transform(data_inf_cat).toarray()\n",
    "data_inf_cat_encoded"
   ]
  },
  {
   "cell_type": "code",
   "execution_count": 202,
   "metadata": {},
   "outputs": [
    {
     "data": {
      "text/plain": [
       "array([[ 1.18337225,  1.09685225,  0.        ,  0.        ,  0.77728686,\n",
       "         0.        ,  0.        ,  1.        ,  0.        ,  0.        ,\n",
       "         0.        ,  0.        ,  0.        ,  0.        ,  1.        ,\n",
       "         0.        ,  0.        ,  0.        ,  0.        ,  0.        ,\n",
       "         0.        ,  0.        ,  1.        ,  0.        ,  0.        ,\n",
       "         0.        ,  0.        ,  0.        ,  0.        ,  0.        ,\n",
       "         0.        ,  0.        ,  0.        ,  1.        ,  0.        ,\n",
       "         0.        ,  0.        ,  0.        ,  1.        ,  0.        ],\n",
       "       [ 1.87764452, -0.44482731,  0.        ,  0.        ,  0.34646167,\n",
       "         0.        ,  0.        ,  1.        ,  0.        ,  0.        ,\n",
       "         0.        ,  0.        ,  1.        ,  0.        ,  0.        ,\n",
       "         0.        ,  0.        ,  0.        ,  0.        ,  0.        ,\n",
       "         0.        ,  0.        ,  0.        ,  0.        ,  0.        ,\n",
       "         0.        ,  0.        ,  0.        ,  0.        ,  0.        ,\n",
       "         0.        ,  0.        ,  1.        ,  0.        ,  0.        ,\n",
       "         0.        ,  1.        ,  0.        ,  0.        ,  1.        ],\n",
       "       [-1.20801   , -0.05940742,  0.        ,  0.        , -0.08436351,\n",
       "         0.        ,  0.        ,  1.        ,  0.        ,  0.        ,\n",
       "         0.        ,  0.        ,  0.        ,  0.        ,  1.        ,\n",
       "         0.        ,  0.        ,  0.        ,  0.        ,  0.        ,\n",
       "         0.        ,  0.        ,  0.        ,  0.        ,  0.        ,\n",
       "         0.        ,  0.        ,  0.        ,  0.        ,  0.        ,\n",
       "         0.        ,  1.        ,  0.        ,  1.        ,  0.        ,\n",
       "         0.        ,  0.        ,  0.        ,  0.        ,  1.        ],\n",
       "       [-1.20801   , -0.44482731,  0.        ,  0.        , -1.37683906,\n",
       "         0.        ,  0.        ,  0.        ,  0.        ,  1.        ,\n",
       "         0.        ,  0.        ,  0.        ,  0.        ,  0.        ,\n",
       "         0.        ,  1.        ,  0.        ,  0.        ,  0.        ,\n",
       "         0.        ,  0.        ,  0.        ,  1.        ,  0.        ,\n",
       "         0.        ,  0.        ,  0.        ,  0.        ,  0.        ,\n",
       "         0.        ,  0.        ,  0.        ,  0.        ,  1.        ,\n",
       "         0.        ,  0.        ,  0.        ,  1.        ,  0.        ],\n",
       "       [ 1.4919377 , -0.44482731,  0.        ,  0.        , -1.46300409,\n",
       "         0.        ,  0.        ,  1.        ,  0.        ,  0.        ,\n",
       "         0.        ,  0.        ,  0.        ,  0.        ,  1.        ,\n",
       "         0.        ,  0.        ,  0.        ,  0.        ,  0.        ,\n",
       "         0.        ,  0.        ,  0.        ,  0.        ,  0.        ,\n",
       "         0.        ,  1.        ,  0.        ,  0.        ,  0.        ,\n",
       "         0.        ,  0.        ,  0.        ,  1.        ,  0.        ,\n",
       "         0.        ,  0.        ,  0.        ,  0.        ,  1.        ],\n",
       "       [-1.43943409, -1.98650687,  0.        ,  0.        , -0.7736838 ,\n",
       "         0.        ,  0.        ,  1.        ,  0.        ,  0.        ,\n",
       "         0.        ,  0.        ,  0.        ,  0.        ,  0.        ,\n",
       "         0.        ,  1.        ,  0.        ,  0.        ,  0.        ,\n",
       "         0.        ,  0.        ,  0.        ,  0.        ,  0.        ,\n",
       "         0.        ,  0.        ,  0.        ,  0.        ,  0.        ,\n",
       "         1.        ,  0.        ,  0.        ,  0.        ,  0.        ,\n",
       "         1.        ,  0.        ,  0.        ,  0.        ,  1.        ],\n",
       "       [ 0.18053453, -1.60108698,  0.        ,  0.        , -0.08436351,\n",
       "         0.        ,  0.        ,  1.        ,  0.        ,  0.        ,\n",
       "         0.        ,  0.        ,  0.        ,  0.        ,  0.        ,\n",
       "         0.        ,  1.        ,  0.        ,  0.        ,  0.        ,\n",
       "         0.        ,  0.        ,  0.        ,  0.        ,  0.        ,\n",
       "         0.        ,  0.        ,  0.        ,  0.        ,  0.        ,\n",
       "         1.        ,  0.        ,  0.        ,  0.        ,  0.        ,\n",
       "         1.        ,  0.        ,  0.        ,  0.        ,  1.        ],\n",
       "       [-0.43659637,  1.09685225,  0.        ,  0.        ,  0.77728686,\n",
       "         0.        ,  0.        ,  0.        ,  0.        ,  1.        ,\n",
       "         0.        ,  0.        ,  0.        ,  0.        ,  1.        ,\n",
       "         0.        ,  0.        ,  0.        ,  0.        ,  0.        ,\n",
       "         0.        ,  0.        ,  0.        ,  0.        ,  0.        ,\n",
       "         0.        ,  0.        ,  0.        ,  1.        ,  0.        ,\n",
       "         0.        ,  0.        ,  0.        ,  0.        ,  0.        ,\n",
       "         0.        ,  0.        ,  1.        ,  0.        ,  1.        ],\n",
       "       [-0.51373773, -0.44482731,  0.        ,  0.        , -0.08436351,\n",
       "         0.        ,  0.        ,  0.        ,  0.        ,  1.        ,\n",
       "         0.        ,  0.        ,  0.        ,  0.        ,  1.        ,\n",
       "         0.        ,  0.        ,  0.        ,  0.        ,  0.        ,\n",
       "         0.        ,  0.        ,  0.        ,  0.        ,  0.        ,\n",
       "         0.        ,  0.        ,  0.        ,  0.        ,  0.        ,\n",
       "         1.        ,  0.        ,  0.        ,  1.        ,  0.        ,\n",
       "         0.        ,  0.        ,  0.        ,  0.        ,  1.        ],\n",
       "       [-0.82230318,  1.09685225,  0.        ,  0.        ,  0.1741316 ,\n",
       "         0.        ,  0.        ,  1.        ,  0.        ,  0.        ,\n",
       "         0.        ,  0.        ,  0.        ,  0.        ,  0.        ,\n",
       "         0.        ,  1.        ,  0.        ,  0.        ,  0.        ,\n",
       "         0.        ,  0.        ,  0.        ,  0.        ,  0.        ,\n",
       "         0.        ,  1.        ,  0.        ,  0.        ,  0.        ,\n",
       "         0.        ,  0.        ,  0.        ,  0.        ,  1.        ,\n",
       "         0.        ,  0.        ,  0.        ,  1.        ,  0.        ]])"
      ]
     },
     "execution_count": 202,
     "metadata": {},
     "output_type": "execute_result"
    }
   ],
   "source": [
    "# Concate Numerical Columns and Categorical Columns\n",
    "\n",
    "data_inf_final = np.concatenate([data_inf_num_scaled, data_inf_cat_encoded], axis = 1)\n",
    "data_inf_final"
   ]
  },
  {
   "cell_type": "code",
   "execution_count": 203,
   "metadata": {},
   "outputs": [],
   "source": [
    "# Predict with model\n",
    "y_pred_log_reg_inf = log_reg_model.predict(data_inf_final)\n",
    "y_pred_svm_inf = SVM_model.predict(data_inf_final)"
   ]
  },
  {
   "cell_type": "code",
   "execution_count": 204,
   "metadata": {},
   "outputs": [],
   "source": [
    "# Create DataFrame of Rating's Prediction\n",
    "\n",
    "y_pred_log_reg_inf_df = pd.DataFrame(y_pred_log_reg_inf, columns=['Income bracket - Logistic Prediction'])\n",
    "y_pred_svm_inf_df = pd.DataFrame(y_pred_svm_inf, columns=['Income bracket - SVM Prediction'])"
   ]
  },
  {
   "cell_type": "code",
   "execution_count": 205,
   "metadata": {},
   "outputs": [
    {
     "data": {
      "text/html": [
       "<div>\n",
       "<style scoped>\n",
       "    .dataframe tbody tr th:only-of-type {\n",
       "        vertical-align: middle;\n",
       "    }\n",
       "\n",
       "    .dataframe tbody tr th {\n",
       "        vertical-align: top;\n",
       "    }\n",
       "\n",
       "    .dataframe thead th {\n",
       "        text-align: right;\n",
       "    }\n",
       "</style>\n",
       "<table border=\"1\" class=\"dataframe\">\n",
       "  <thead>\n",
       "    <tr style=\"text-align: right;\">\n",
       "      <th></th>\n",
       "      <th>age</th>\n",
       "      <th>workclass</th>\n",
       "      <th>education</th>\n",
       "      <th>education_num</th>\n",
       "      <th>marital_status</th>\n",
       "      <th>occupation</th>\n",
       "      <th>relationship</th>\n",
       "      <th>race</th>\n",
       "      <th>sex</th>\n",
       "      <th>capital_gain</th>\n",
       "      <th>capital_loss</th>\n",
       "      <th>hours_per_week</th>\n",
       "      <th>native_country</th>\n",
       "      <th>income_bracket</th>\n",
       "      <th>Income bracket - Logistic Prediction</th>\n",
       "      <th>Income bracket - SVM Prediction</th>\n",
       "    </tr>\n",
       "  </thead>\n",
       "  <tbody>\n",
       "    <tr>\n",
       "      <th>0</th>\n",
       "      <td>54</td>\n",
       "      <td>Private</td>\n",
       "      <td>Bachelors</td>\n",
       "      <td>13</td>\n",
       "      <td>Married-civ-spouse</td>\n",
       "      <td>Exec-managerial</td>\n",
       "      <td>Husband</td>\n",
       "      <td>Asian-Pac-Islander</td>\n",
       "      <td>Male</td>\n",
       "      <td>0</td>\n",
       "      <td>0</td>\n",
       "      <td>50</td>\n",
       "      <td>Non-United-States</td>\n",
       "      <td>&gt;50K</td>\n",
       "      <td>&gt;50K</td>\n",
       "      <td>&gt;50K</td>\n",
       "    </tr>\n",
       "    <tr>\n",
       "      <th>1</th>\n",
       "      <td>63</td>\n",
       "      <td>Private</td>\n",
       "      <td>HS-grad</td>\n",
       "      <td>9</td>\n",
       "      <td>Divorced</td>\n",
       "      <td>Transport-moving</td>\n",
       "      <td>Unmarried</td>\n",
       "      <td>White</td>\n",
       "      <td>Male</td>\n",
       "      <td>0</td>\n",
       "      <td>0</td>\n",
       "      <td>45</td>\n",
       "      <td>United-States</td>\n",
       "      <td>&gt;50K</td>\n",
       "      <td>&lt;=50K</td>\n",
       "      <td>&lt;=50K</td>\n",
       "    </tr>\n",
       "    <tr>\n",
       "      <th>2</th>\n",
       "      <td>23</td>\n",
       "      <td>Private</td>\n",
       "      <td>Some-college</td>\n",
       "      <td>10</td>\n",
       "      <td>Married-civ-spouse</td>\n",
       "      <td>Tech-support</td>\n",
       "      <td>Husband</td>\n",
       "      <td>White</td>\n",
       "      <td>Male</td>\n",
       "      <td>0</td>\n",
       "      <td>0</td>\n",
       "      <td>40</td>\n",
       "      <td>United-States</td>\n",
       "      <td>&lt;=50K</td>\n",
       "      <td>&lt;=50K</td>\n",
       "      <td>&lt;=50K</td>\n",
       "    </tr>\n",
       "    <tr>\n",
       "      <th>3</th>\n",
       "      <td>23</td>\n",
       "      <td>Self-emp-not-inc</td>\n",
       "      <td>HS-grad</td>\n",
       "      <td>9</td>\n",
       "      <td>Never-married</td>\n",
       "      <td>Farming-fishing</td>\n",
       "      <td>Not-in-family</td>\n",
       "      <td>White</td>\n",
       "      <td>Male</td>\n",
       "      <td>0</td>\n",
       "      <td>0</td>\n",
       "      <td>25</td>\n",
       "      <td>Non-United-States</td>\n",
       "      <td>&lt;=50K</td>\n",
       "      <td>&lt;=50K</td>\n",
       "      <td>&lt;=50K</td>\n",
       "    </tr>\n",
       "    <tr>\n",
       "      <th>4</th>\n",
       "      <td>58</td>\n",
       "      <td>Private</td>\n",
       "      <td>HS-grad</td>\n",
       "      <td>9</td>\n",
       "      <td>Married-civ-spouse</td>\n",
       "      <td>Other-service</td>\n",
       "      <td>Husband</td>\n",
       "      <td>White</td>\n",
       "      <td>Male</td>\n",
       "      <td>0</td>\n",
       "      <td>0</td>\n",
       "      <td>24</td>\n",
       "      <td>United-States</td>\n",
       "      <td>&lt;=50K</td>\n",
       "      <td>&lt;=50K</td>\n",
       "      <td>&lt;=50K</td>\n",
       "    </tr>\n",
       "    <tr>\n",
       "      <th>5</th>\n",
       "      <td>20</td>\n",
       "      <td>Private</td>\n",
       "      <td>9th</td>\n",
       "      <td>5</td>\n",
       "      <td>Never-married</td>\n",
       "      <td>Sales</td>\n",
       "      <td>Own-child</td>\n",
       "      <td>White</td>\n",
       "      <td>Female</td>\n",
       "      <td>0</td>\n",
       "      <td>0</td>\n",
       "      <td>32</td>\n",
       "      <td>United-States</td>\n",
       "      <td>&lt;=50K</td>\n",
       "      <td>&lt;=50K</td>\n",
       "      <td>&lt;=50K</td>\n",
       "    </tr>\n",
       "    <tr>\n",
       "      <th>6</th>\n",
       "      <td>41</td>\n",
       "      <td>Private</td>\n",
       "      <td>10th</td>\n",
       "      <td>6</td>\n",
       "      <td>Never-married</td>\n",
       "      <td>Sales</td>\n",
       "      <td>Own-child</td>\n",
       "      <td>White</td>\n",
       "      <td>Female</td>\n",
       "      <td>0</td>\n",
       "      <td>0</td>\n",
       "      <td>40</td>\n",
       "      <td>United-States</td>\n",
       "      <td>&lt;=50K</td>\n",
       "      <td>&lt;=50K</td>\n",
       "      <td>&lt;=50K</td>\n",
       "    </tr>\n",
       "    <tr>\n",
       "      <th>7</th>\n",
       "      <td>33</td>\n",
       "      <td>Self-emp-not-inc</td>\n",
       "      <td>Bachelors</td>\n",
       "      <td>13</td>\n",
       "      <td>Married-civ-spouse</td>\n",
       "      <td>Prof-specialty</td>\n",
       "      <td>Wife</td>\n",
       "      <td>White</td>\n",
       "      <td>Female</td>\n",
       "      <td>0</td>\n",
       "      <td>0</td>\n",
       "      <td>50</td>\n",
       "      <td>United-States</td>\n",
       "      <td>&gt;50K</td>\n",
       "      <td>&gt;50K</td>\n",
       "      <td>&gt;50K</td>\n",
       "    </tr>\n",
       "    <tr>\n",
       "      <th>8</th>\n",
       "      <td>32</td>\n",
       "      <td>Self-emp-not-inc</td>\n",
       "      <td>HS-grad</td>\n",
       "      <td>9</td>\n",
       "      <td>Married-civ-spouse</td>\n",
       "      <td>Sales</td>\n",
       "      <td>Husband</td>\n",
       "      <td>White</td>\n",
       "      <td>Male</td>\n",
       "      <td>0</td>\n",
       "      <td>0</td>\n",
       "      <td>40</td>\n",
       "      <td>United-States</td>\n",
       "      <td>&lt;=50K</td>\n",
       "      <td>&lt;=50K</td>\n",
       "      <td>&lt;=50K</td>\n",
       "    </tr>\n",
       "    <tr>\n",
       "      <th>9</th>\n",
       "      <td>28</td>\n",
       "      <td>Private</td>\n",
       "      <td>Bachelors</td>\n",
       "      <td>13</td>\n",
       "      <td>Never-married</td>\n",
       "      <td>Other-service</td>\n",
       "      <td>Not-in-family</td>\n",
       "      <td>White</td>\n",
       "      <td>Male</td>\n",
       "      <td>0</td>\n",
       "      <td>0</td>\n",
       "      <td>43</td>\n",
       "      <td>Non-United-States</td>\n",
       "      <td>&lt;=50K</td>\n",
       "      <td>&lt;=50K</td>\n",
       "      <td>&lt;=50K</td>\n",
       "    </tr>\n",
       "  </tbody>\n",
       "</table>\n",
       "</div>"
      ],
      "text/plain": [
       "   age         workclass     education  education_num      marital_status  \\\n",
       "0   54           Private     Bachelors             13  Married-civ-spouse   \n",
       "1   63           Private       HS-grad              9            Divorced   \n",
       "2   23           Private  Some-college             10  Married-civ-spouse   \n",
       "3   23  Self-emp-not-inc       HS-grad              9       Never-married   \n",
       "4   58           Private       HS-grad              9  Married-civ-spouse   \n",
       "5   20           Private           9th              5       Never-married   \n",
       "6   41           Private          10th              6       Never-married   \n",
       "7   33  Self-emp-not-inc     Bachelors             13  Married-civ-spouse   \n",
       "8   32  Self-emp-not-inc       HS-grad              9  Married-civ-spouse   \n",
       "9   28           Private     Bachelors             13       Never-married   \n",
       "\n",
       "         occupation   relationship                race     sex  capital_gain  \\\n",
       "0   Exec-managerial        Husband  Asian-Pac-Islander    Male             0   \n",
       "1  Transport-moving      Unmarried               White    Male             0   \n",
       "2      Tech-support        Husband               White    Male             0   \n",
       "3   Farming-fishing  Not-in-family               White    Male             0   \n",
       "4     Other-service        Husband               White    Male             0   \n",
       "5             Sales      Own-child               White  Female             0   \n",
       "6             Sales      Own-child               White  Female             0   \n",
       "7    Prof-specialty           Wife               White  Female             0   \n",
       "8             Sales        Husband               White    Male             0   \n",
       "9     Other-service  Not-in-family               White    Male             0   \n",
       "\n",
       "   capital_loss  hours_per_week     native_country income_bracket  \\\n",
       "0             0              50  Non-United-States           >50K   \n",
       "1             0              45      United-States           >50K   \n",
       "2             0              40      United-States          <=50K   \n",
       "3             0              25  Non-United-States          <=50K   \n",
       "4             0              24      United-States          <=50K   \n",
       "5             0              32      United-States          <=50K   \n",
       "6             0              40      United-States          <=50K   \n",
       "7             0              50      United-States           >50K   \n",
       "8             0              40      United-States          <=50K   \n",
       "9             0              43  Non-United-States          <=50K   \n",
       "\n",
       "  Income bracket - Logistic Prediction Income bracket - SVM Prediction  \n",
       "0                                 >50K                            >50K  \n",
       "1                                <=50K                           <=50K  \n",
       "2                                <=50K                           <=50K  \n",
       "3                                <=50K                           <=50K  \n",
       "4                                <=50K                           <=50K  \n",
       "5                                <=50K                           <=50K  \n",
       "6                                <=50K                           <=50K  \n",
       "7                                 >50K                            >50K  \n",
       "8                                <=50K                           <=50K  \n",
       "9                                <=50K                           <=50K  "
      ]
     },
     "execution_count": 205,
     "metadata": {},
     "output_type": "execute_result"
    }
   ],
   "source": [
    "# Concate prediction to raw inference data table\n",
    "\n",
    "df_inf_with_pred = pd.concat([df_inf, y_pred_log_reg_inf_df, y_pred_svm_inf_df], axis = 1)\n",
    "df_inf_with_pred"
   ]
  },
  {
   "cell_type": "code",
   "execution_count": 206,
   "metadata": {},
   "outputs": [
    {
     "data": {
      "text/html": [
       "<div>\n",
       "<style scoped>\n",
       "    .dataframe tbody tr th:only-of-type {\n",
       "        vertical-align: middle;\n",
       "    }\n",
       "\n",
       "    .dataframe tbody tr th {\n",
       "        vertical-align: top;\n",
       "    }\n",
       "\n",
       "    .dataframe thead th {\n",
       "        text-align: right;\n",
       "    }\n",
       "</style>\n",
       "<table border=\"1\" class=\"dataframe\">\n",
       "  <thead>\n",
       "    <tr style=\"text-align: right;\">\n",
       "      <th></th>\n",
       "      <th>income_bracket</th>\n",
       "      <th>Income bracket - Logistic Prediction</th>\n",
       "      <th>Income bracket - SVM Prediction</th>\n",
       "    </tr>\n",
       "  </thead>\n",
       "  <tbody>\n",
       "    <tr>\n",
       "      <th>0</th>\n",
       "      <td>&gt;50K</td>\n",
       "      <td>&gt;50K</td>\n",
       "      <td>&gt;50K</td>\n",
       "    </tr>\n",
       "    <tr>\n",
       "      <th>1</th>\n",
       "      <td>&gt;50K</td>\n",
       "      <td>&lt;=50K</td>\n",
       "      <td>&lt;=50K</td>\n",
       "    </tr>\n",
       "    <tr>\n",
       "      <th>2</th>\n",
       "      <td>&lt;=50K</td>\n",
       "      <td>&lt;=50K</td>\n",
       "      <td>&lt;=50K</td>\n",
       "    </tr>\n",
       "    <tr>\n",
       "      <th>3</th>\n",
       "      <td>&lt;=50K</td>\n",
       "      <td>&lt;=50K</td>\n",
       "      <td>&lt;=50K</td>\n",
       "    </tr>\n",
       "    <tr>\n",
       "      <th>4</th>\n",
       "      <td>&lt;=50K</td>\n",
       "      <td>&lt;=50K</td>\n",
       "      <td>&lt;=50K</td>\n",
       "    </tr>\n",
       "    <tr>\n",
       "      <th>5</th>\n",
       "      <td>&lt;=50K</td>\n",
       "      <td>&lt;=50K</td>\n",
       "      <td>&lt;=50K</td>\n",
       "    </tr>\n",
       "    <tr>\n",
       "      <th>6</th>\n",
       "      <td>&lt;=50K</td>\n",
       "      <td>&lt;=50K</td>\n",
       "      <td>&lt;=50K</td>\n",
       "    </tr>\n",
       "    <tr>\n",
       "      <th>7</th>\n",
       "      <td>&gt;50K</td>\n",
       "      <td>&gt;50K</td>\n",
       "      <td>&gt;50K</td>\n",
       "    </tr>\n",
       "    <tr>\n",
       "      <th>8</th>\n",
       "      <td>&lt;=50K</td>\n",
       "      <td>&lt;=50K</td>\n",
       "      <td>&lt;=50K</td>\n",
       "    </tr>\n",
       "    <tr>\n",
       "      <th>9</th>\n",
       "      <td>&lt;=50K</td>\n",
       "      <td>&lt;=50K</td>\n",
       "      <td>&lt;=50K</td>\n",
       "    </tr>\n",
       "  </tbody>\n",
       "</table>\n",
       "</div>"
      ],
      "text/plain": [
       "  income_bracket Income bracket - Logistic Prediction  \\\n",
       "0           >50K                                 >50K   \n",
       "1           >50K                                <=50K   \n",
       "2          <=50K                                <=50K   \n",
       "3          <=50K                                <=50K   \n",
       "4          <=50K                                <=50K   \n",
       "5          <=50K                                <=50K   \n",
       "6          <=50K                                <=50K   \n",
       "7           >50K                                 >50K   \n",
       "8          <=50K                                <=50K   \n",
       "9          <=50K                                <=50K   \n",
       "\n",
       "  Income bracket - SVM Prediction  \n",
       "0                            >50K  \n",
       "1                           <=50K  \n",
       "2                           <=50K  \n",
       "3                           <=50K  \n",
       "4                           <=50K  \n",
       "5                           <=50K  \n",
       "6                           <=50K  \n",
       "7                            >50K  \n",
       "8                           <=50K  \n",
       "9                           <=50K  "
      ]
     },
     "execution_count": 206,
     "metadata": {},
     "output_type": "execute_result"
    }
   ],
   "source": [
    "# Display the comparison for actual and prediction\n",
    "\n",
    "df_inf_with_pred[['income_bracket','Income bracket - Logistic Prediction','Income bracket - SVM Prediction']]"
   ]
  },
  {
   "cell_type": "markdown",
   "metadata": {},
   "source": [
    "Based on Inference mode there are only 1 data which consider as missclassification. So the true score for inference in both Logistic Regression and SVM model is 9/10."
   ]
  },
  {
   "cell_type": "markdown",
   "metadata": {},
   "source": [
    "# 11 - Conclusion"
   ]
  },
  {
   "cell_type": "markdown",
   "metadata": {},
   "source": [
    "Based on Exploratory Data Analysis we can conclude that:\n",
    "- There are give datas which need to be categorized. A total of 20536 workers whose income group is less or equal than $50000. While the remaining 7436 income groups are more than $50000. It can be said that the data between 'income_bracket' less or equal $50000 (<= 50K) and more than $50000 (> 50K) are very imbalanced which is accurate because based on real case not many people consider as wealthy.\n",
    "- In both income groups, each group is dominated by male. It can be concluded that the data is mostly fulfilled by male. This could be because male usually have more responsibility to earn a living for their families rather than female. Most of the adult category who has source income is Married-civ-spouse and a husband.\n",
    "- What distinguishes between female and male later is the status in marriage (wife or husband). Because if not married then both are considered the same. For this reason, sex in general will not really affect the income bracket.\n",
    "- The most income earners of more than 50K still fall on Married-civ-spouse and Husband. The others comparison of income bracket also seem significant except for wife in relationship category.\n",
    "- The most dominating race is Caucasian (White) in both income bracket group. But since white is the largest race from the dataset this is understandable because the race is the most numerous in the US. From the comparison itself, it can be said that it is significant between the two income brackets in each race. \n",
    "- Race is not a measure of income especially in this era. Usually this race is only a grouping identity based on individual description.\n",
    "- The data also contains various educational background of each adult. The most graduates background are from high school, followed by bachelors. While the least graduates are from preschool. It can be concluded that the adult in the dataset are considered well educated. But still the adult whos income more than $50000 still lesser in each education background. The portion of income bracket for each graduate is quite significant except preschool which does not have more than $50000 income bracket.\n",
    "- From the scatter plot, the age and number of hours worked per week are uncertain. Almost all age has various working hour per week. Younger and elder has fewer working hour per week if being compared with adult in between 20's and 60's. It is most likely because of the retirement (late 60's) while the younger (17-19 years old) tend to work only as part-time job so the entire hours and age has growth and decline phase at certain age.\n",
    "- As for income bracket, the distribution are very random but the more than $50000 income group is dominant in between 30's until mid 60's.\n",
    "- If based on the workclass, most adults work for private companies. Each workclass mostly has an income bracket less than equal $50K except for Self-employees. More than half of Self-employee income bracket are more than $50000. At last there are without pay and Never worked. Both of those workclass are very few in number even none of them has income more than $50000. This class indicates that there are people who willing to working without pay, probably a volunteers or interns. Also it is very understandable why does both worklass do not have anyone who has income more than $50000.\n",
    "- Most adults work in the Prof-Specialty field, but the income bracket of more than $50000 is mostly owned by adults who working as Executive Managerial. More than half of executive income are more than $50000. Considering the workload and responsibility it is pretty justable. There are also (?) and armed forces occupation at the last order but only in the small amount so it looks almost invisible. It also explained why not many people interested in joining army or forces.\n",
    "- All ages and working hours have different income groups. Doesn't matter how much hour people working and how old they are the income are uncertain. In logistic regression it is harder to classifying the class with current situation.\n",
    "- Supposed a person who obtained more capitall gain has more income and people who loss more capital has less income but it is not happen in the current dataset. There could be people who already has large income who loss their capital still can have large income because this person already have planning. Meanwhile in capital gain, several of people gained a large capital but the income is still less than $50000, there are several other factors that may influence current situation.\n",
    "\n",
    "There is no significant grouping that defines that the individual has an income bracket of more or less than $50000. However, because this grouping only defines that a person is classified as wealthy or not, if there is an error, it will not have too much negative impact on the individual who is misclassified. however, for the determination of the income bracket, the selected features are age, workclass, education_num, marital-status, occupation, relationship, capital-gain, capital-loss, hours-per-week, and native-country. The data on the feature is then scaled with standard scaler for numerical data types and encoding with One Hot Encoder for categorical data types.\n"
   ]
  },
  {
   "cell_type": "markdown",
   "metadata": {},
   "source": [
    "After doing modelling, based on the evaluation of the logistic Regression model, the train accuracy score obtained is 0.81990801876053 while the test score is 0.8273538517574213 which means the test score superior than train score. It can be concluded that the model is included in the overfit from the prespective of test.\n",
    "\n",
    "Meanwhile, when viewed from the Classification report for the train and test in Logistic Model, the precision, recall, and f1 score of test also superior rather than train except precision in >50K. The each score for the train are: \n",
    "\n",
    "               precision    recall  f1-score   support\n",
    "\n",
    "       <=50K       0.85      0.91      0.88     16086\n",
    "        >50K       0.70      0.58      0.63      5875\n",
    "\n",
    "While the test are :\n",
    "\n",
    "               precision    recall  f1-score   support\n",
    "\n",
    "       <=50K       0.85      0.91      0.88     16086\n",
    "        >50K       0.70      0.58      0.63      5875\n",
    "\n",
    "\n",
    "Beside Logistic, based on the evaluation of the SVM, the obtained accuracy score for train score are 0.8390783661946177 while the test are 0.7801857585139319. This model also considered overfit but in the prespective of train. Meanwhile, from the Classification Report, the difference in precision, recall, and f1-score is very far between the train and the test. The score train in this model is superior in all aspects.\n",
    "Here are the results of the train from the SVM model:\n",
    "\n",
    "                precision    recall  f1-score   support\n",
    "\n",
    "       <=50K       0.87      0.91      0.89     16086\n",
    "        >50K       0.73      0.64      0.68      5875\n",
    "\n",
    "\n",
    "And here are the results of the train.\n",
    "\n",
    "               precision    recall  f1-score   support\n",
    "\n",
    "       <=50K       0.82      0.91      0.86      4073\n",
    "        >50K       0.61      0.41      0.49      1418\n",
    "\n",
    "\n",
    "If needed, the model that can be used is the Logistics one because the model train and test evaluation score is closer than the SVM. With limited time and hardware specs, the results of the model are considered not optimal because there are still many missclassifications. In the future, other experiments with various can be carried out if the hyperparameters tried are less than optimal. \n"
   ]
  },
  {
   "cell_type": "markdown",
   "metadata": {},
   "source": [
    "## 1. What is meant by coefficient in logistic regression?"
   ]
  },
  {
   "cell_type": "markdown",
   "metadata": {},
   "source": [
    "Like Regression in general, logistic regression has a coefficient and an intercept. Based on logistic model from our current case :"
   ]
  },
  {
   "cell_type": "code",
   "execution_count": 207,
   "metadata": {},
   "outputs": [
    {
     "data": {
      "text/plain": [
       "array([[ 0.19004806,  0.38896339,  0.        ,  0.        ,  0.20239038,\n",
       "         0.31436141, -0.0475771 ,  0.08353098,  0.20524416, -0.14020646,\n",
       "        -0.10926364, -0.76348349, -0.33153747,  0.8442059 ,  0.80701618,\n",
       "        -0.41787301, -0.55707385, -0.42694021, -0.37519169,  0.02557102,\n",
       "        -0.06897765,  0.10430052,  0.45254298, -0.4511207 , -0.27832095,\n",
       "        -0.13491358, -0.38663058, -0.90412745,  0.30054294,  0.3378802 ,\n",
       "         0.20802267,  0.33399871,  0.00383775, -0.12073269,  0.09971002,\n",
       "        -0.48860351, -0.09324101,  0.14547305, -0.30421721, -0.15317693]])"
      ]
     },
     "execution_count": 207,
     "metadata": {},
     "output_type": "execute_result"
    }
   ],
   "source": [
    "log_reg_model.coef_"
   ]
  },
  {
   "cell_type": "code",
   "execution_count": 208,
   "metadata": {},
   "outputs": [
    {
     "data": {
      "text/plain": [
       "array([-0.97895365])"
      ]
     },
     "execution_count": 208,
     "metadata": {},
     "output_type": "execute_result"
    }
   ],
   "source": [
    "log_reg_model.intercept_"
   ]
  },
  {
   "cell_type": "markdown",
   "metadata": {},
   "source": [
    "We were to classified whether the adult has an income bracket that is less or equal than $50000 or more than %50000 based on the given dataset. However, unlike linear, logistic regression has the following formula:"
   ]
  },
  {
   "cell_type": "markdown",
   "metadata": {},
   "source": [
    "<img src = \"https://quantifyinghealth.com/wp-content/uploads/2021/05/Logistic-regression-equation.png\">"
   ]
  },
  {
   "cell_type": "markdown",
   "metadata": {},
   "source": [
    "<p> P : probability of having the outcome\n",
    "<p> P / (1-P) : odds of the outcome.\n",
    "\n",
    "So, from those log(P/1-p) we can get the target or y value because our y value is replaced by those probability log equation. In this case our answer is in the form binary (0 or 1) because probability range is no less than 0 and no more than 1. Our classification is either its less or equal than $50000 or more than %50000. \n",
    "\n",
    "We interpreting the logistic regression based on linear because if the log(P/1-p) is calculated we wiil get the y value in linear form so we can understand more about the logistic regression concept. Same as coeficient based on linear regression (y = B0 + BX) which determined the slope of the data but with the logistic regression it will showed the probaility where the data will change the class. If we calculate intercept and other coefficitent we will get those log(P/1-p) result to determined the probability for each individual. At the end we must obtain those P (Probability).\n",
    "\n",
    "Note :\n",
    "The larger B0 + BX, the P value will close into 1 and vice versa."
   ]
  },
  {
   "cell_type": "markdown",
   "metadata": {},
   "source": [
    "## 2. What is a Support Vector in SVM?"
   ]
  },
  {
   "cell_type": "markdown",
   "metadata": {},
   "source": [
    "Similiar with Logistic Regression, Support Vector Machine (SVM) is one of the methods in supervised learning for classification. SVM is used to find the best hyperplane by maximizing the distance between classes. Hyperplane itself is margin between support vector divided by 2. This means that the support vector is tangent to the hyperplane in each class. They are also called vectors instead of points because they have as many elements as there are dimensions to input space. So we can conclude that Support vectors are the points that define the maximum margin of separation of the hyperplane that separates the classes. "
   ]
  },
  {
   "cell_type": "markdown",
   "metadata": {},
   "source": [
    "<img src = \"https://miro.medium.com/max/1400/1*ikAtK9PHxDH1xDvaXEUKTw.png\">"
   ]
  },
  {
   "cell_type": "markdown",
   "metadata": {},
   "source": [
    "## 3. What is the function of kernel parameters on SVM? Explain one kernel that you understand!"
   ]
  },
  {
   "cell_type": "markdown",
   "metadata": {},
   "source": [
    "Kernels on the Support Vector Machine are usually linear, polynomial, and Radial Basic Function (RBF). SVM generally separates hyperplanes linearly, but not all classes can be separated by linear hyperplanes. For that there are two other kernel functions, namely polynomial and RBF. In addition to these functions, there are general parameters that can be set manually, namely Cost (C), and Gamma. The cost or C is an optimized error parameter whose main purpose is classifying the training points correctly. C which is too small causes misclassification because the margin is too wide. While C that is too high will cause the generalization of the classifier (algorithm) to be lost because the margin is too small. Gamma is how far the influence from one sample to the hyperplane. If the gamma is too small then the point farthest from the hyperplane will be the decision boundaries. Meanwhile, if the gamma is too high, only the closest point becomes the decision boundaries. So a good model is a model that has optimal hyperparameters.\n",
    "\n",
    "One of the widely used kernel is Radial Basic Function (RBF). Kernel RBF is a kernel function used when data cannot be separated linearly. This kernel is the most common form of kernelization and is one of the most widely used kernels due to its similarity to the Gaussian distribution. I am not understand each of the formula of RBF since my background is not mathematics or statistics but in RBF there are gamma or sigma parameter which control the linearity of the model. RBF can also create more complex models as decision boundaries so that data sets can be classified more accurately. For this reason, this kernel has become the default in  SVC models and is generally used the most.\n",
    "\n",
    "Reeference : https://www.trivusi.web.id/2022/04/fungsi-kernel-svm.html\n"
   ]
  }
 ],
 "metadata": {
  "kernelspec": {
   "display_name": "Python 3.9.12 ('base')",
   "language": "python",
   "name": "python3"
  },
  "language_info": {
   "codemirror_mode": {
    "name": "ipython",
    "version": 3
   },
   "file_extension": ".py",
   "mimetype": "text/x-python",
   "name": "python",
   "nbconvert_exporter": "python",
   "pygments_lexer": "ipython3",
   "version": "3.9.12"
  },
  "orig_nbformat": 4,
  "vscode": {
   "interpreter": {
    "hash": "5c1b007f0df996ff21572431fa470bbbd2757d7d38c434d994b25fbad50f849f"
   }
  }
 },
 "nbformat": 4,
 "nbformat_minor": 2
}
